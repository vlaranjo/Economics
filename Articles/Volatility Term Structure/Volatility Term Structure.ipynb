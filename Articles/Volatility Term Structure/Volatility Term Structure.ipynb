{
 "cells": [
  {
   "cell_type": "markdown",
   "id": "4b889dc9",
   "metadata": {},
   "source": [
    "# Import Libraries"
   ]
  },
  {
   "cell_type": "code",
   "execution_count": null,
   "id": "98864e3d",
   "metadata": {},
   "outputs": [],
   "source": [
    "#Download Data from CBOE\n",
    "from selenium import webdriver\n",
    "from bs4 import BeautifulSoup\n",
    "\n",
    "#DataFrames manipulation\n",
    "import pandas as pd\n",
    "import numpy as np\n",
    "\n",
    "#Tracking Loop Porgress\n",
    "from tqdm import tqdm\n",
    "\n",
    "#Datetime Utilities\n",
    "from datetime import datetime\n",
    "from datetime import timedelta\n",
    "from pandas.tseries.offsets import CustomBusinessDay\n",
    "from pandas.tseries.holiday import USFederalHolidayCalendar\n",
    "\n",
    "#Data download from Yahoo Finance\n",
    "from yahooquery import Ticker\n",
    "\n",
    "#Function to Calculate the Term Structure's Slope\n",
    "from sklearn.linear_model import LinearRegression\n",
    "\n",
    "#Libraries for the Plotting\n",
    "import holoviews as hv\n",
    "from holoviews import opts, dim\n",
    "from bokeh.models import HoverTool\n",
    "\n",
    "#Librarie to save the plots to html object\n",
    "import panel as pn\n",
    "import param\n",
    "\n",
    "hv.extension('bokeh')"
   ]
  },
  {
   "cell_type": "markdown",
   "id": "c822418c",
   "metadata": {},
   "source": [
    "# Get VIX Futures Term Structure from CBOE"
   ]
  },
  {
   "cell_type": "code",
   "execution_count": null,
   "id": "40d23349",
   "metadata": {
    "scrolled": true
   },
   "outputs": [],
   "source": [
    "#*** Get all the Links related with VIX Futures from CBOE ***\n",
    "\n",
    "#Set up the Selenium web driver\n",
    "driver = webdriver.Chrome()  # You can use another browser's driver if you prefer\n",
    "\n",
    "#URL of the webpage\n",
    "cboe_link = \"https://www.cboe.com/us/futures/market_statistics/historical_data/\"\n",
    "\n",
    "#Open the URL using the web driver\n",
    "driver.get(cboe_link)\n",
    "\n",
    "#Get the page source after JavaScript execution\n",
    "page_source = driver.page_source\n",
    "\n",
    "#Close the web driver\n",
    "driver.quit()\n",
    "\n",
    "#Parse the page source using BeautifulSoup\n",
    "soup = BeautifulSoup(page_source, \"html.parser\")\n",
    "\n",
    "#Find all <a> tags\n",
    "links = soup.find_all(\"a\")\n",
    "\n",
    "#Filter and store the href attributes of the links starting with the specified prefix\n",
    "prefix = \"https://cdn.cboe.com/data/us/futures/market_statistics/historical_data/VX/\"\n",
    "filtered_links = [link.get(\"href\") for link in links if link.get(\"href\") and link.get(\"href\").startswith(prefix)]"
   ]
  },
  {
   "cell_type": "code",
   "execution_count": null,
   "id": "3cd86781",
   "metadata": {},
   "outputs": [],
   "source": [
    "#*** Download the csv files (data) from all the links obtained from CBOE website\n",
    "\n",
    "#Create a New object for the Loop\n",
    "data_frames = []\n",
    "\n",
    "#Loop through the links and read each CSV into a DataFrame\n",
    "for link in tqdm(filtered_links):\n",
    "    df = pd.read_csv(link)\n",
    "    data_frames.append(df)\n",
    "\n",
    "#Concatenate all the DataFrames vertically\n",
    "merged_df = pd.concat(data_frames, ignore_index=True)"
   ]
  },
  {
   "cell_type": "code",
   "execution_count": null,
   "id": "53edb4e6",
   "metadata": {
    "scrolled": false
   },
   "outputs": [],
   "source": [
    "#Create New Object to Get the VIX Futures Curves\n",
    "vix_futures = merged_df\n",
    "\n",
    "#Limit the Dataframe for only the data required\n",
    "vix_futures = vix_futures[['Trade Date', 'Futures', 'Settle']]\n",
    "\n",
    "#Convert Trade Date to datetime format\n",
    "vix_futures['Trade Date'] = pd.to_datetime(vix_futures['Trade Date'])\n",
    "\n",
    "\n",
    "#Change the Values in column Futures to be in Datetime format\n",
    "vix_futures['Futures'] = vix_futures['Futures'].str.extract(r'\\((.*?)\\)')\n",
    "vix_futures['Futures'] =pd.to_datetime(vix_futures['Futures'], format='%b %Y')\n",
    "\n",
    "#Create new row with the Months to Expiry\n",
    "vix_futures['Trade Date Helper'] = vix_futures['Trade Date'].apply(lambda x: x.replace(day=1))\n",
    "vix_futures['Months to Expiry'] = vix_futures.apply(lambda row: (row['Futures'].year - row['Trade Date Helper'].year) * 12 + row['Futures'].month - row['Trade Date Helper'].month, axis=1)\n",
    "\n",
    "#Limit the dataframe for only the necessary columns\n",
    "vix_futures = vix_futures[['Trade Date', 'Months to Expiry', 'Settle']]"
   ]
  },
  {
   "cell_type": "code",
   "execution_count": null,
   "id": "3cc8b17a",
   "metadata": {},
   "outputs": [],
   "source": [
    "#Convert the table to Pivot\n",
    "vix_futures = vix_futures.groupby(['Trade Date', 'Months to Expiry'])['Settle'].last().reset_index()\n",
    "vix_futures = vix_futures.pivot(index='Trade Date', columns='Months to Expiry', values='Settle')\n",
    "\n",
    "# Remove rows that have no values\n",
    "rows_to_remove = vix_futures.apply(lambda row: all(pd.isna(v) or v == 0 for v in row[1:]), axis=1)\n",
    "vix_futures = vix_futures[~rows_to_remove]\n",
    "\n",
    "# Convert cells with value 0 to NaN\n",
    "vix_futures = vix_futures.replace(0, np.nan)"
   ]
  },
  {
   "cell_type": "markdown",
   "id": "c1f9586b",
   "metadata": {},
   "source": [
    "# Create the Dataframe and Graph for the Most Recent VIX Futures Curve"
   ]
  },
  {
   "cell_type": "code",
   "execution_count": null,
   "id": "b3398930",
   "metadata": {},
   "outputs": [],
   "source": [
    "#Most Recent Observation\n",
    "last_vix_futures = pd.DataFrame(vix_futures.iloc[-1]).dropna()"
   ]
  },
  {
   "cell_type": "code",
   "execution_count": null,
   "id": "c170020d",
   "metadata": {},
   "outputs": [],
   "source": [
    "#Instantiate the Dataframe for the Graph\n",
    "graph_df = last_vix_futures.reset_index().rename(columns={last_vix_futures.columns[0]: 'VIX_Curve'})\n",
    "\n",
    "#Create the Graph\n",
    "last_vix_futures_graph = hv.Curve(graph_df).opts(opts.Curve(tools=['hover'])).opts(width=800, height=400, ylabel = 'VIX Level',color = 'red', xticks=10\n",
    "                                                               ).relabel('VIX Term Structure Curve')"
   ]
  },
  {
   "cell_type": "code",
   "execution_count": null,
   "id": "b37a27e5",
   "metadata": {},
   "outputs": [],
   "source": [
    "#Save the Plots\n",
    "p = pn.panel(last_vix_futures_graph)\n",
    "p.save('Latest_VIX_Term_Structure_Curve_Graph.html', embed = True)"
   ]
  },
  {
   "cell_type": "markdown",
   "id": "0eb1c90b",
   "metadata": {},
   "source": [
    "# Create the Dataframe and Graph for the VIX Futures Curves (Last, 1 Month Ago, 1 Year Ago)"
   ]
  },
  {
   "cell_type": "code",
   "execution_count": null,
   "id": "5e8efcf8",
   "metadata": {},
   "outputs": [],
   "source": [
    "# Filter for the latest value\n",
    "latest_date = vix_futures.index.max()\n",
    "latest_value = vix_futures.loc[latest_date]\n",
    "\n",
    "#Define the US business day frequency using the US Federal Holiday calendar\n",
    "us_bd = CustomBusinessDay(calendar=USFederalHolidayCalendar())\n",
    "\n",
    "# Filter for the value one month ago\n",
    "one_month_ago = latest_date -  pd.DateOffset(months=1) - us_bd\n",
    "one_month_ago_value = vix_futures.loc[one_month_ago]\n",
    "\n",
    "# Filter for the value one year ago\n",
    "one_year_ago = latest_date -  pd.DateOffset(months=12) - us_bd\n",
    "one_year_ago_value = vix_futures.loc[one_year_ago]\n",
    "\n",
    "# Create a new DataFrame with the filtered values\n",
    "result_df = pd.concat([latest_value, one_month_ago_value, one_year_ago_value], axis=1)\n",
    "result_df.columns = ['Latest', '1 Month Ago', '1 Year Ago']"
   ]
  },
  {
   "cell_type": "code",
   "execution_count": null,
   "id": "bbfea2cb",
   "metadata": {},
   "outputs": [],
   "source": [
    "#Instantiate the Dataframe for the Graph\n",
    "graph_df = result_df.dropna()\n",
    "graph_df = graph_df.rename(columns = {'Months to Expiry': 'Months_to_Expiry', '1 Month Ago': '1_Month_Ago', \n",
    "                                      '1 Year Ago': '1_Year_Ago', })\n",
    "\n",
    "#Generate all curves\n",
    "def getCurves(n):\n",
    "    for column in graph_df.columns:\n",
    "        hover = HoverTool(tooltips=[(\"Months_to_Expiry\", \"@Months_to_Expiry\"), ('VIX Level', f\"@{column}\")])  \n",
    "        curve = hv.Curve(graph_df[column], label = column).opts(opts.Curve(tools=[hover]))\n",
    "        yield curve\n",
    "        \n",
    "source_curves, target_curves  = [], []\n",
    "for curve in getCurves(2):\n",
    "    \n",
    "    src = curve.relabel('').opts(width=800, height=100, yaxis=None) \n",
    "    tgt = curve.opts(width=800, ylabel = 'VIX Level', xlabel = 'Months to Expiry')\n",
    "    source_curves.append(src)\n",
    "    target_curves.append(tgt)\n",
    "    \n",
    "#Get the graph with the target curves\n",
    "overlaid_plot_tgt = hv.Overlay(target_curves).relabel('VIX Term Structure Curve: Latest, 1 Month Ago, and 1 Year Ago').opts(\n",
    "    height=400, legend_position='top')\n",
    "\n",
    "# Layout the plot\n",
    "vix_futures_curves_multiple_graph = overlaid_plot_tgt"
   ]
  },
  {
   "cell_type": "code",
   "execution_count": null,
   "id": "38da77f8",
   "metadata": {},
   "outputs": [],
   "source": [
    "#Save the Plots\n",
    "p = pn.panel(vix_futures_curves_multiple_graph)\n",
    "p.save('VIX_Term_Structure_Curve_Multiple_Graph.html', embed = True)"
   ]
  },
  {
   "cell_type": "markdown",
   "id": "7b6a5c1a",
   "metadata": {},
   "source": [
    "# VIX Futures Curves Slope"
   ]
  },
  {
   "cell_type": "code",
   "execution_count": null,
   "id": "b8f5119d",
   "metadata": {
    "scrolled": true
   },
   "outputs": [],
   "source": [
    "#Create New Object to Add the VIX Futures Slope\n",
    "vix_futures_slope = vix_futures\n",
    "\n",
    "slopes = []\n",
    "\n",
    "#Calculate the slopes for each row using linear regression\n",
    "for index, row in vix_futures.iterrows():\n",
    "    valid_row = row.dropna()\n",
    "    if len(valid_row) >= 2:\n",
    "        x = valid_row.index\n",
    "        y = valid_row.values\n",
    "        x = np.array(x).reshape(-1, 1)\n",
    "        y = np.array(y).reshape(-1, 1)\n",
    "\n",
    "        model = LinearRegression()\n",
    "        model.fit(x, y)\n",
    "        slope = model.coef_[0][0]\n",
    "        slopes.append(slope)\n",
    "    else:\n",
    "        slopes.append(np.nan)\n",
    "        \n",
    "#Add the Slope values to the DataFrame\n",
    "vix_futures_slope['Slope'] = slopes\n",
    "\n",
    "#Limit the DataFrame to the \"Slope\" columns and Round it to 2 decimal places\n",
    "vix_futures_slope = pd.DataFrame(vix_futures_slope['Slope'])\n",
    "vix_futures_slope = round(vix_futures_slope, 2)"
   ]
  },
  {
   "cell_type": "code",
   "execution_count": null,
   "id": "a4e7505f",
   "metadata": {},
   "outputs": [],
   "source": [
    "#Instantiate the Dataframe for the Graph\n",
    "graph_df = vix_futures_slope.reset_index()\n",
    "\n",
    "#Create the Graph\n",
    "#hover = HoverTool(tooltips=[(\"Date\", \"@Date{%F}\"), ('Effective_Number_Stocks', f\"@Effective_Number_Stocks\")], formatters={'@Date': 'datetime'})  \n",
    "vix_futures_slope_graph = hv.Curve(graph_df).opts(opts.Curve(tools=['hover'])).opts(width=800, height=400, ylabel = 'VIX Curve Slope',color = 'blue', xticks=10\n",
    "                                                               ).relabel('VIX Term Structure Slope')\n",
    "\n",
    "#Add an Horizontal Line at 0\n",
    "hline = hv.HLine(0).opts(color='black', line_width=1, line_dash='5 5')\n",
    "\n",
    "#Combined Graph\n",
    "vix_futures_slope_graph = vix_futures_slope_graph * hline"
   ]
  },
  {
   "cell_type": "code",
   "execution_count": null,
   "id": "d91bc5f1",
   "metadata": {},
   "outputs": [],
   "source": [
    "#Save the Plots\n",
    "p = pn.panel(vix_futures_slope_graph)\n",
    "p.save('VIX_Term_Structure_Slope_Graph.html', embed = True)"
   ]
  },
  {
   "cell_type": "markdown",
   "id": "10a6e21a",
   "metadata": {},
   "source": [
    "# VIX Futures Curves Slope, Level and S&P 500 Drawdown"
   ]
  },
  {
   "cell_type": "code",
   "execution_count": null,
   "id": "2c7cbd7d",
   "metadata": {},
   "outputs": [],
   "source": [
    "#Download the Data from Yahoo Finance\n",
    "tickers = Ticker('^VIX ^SPX')\n",
    "df = tickers.history(start = '1970-01-01')\n",
    "df = df.reset_index()\n",
    "df = df[['symbol','date', 'close']]\n",
    "\n",
    "#Pivot the Dataframe for S&P 500 and VIX to come as columns\n",
    "df = df.pivot(index='date', columns='symbol', values='close')\n",
    "\n",
    "# Reset Index and change columns names\n",
    "df = df.reset_index()\n",
    "df = df.rename(columns = {'date': 'Date', '^SPX': 'SP500', '^VIX': 'VIX'})\n",
    "\n",
    "#Convert Date column to Datetime\n",
    "df['Date'] = df['Date'].apply(lambda x: pd.to_datetime(datetime.combine(x, datetime.min.time())))"
   ]
  },
  {
   "cell_type": "code",
   "execution_count": null,
   "id": "d2b522ab",
   "metadata": {},
   "outputs": [],
   "source": [
    "#Merge the VIX Futures Slope dataframe with the Dataframe with S&P 500 and VIX Values\n",
    "vix_futures_slope = vix_futures_slope.reset_index().rename(columns = {'Trade Date': 'Date'})\n",
    "full_df = vix_futures_slope.merge(df, on='Date', how='left')\n",
    "\n",
    "#Calculate the Drawdown for the S&P500\n",
    "full_df['Cummax'] = full_df['SP500'].cummax()\n",
    "full_df['Drawdown'] = (full_df['SP500'] - full_df['Cummax']) / full_df['Cummax']\n",
    "full_df['Drawdown'] = round(full_df['Drawdown'] * 100,2)\n",
    "\n",
    "#Keep only Necessary Columns\n",
    "full_df = full_df[['Date','VIX','Slope','Drawdown']]"
   ]
  },
  {
   "cell_type": "code",
   "execution_count": null,
   "id": "ba88cde9",
   "metadata": {},
   "outputs": [],
   "source": [
    "#Create the Graph for VIX\n",
    "vix_graph = hv.Curve(full_df[['Date','VIX']]).opts(opts.Curve(tools=['hover'])).opts(width=800, height=200, ylabel = 'VIX Level',color = 'saddlebrown', xticks=10\n",
    "                                                               ).relabel('VIX Index: Historical Levels')\n",
    "\n",
    "vix_graph = vix_graph * hv.HLine(30).opts(color='black', line_width=1, line_dash='5 5')\n",
    "\n",
    "#Create the Graph for VIX Slope\n",
    "vix_slope_graph = hv.Curve(full_df[['Date','Slope']]).opts(opts.Curve(tools=['hover'])).opts(width=800, height=200, ylabel = 'VIX Slope',color = 'blue', xticks=10\n",
    "                                                               ).relabel('VIX Term Structure Slope: Historical Levels')\n",
    "\n",
    "vix_slope_graph = vix_slope_graph * hv.HLine(0).opts(color='black', line_width=1, line_dash='5 5')\n",
    "\n",
    "#Create the Graph for S&P 500 Drawdown\n",
    "sp500_dd_graph = hv.Curve(full_df[['Date','Drawdown']]).opts(opts.Curve(tools=['hover'])).opts(width=800, height=200, ylabel = 'S&P 500 Drawdown (%)',color = 'red', xticks=10\n",
    "                                                               ).relabel('S&P 500® Index: Historical Drawdown')\n",
    "\n",
    "sp500_dd_graph = sp500_dd_graph * hv.HLine(0).opts(color='black', line_width=1, line_dash='5 5')\n",
    "\n",
    "#Overlay the 3 graphs\n",
    "full_graph_final = (vix_graph + vix_slope_graph + sp500_dd_graph).cols(1)"
   ]
  },
  {
   "cell_type": "code",
   "execution_count": null,
   "id": "87262533",
   "metadata": {},
   "outputs": [],
   "source": [
    "#Save the Plots\n",
    "p = pn.panel(full_graph_final)\n",
    "p.save('VIX_Term_Structure_Final_Graph.html', embed = True)"
   ]
  }
 ],
 "metadata": {
  "kernelspec": {
   "display_name": "Python_3.9",
   "language": "python",
   "name": "python_3.9"
  },
  "language_info": {
   "codemirror_mode": {
    "name": "ipython",
    "version": 3
   },
   "file_extension": ".py",
   "mimetype": "text/x-python",
   "name": "python",
   "nbconvert_exporter": "python",
   "pygments_lexer": "ipython3",
   "version": "3.9.13"
  }
 },
 "nbformat": 4,
 "nbformat_minor": 5
}
