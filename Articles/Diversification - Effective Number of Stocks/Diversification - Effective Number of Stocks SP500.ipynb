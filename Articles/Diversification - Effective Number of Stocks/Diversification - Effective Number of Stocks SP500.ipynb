{
 "cells": [
  {
   "cell_type": "markdown",
   "id": "42f365e0",
   "metadata": {},
   "source": [
    "# Import Libraries"
   ]
  },
  {
   "cell_type": "code",
   "execution_count": null,
   "id": "8366c51c",
   "metadata": {},
   "outputs": [],
   "source": [
    "#DataFrames manipulation\n",
    "import pandas as pd\n",
    "\n",
    "#Data download from Yahoo Finance\n",
    "from yahooquery import Ticker\n",
    "\n",
    "#Libraries for the Plotting\n",
    "import holoviews as hv\n",
    "from holoviews import opts, dim\n",
    "from holoviews.plotting.links import RangeToolLink\n",
    "from bokeh.models import HoverTool\n",
    "\n",
    "#Librarie to save the plots to html object\n",
    "import panel as pn\n",
    "import param\n",
    "\n",
    "hv.extension('bokeh')"
   ]
  },
  {
   "cell_type": "markdown",
   "id": "38a4be4f",
   "metadata": {},
   "source": [
    "# RSP vs. IVV - Performance"
   ]
  },
  {
   "cell_type": "code",
   "execution_count": null,
   "id": "b88f70e1",
   "metadata": {},
   "outputs": [],
   "source": [
    "#Download the Data from Yahoo Finance\n",
    "tickers = Ticker('IVV RSP')\n",
    "df = tickers.history(start = '2022-05-27')\n",
    "\n",
    "#Reorganize the Dataframe\n",
    "df = df.reset_index()\n",
    "df = df.pivot(index='date', columns='symbol', values='close').reset_index()\n",
    "df.columns = ['date', 'IVV', 'RSP']\n",
    "df = df.rename(columns = {'date':'Date'})\n",
    "df = df.set_index('Date')\n",
    "\n",
    "#Calculate the cummultive Returns and then the indexed performance with base 100\n",
    "df = df.pct_change() * 100\n",
    "df = round(100 * (1 + df / 100).cumprod(), 2)\n",
    "df = df.fillna(100)\n",
    "\n",
    "#Add the relative performance of IVV and RSP\n",
    "df['IVV_over_RSP'] = df['IVV'] / df['RSP'] * 100"
   ]
  },
  {
   "cell_type": "code",
   "execution_count": null,
   "id": "6dc32b6e",
   "metadata": {},
   "outputs": [],
   "source": [
    "#Instantiate the Dataframe for the Graph\n",
    "graph_df = df\n",
    "\n",
    "#Generate all curves\n",
    "def getCurves(n):\n",
    "    for column in graph_df.columns:\n",
    "        hover = HoverTool(tooltips=[(\"Date\", \"@Date{%F}\"), (column, f\"@{column+'{0,.00}'}\")], formatters={'@Date': 'datetime'})  \n",
    "        curve = hv.Curve(graph_df[column], label = column).opts(opts.Curve(tools=[hover]))\n",
    "        curve = curve.opts(xticks=10)\n",
    "        yield curve\n",
    "        \n",
    "source_curves, target_curves  = [], []\n",
    "for curve in getCurves(2):\n",
    "    \n",
    "    src = curve.relabel('').opts(width=800, height=100, yaxis=None) \n",
    "    tgt = curve.opts(width=800, ylabel = 'Index (Base=100)')\n",
    "    source_curves.append(src)\n",
    "    target_curves.append(tgt)\n",
    "\n",
    "# Link RangeTool for the first curves in the list.\n",
    "RangeToolLink(source_curves[0],target_curves[0], axes=['x','y'])  \n",
    "\n",
    "#Overlay the source and target curves \n",
    "overlaid_plot_src = hv.Overlay(source_curves).relabel('')\n",
    "overlaid_plot_tgt = hv.Overlay(target_curves)\n",
    "\n",
    "overlaid_plot_tgt = overlaid_plot_tgt.relabel('iShares Core S&P 500® ETF (IVV) vs. Invesco S&P 500® Equal Weight ETF (RSP)').opts(\n",
    "    height=400, legend_position='top')\n",
    "\n",
    "# Layout the plot\n",
    "full_graph = (overlaid_plot_tgt + overlaid_plot_src).cols(1)\n",
    "full_graph = full_graph.opts(merge_tools=False, shared_axes=False)"
   ]
  },
  {
   "cell_type": "code",
   "execution_count": null,
   "id": "9bb6cdfb",
   "metadata": {},
   "outputs": [],
   "source": [
    "#Save graph to Html\n",
    "p = pn.panel(full_graph)\n",
    "p.save('RSP_vs_IVV_Graph.html', embed = True)"
   ]
  },
  {
   "cell_type": "markdown",
   "id": "53165ace",
   "metadata": {},
   "source": [
    "# Current Top 10 Holdings of IVV and RSP"
   ]
  },
  {
   "cell_type": "code",
   "execution_count": null,
   "id": "d8d55da3",
   "metadata": {},
   "outputs": [],
   "source": [
    "#Download the data from iShares\n",
    "url = 'https://www.ishares.com/us/products/239726/ishares-core-sp-500-etf/1467271812596.ajax?fileType=csv&fileName=IVV_holdings&dataType=fund'\n",
    "curr_ivv_df = pd.read_csv(url, skiprows=9, delimiter=',', error_bad_lines=False)\n",
    "\n",
    "#Limit the data for the Top 10 [will sum GOOGL with GOOG]\n",
    "curr_top10_ivv_df = curr_ivv_df[:11]\n",
    "\n",
    "#Keep only relevant columns\n",
    "curr_top10_ivv_df = curr_top10_ivv_df[['Ticker', 'Name', 'Weight (%)']]\n",
    "\n",
    "#Change the Ticker of Berkshire\n",
    "curr_top10_ivv_df.loc[7, 'Ticker'] = 'BRK-B'"
   ]
  },
  {
   "cell_type": "code",
   "execution_count": null,
   "id": "b0c1472c",
   "metadata": {},
   "outputs": [],
   "source": [
    "#Download the data from iShares\n",
    "url = 'https://www.invesco.com/us/financial-products/etfs/holdings/main/holdings/0?audienceType=Investor&action=download&ticker=RSP'\n",
    "curr_rsp_df = pd.read_csv(url)\n",
    "\n",
    "#Limit the columns of the DataFrame\n",
    "curr_rsp_df = curr_rsp_df[['Holding Ticker', 'Weight']]\n",
    "\n",
    "#Rename the columns\n",
    "curr_rsp_df = curr_rsp_df.rename(columns = {'Holding Ticker': 'Ticker'})\n",
    "\n",
    "#Round the Weight to 2 decimal cases\n",
    "curr_rsp_df['Weight'] = round(curr_rsp_df['Weight'], 2)\n",
    "\n",
    "#Take off the spaces from column Ticker\n",
    "curr_rsp_df['Ticker'] = curr_rsp_df['Ticker'].str.replace(' ', '')\n",
    "\n",
    "#Change the Ticker of Berkshire\n",
    "curr_rsp_df['Ticker'] = curr_rsp_df['Ticker'].str.replace('BRK/B', 'BRK-B')"
   ]
  },
  {
   "cell_type": "code",
   "execution_count": null,
   "id": "c9b38c1d",
   "metadata": {},
   "outputs": [],
   "source": [
    "#Merge both dataframes\n",
    "curr_top10_complete = curr_top10_ivv_df.merge(curr_rsp_df, on = 'Ticker', how = 'left')\n",
    "\n",
    "#Change the headers\n",
    "curr_top10_complete = curr_top10_complete.rename(columns = {'Weight (%)': 'IVV', 'Weight': 'RSP'})\n",
    "\n",
    "#Sum GOOGL and GOOG, drop GOOG, and change the name for 'Class' not to appear \n",
    "curr_top10_complete.loc[4] = curr_top10_complete.loc[4:5].sum()\n",
    "curr_top10_complete = curr_top10_complete.drop(5)\n",
    "curr_top10_complete.loc[4, 'Ticker'] = 'GOOGL'\n",
    "curr_top10_complete.loc[4, 'Name'] = 'ALPHABET INC CLASS'\n",
    "\n",
    "#Calculate the Top 10 Total Weight IVV\n",
    "top10_weight_sum_ivv = curr_top10_complete['IVV'].sum()\n",
    "\n",
    "#Calculate the Top 10 Total Weight IVV\n",
    "top10_weight_sum_rsp = curr_top10_complete['RSP'].sum()\n",
    "\n",
    "#Add the Data to the Curr_top10 dataframe\n",
    "top10_weight_data = final_df = pd.DataFrame([{'Ticker':'-', 'Name':'Total', 'IVV':top10_weight_sum_ivv, \n",
    "                                              'RSP': top10_weight_sum_rsp}])\n",
    "curr_top10_complete = pd.concat([curr_top10_complete, top10_weight_data], axis=0)"
   ]
  },
  {
   "cell_type": "code",
   "execution_count": null,
   "id": "69b7409a",
   "metadata": {},
   "outputs": [],
   "source": [
    "#Create Holoviews table object for Top 10 Companies of RSP and IVV\n",
    "curr_top10_complete_df_table = hv.Table(curr_top10_complete).opts(\n",
    "    opts.Table(width=950, height=350, selectable = True, index_position = None, \n",
    "               title = 'Weight (%) in Current Top 10 Companies in the iShares Core S&P 500® ETF (IVV) vs. Invesco S&P 500® Equal Weight ETF (RSP)'))"
   ]
  },
  {
   "cell_type": "code",
   "execution_count": null,
   "id": "30304051",
   "metadata": {},
   "outputs": [],
   "source": [
    "#Save the Plots\n",
    "p = pn.panel(curr_top10_complete_df_table)\n",
    "p.save('Current_IVV_RSP_Top10_Companies.html', embed = True)"
   ]
  },
  {
   "cell_type": "markdown",
   "id": "d70b45fc",
   "metadata": {},
   "source": [
    "# Historical Effective Number of Stocks in IVV"
   ]
  },
  {
   "cell_type": "markdown",
   "id": "a75dd5a5",
   "metadata": {},
   "source": [
    "To calculate the Effective Number of Stocks, we need first to calculate the Herfindahl-Hirschman Index (HHI).\n",
    "\n",
    "$$HHI = \\sum_{k=1}^{n}w_{i}^{2}$$\n",
    "\n",
    "Then the Effective Number of Stocks is:\n",
    "\n",
    "$$Effective Number of Stocks = \\frac{1}{HHI}$$"
   ]
  },
  {
   "cell_type": "code",
   "execution_count": null,
   "id": "a5113309",
   "metadata": {
    "scrolled": true
   },
   "outputs": [],
   "source": [
    "#Current Effective Number of Stocks for RSP \n",
    "hhi_rsp_curr = ((curr_rsp_df['Weight']/100)**2).sum()\n",
    "rsp_eff_stocks_curr = round(1/hhi_rsp_curr,0)\n",
    "\n",
    "#Current Effective Number of Stocks for IVV \n",
    "hhi_ivv_curr = ((curr_ivv_df['Weight (%)']/100)**2).sum()\n",
    "ivv_eff_stocks_curr = round(1/hhi_ivv_curr,0)"
   ]
  },
  {
   "cell_type": "code",
   "execution_count": null,
   "id": "ffbc8d33",
   "metadata": {},
   "outputs": [],
   "source": [
    "#Instantiate an object with all the tabs in IVV_EDGAR_holdings_full file\n",
    "ivv_edgar_holdings = pd.read_excel('IVV_EDGAR_holdings_full.xlsx', sheet_name=None)"
   ]
  },
  {
   "cell_type": "code",
   "execution_count": null,
   "id": "c9ce69ea",
   "metadata": {},
   "outputs": [],
   "source": [
    "#Create an empty DataFrame where we will Concatenate the information\n",
    "hist_ivv_eff_stocks_df = pd.DataFrame(columns=['Year', 'Effective Number of Stocks'])\n",
    "\n",
    "#Run a Loop to get the Effective Number of Stocks for IVV  for each year\n",
    "for year in ivv_edgar_holdings.keys():\n",
    "    #Get the Effective Number of Stocks and Create a DataFrame with the data\n",
    "    ivv_hhi_year = ((ivv_edgar_holdings[year]['Weight (%)'])**2).sum()\n",
    "    ivv_eff_stocks_year = round(1/ivv_hhi_year,0)\n",
    "    ivv_eff_stocks_year_df = pd.DataFrame([{'Year':year, 'Effective Number of Stocks':ivv_eff_stocks_year}])\n",
    "\n",
    "    #Concatenate the New data in the hist_ivv_eff_stocks_df dataframe\n",
    "    hist_ivv_eff_stocks_df = pd.concat([hist_ivv_eff_stocks_df, ivv_eff_stocks_year_df])"
   ]
  },
  {
   "cell_type": "code",
   "execution_count": null,
   "id": "f759564d",
   "metadata": {},
   "outputs": [],
   "source": [
    "#Convert the Year column to date showing the last day of the year\n",
    "hist_ivv_eff_stocks_df['Year'] = pd.to_datetime(hist_ivv_eff_stocks_df['Year'], format='%Y') + pd.offsets.YearEnd()\n",
    "\n",
    "#Get Current Date and Join current holdings to the Historical Effective Number of Stocks\n",
    "current_date = pd.to_datetime((pd.Timestamp.today() - pd.offsets.BDay(1)).date())\n",
    "current_ivv_eff_stocks_df = pd.DataFrame([{'Year':current_date, 'Effective Number of Stocks':ivv_eff_stocks_curr}])\n",
    "\n",
    "#Join the Current Date data to the Historical data\n",
    "hist_ivv_eff_stocks_df = pd.concat([hist_ivv_eff_stocks_df, current_ivv_eff_stocks_df])\n",
    "\n",
    "#Rename Columns and set Index\n",
    "hist_ivv_eff_stocks_df = hist_ivv_eff_stocks_df.rename(columns = {'Year':'Date', 'Effective Number of Stocks':'Effective_Number_Stocks'})\n",
    "hist_ivv_eff_stocks_df = hist_ivv_eff_stocks_df.set_index('Date')\n",
    "\n",
    "#Sort Values\n",
    "hist_ivv_eff_stocks_df = hist_ivv_eff_stocks_df.sort_values(by='Date')"
   ]
  },
  {
   "cell_type": "code",
   "execution_count": null,
   "id": "76c359f1",
   "metadata": {},
   "outputs": [],
   "source": [
    "#Instantiate the Dataframe for the Graph\n",
    "graph_df = hist_ivv_eff_stocks_df\n",
    "\n",
    "#Create the Graph\n",
    "hover = HoverTool(tooltips=[(\"Date\", \"@Date{%F}\"), ('Effective_Number_Stocks', f\"@Effective_Number_Stocks\")], formatters={'@Date': 'datetime'})  \n",
    "hist_ivv_eff_stocks_graph = hv.Curve(graph_df).opts(opts.Curve(tools=[hover])).opts(width=800, height=400, ylabel = 'Effective Number of Stocks)',color = 'red', xticks=10\n",
    "                                                               ).relabel('Historical Effective Number of Stocks of iShares Core S&P 500 ETF (IVV)')"
   ]
  },
  {
   "cell_type": "code",
   "execution_count": null,
   "id": "f00ad5e6",
   "metadata": {},
   "outputs": [],
   "source": [
    "#Save the Plots\n",
    "p = pn.panel(hist_ivv_eff_stocks_graph)\n",
    "p.save('Historical_Effective_Number_Stocks.html', embed = True)"
   ]
  }
 ],
 "metadata": {
  "kernelspec": {
   "display_name": "Python 3 (ipykernel)",
   "language": "python",
   "name": "python3"
  },
  "language_info": {
   "codemirror_mode": {
    "name": "ipython",
    "version": 3
   },
   "file_extension": ".py",
   "mimetype": "text/x-python",
   "name": "python",
   "nbconvert_exporter": "python",
   "pygments_lexer": "ipython3",
   "version": "3.7.13"
  }
 },
 "nbformat": 4,
 "nbformat_minor": 5
}
