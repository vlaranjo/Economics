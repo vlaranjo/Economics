{
 "cells": [
  {
   "cell_type": "markdown",
   "id": "53898621",
   "metadata": {},
   "source": [
    "# Import the Libraries"
   ]
  },
  {
   "cell_type": "code",
   "execution_count": null,
   "id": "b40ecf1c",
   "metadata": {},
   "outputs": [],
   "source": [
    "#Dataframe manipulation\n",
    "import pandas as pd\n",
    "\n",
    "#Track the progress of the loop\n",
    "from tqdm import tqdm \n",
    "\n",
    "#Data download from Yahoo Finance\n",
    "from yahooquery import Ticker\n",
    "\n",
    "#Libraries for the Plotting\n",
    "import holoviews as hv\n",
    "from holoviews import opts, dim\n",
    "\n",
    "hv.extension('bokeh')\n",
    "\n",
    "#Librarie to save the plots to html object\n",
    "import panel as pn"
   ]
  },
  {
   "cell_type": "markdown",
   "id": "87a22557",
   "metadata": {},
   "source": [
    "# Historical Data "
   ]
  },
  {
   "cell_type": "code",
   "execution_count": null,
   "id": "cf29d122",
   "metadata": {},
   "outputs": [],
   "source": [
    "#Import File with Data from Selected Tickers\n",
    "info_df = pd.read_csv('Asset_Categories.csv')\n",
    "\n",
    "ticker_list = info_df['Ticker'].to_list()"
   ]
  },
  {
   "cell_type": "code",
   "execution_count": null,
   "id": "9ade3da6",
   "metadata": {},
   "outputs": [],
   "source": [
    "#Create an empty dataframe and then run the loop to download the prices for all the categories\n",
    "merged_prices_df = pd.DataFrame()\n",
    "\n",
    "#Download the Data from Selected Tickers\n",
    "for ticker in tqdm(ticker_list):\n",
    "\n",
    "    category = info_df[info_df['Ticker'] == ticker]['Category'].iloc[0]\n",
    "\n",
    "    #Download the Data from Yahoo Finance and reset the index\n",
    "    tickers = Ticker(ticker)\n",
    "    price_df = tickers.history(period = 'max')\n",
    "    price_df = price_df.reset_index()\n",
    "\n",
    "    #Select only the needed columns and change the name from Adjclose to the Category's Name\n",
    "    price_df = price_df[['date','adjclose']]\n",
    "    price_df = price_df.rename(columns = {'adjclose': category})\n",
    "\n",
    "    #Convert the Date format to datetime\n",
    "    price_df['date'] = pd.to_datetime(price_df['date'], utc=True)\n",
    "\n",
    "    #Resample for Yearly\n",
    "    price_df = price_df.resample('Y', on='date').last()\n",
    "\n",
    "    #Set Index to Date for the index date to disappear\n",
    "    price_df = price_df.set_index('date')\n",
    "\n",
    "    #Calculate the Yearly Returns\n",
    "    price_df = round(price_df.pct_change().dropna() * 100, 2)\n",
    "\n",
    "    #Bring date from the Index and Change the format to show only date and not the date and time \n",
    "    price_df = price_df.reset_index()\n",
    "    price_df['date'] = price_df['date'].dt.year\n",
    "\n",
    "    #Merge the Dataframes in the loop\n",
    "    if merged_prices_df.empty:\n",
    "        merged_prices_df = price_df\n",
    "    else:\n",
    "        merged_prices_df = pd.merge(merged_prices_df, price_df, on='date', how='outer')\n",
    "        \n",
    "#Drop NA's\n",
    "merged_prices_df = merged_prices_df.dropna()\n",
    "\n",
    "#Create a column for the diversified (Equal weight)\n",
    "merged_prices_df = merged_prices_df.set_index('date')\n",
    "merged_prices_df['Diversified'] = round(merged_prices_df.mean(axis = 1), 2)"
   ]
  },
  {
   "cell_type": "markdown",
   "id": "a992a781",
   "metadata": {},
   "source": [
    "# Manipulate the Data to Create the Graph"
   ]
  },
  {
   "cell_type": "code",
   "execution_count": null,
   "id": "061ef1c8",
   "metadata": {},
   "outputs": [],
   "source": [
    "#Change the column name for Date to Year and set it as index\n",
    "merged_prices_df = merged_prices_df.reset_index()\n",
    "merged_prices_df = merged_prices_df.rename(columns = {'date': 'Year'})\n",
    "merged_prices_df = merged_prices_df.set_index('Year')\n",
    "\n",
    "#Transpose Dataframe\n",
    "merged_prices_df = merged_prices_df.T"
   ]
  },
  {
   "cell_type": "code",
   "execution_count": null,
   "id": "87b21771",
   "metadata": {},
   "outputs": [],
   "source": [
    "#Create an empty dataframe and then run the loop to create a new dataframe based on the years\n",
    "merged_sorted_df = pd.DataFrame()\n",
    "\n",
    "#Run through the columns (years)\n",
    "for column in merged_prices_df.columns:\n",
    "\n",
    "    #Create a dataframe filtered for the Column in the loop\n",
    "    sorted_df = pd.DataFrame(merged_prices_df[column])\n",
    "\n",
    "    #Sort the Returns from higher to Lower\n",
    "    sorted_df = sorted_df.sort_values(by=column, ascending=False)\n",
    "\n",
    "    #Create a New column which will Include the Name of the Asset Category and the Returns\n",
    "    sorted_df[column] = sorted_df.index + ': ' + sorted_df[column].apply(lambda x: '{:.2f}'.format(x))\n",
    "\n",
    "    #Reset the Index for then to Include correctly in the Merged Sorted Dataframe\n",
    "    sorted_df = sorted_df.set_index(column).reset_index()\n",
    "\n",
    "    merged_sorted_df[column] = sorted_df"
   ]
  },
  {
   "cell_type": "code",
   "execution_count": null,
   "id": "0aa5b90a",
   "metadata": {},
   "outputs": [],
   "source": [
    "#Change the Index to Start at 1 -> Looks nicer in the Table\n",
    "merged_sorted_df.index = range(1, len(merged_sorted_df.index) + 1)"
   ]
  },
  {
   "cell_type": "markdown",
   "id": "909e6c04",
   "metadata": {},
   "source": [
    "# Create the Chart with the Period Table of Investent Returns"
   ]
  },
  {
   "cell_type": "code",
   "execution_count": null,
   "id": "9f0f8a1f",
   "metadata": {},
   "outputs": [],
   "source": [
    "# Define a function to apply conditional formatting based on partial text\n",
    "def highlight_partial_text(val):\n",
    "    color_mapping = {\n",
    "        'US Large Caps': 'red',\n",
    "        'US Small Caps': 'navy',\n",
    "        'World Developed': 'violet',\n",
    "        'Emerging Markets': 'goldenrod',\n",
    "        'US Fixed Income Aggregate': 'brown',\n",
    "        'US High Yield': 'purple',\n",
    "        'US TIPS': 'limegreen',\n",
    "        'US T-Bill': 'gold',\n",
    "        'International Treasury Bond': 'green',\n",
    "        'Emerging Market Sovereign Bond': 'orange',\n",
    "        'Commodities': 'gray',\n",
    "        'Real Estate': 'darkturquoise',\n",
    "        'Diversified': 'black'\n",
    "    }\n",
    "    \n",
    "    for asset_class, color in color_mapping.items():\n",
    "        if asset_class in val:\n",
    "            return f'background-color: {color}; color: white'\n",
    "    \n",
    "    return ''\n",
    "\n",
    "# Apply the function to the DataFrame using the Styler class\n",
    "styled_df = merged_sorted_df.style.applymap(highlight_partial_text, subset=pd.IndexSlice[:, '2008':'2023'])"
   ]
  },
  {
   "cell_type": "code",
   "execution_count": null,
   "id": "b584cef4",
   "metadata": {},
   "outputs": [],
   "source": [
    "# Convert the styled DataFrame to an HTML table\n",
    "periodic_table_html = styled_df.to_html()\n",
    "\n",
    "# Save the HTML table to a file\n",
    "with open('Periodic_Table_Investments.html', 'w') as f:\n",
    "    f.write(periodic_table_html)"
   ]
  },
  {
   "cell_type": "markdown",
   "id": "841db17c",
   "metadata": {},
   "source": [
    "# Create Table with Asset Class Mapping"
   ]
  },
  {
   "cell_type": "code",
   "execution_count": null,
   "id": "66126538",
   "metadata": {},
   "outputs": [],
   "source": [
    "#Create Holoviews table object \n",
    "mapping_table = hv.Table(info_df).opts(\n",
    "    opts.Table(width=600, height=250, selectable = True, index_position = None, \n",
    "               title = 'Asset Class Mapping Table'))\n",
    "\n",
    "#Save the Plots\n",
    "p = pn.panel(mapping_table)\n",
    "p.save('Asset_Class_Mapping_Table.html', embed = True)"
   ]
  }
 ],
 "metadata": {
  "kernelspec": {
   "display_name": "Python_3.9",
   "language": "python",
   "name": "python_3.9"
  },
  "language_info": {
   "codemirror_mode": {
    "name": "ipython",
    "version": 3
   },
   "file_extension": ".py",
   "mimetype": "text/x-python",
   "name": "python",
   "nbconvert_exporter": "python",
   "pygments_lexer": "ipython3",
   "version": "3.9.13"
  }
 },
 "nbformat": 4,
 "nbformat_minor": 5
}
