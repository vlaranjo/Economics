{
 "cells": [
  {
   "cell_type": "code",
   "execution_count": null,
   "id": "a45783a4",
   "metadata": {},
   "outputs": [],
   "source": [
    "#DataFrames manipulation\n",
    "import pandas as pd\n",
    "\n",
    "#Economic data from FRED\n",
    "from fredapi import Fred\n",
    "\n",
    "#Libraries for the Plotting\n",
    "import holoviews as hv\n",
    "from holoviews import opts, dim\n",
    "from holoviews.plotting.links import RangeToolLink\n",
    "from bokeh.models import HoverTool\n",
    "\n",
    "#Librarie to save the plots to html object\n",
    "import panel as pn\n",
    "import param\n",
    "\n",
    "hv.extension('bokeh')"
   ]
  },
  {
   "cell_type": "markdown",
   "id": "4b079807",
   "metadata": {},
   "source": [
    "# Download the Economic Data"
   ]
  },
  {
   "cell_type": "code",
   "execution_count": null,
   "id": "d7773ccf",
   "metadata": {},
   "outputs": [],
   "source": [
    "#FRED API key - Created a Free Account\n",
    "FRED_API_key = \"\"\n",
    "fred = Fred(api_key=FRED_API_key)"
   ]
  },
  {
   "cell_type": "code",
   "execution_count": null,
   "id": "2eb39ee9",
   "metadata": {},
   "outputs": [],
   "source": [
    "#Define the Reference Rates (Two timeseries due to change in 2008)\n",
    "fed_ref_rate_metrics = [\"DFEDTAR\", \"DFEDTARL\"]\n",
    "\n",
    "#Download the Data from FRED and Manipulate the dataframe\n",
    "fed_ref_rate_df = fred.get_series(fed_ref_rate_metrics[0])\n",
    "fed_ref_rate_df = fed_ref_rate_df.reset_index()\n",
    "\n",
    "fed_ref_rate_df = fed_ref_rate_df.rename(columns={'index':'Date',fed_ref_rate_df.columns[1]:'Fed Reference Rate'})\n",
    "\n",
    "for metric in fed_ref_rate_metrics[1:]:\n",
    "    fed_ref_rate_df_next = fred.get_series(metric)\n",
    "    fed_ref_rate_df_next = fed_ref_rate_df_next.reset_index()\n",
    "    fed_ref_rate_df_next = fed_ref_rate_df_next.rename(columns={'index':'Date',fed_ref_rate_df_next.columns[1]:'Fed Reference Rate'})\n",
    "    fed_ref_rate_df = fed_ref_rate_df.merge(fed_ref_rate_df_next, how='outer')"
   ]
  },
  {
   "cell_type": "code",
   "execution_count": null,
   "id": "3aa33759",
   "metadata": {},
   "outputs": [],
   "source": [
    "#Define the CPI Metric\n",
    "cpi_metric = 'CPIAUCSL'\n",
    "\n",
    "#Download the Data from FRED and Manipulate the dataframe\n",
    "cpi_df = fred.get_series(cpi_metric)\n",
    "cpi_df = cpi_df.reset_index()\n",
    "\n",
    "cpi_df = cpi_df.rename(columns={'index':'Date',cpi_df.columns[1]:'CPI'})\n",
    "\n",
    "#Calculate the CPI as a YoY change based on Index values\n",
    "cpi_df['CPI'] = (cpi_df['CPI'].pct_change(periods=12)*100).round(2)\n",
    "\n",
    "#Convert the dataframe from monthly to daily values\n",
    "cpi_df = cpi_df.set_index('Date').resample('D').ffill()\n"
   ]
  },
  {
   "cell_type": "code",
   "execution_count": null,
   "id": "d9e13a17",
   "metadata": {},
   "outputs": [],
   "source": [
    "#Join the Fed Funds Rate and CPI Dataframes in 1 single Dataframe\n",
    "eco_df = fed_ref_rate_df.merge(cpi_df, on='Date', how='left')\n",
    "eco_df = eco_df.set_index('Date')\n",
    "eco_df = eco_df.fillna(method='ffill')\n",
    "\n",
    "#Save Data to CSV file\n",
    "eco_df.to_csv('CPI and Fed Reference Rate.csv')"
   ]
  },
  {
   "cell_type": "code",
   "execution_count": null,
   "id": "6cfb2234",
   "metadata": {},
   "outputs": [],
   "source": [
    "#Join the Fed Funds Rate and CPI Dataframes in 1 single Dataframe\n",
    "eco_df = fed_ref_rate_df.merge(cpi_df, on='Date', how='left')\n",
    "eco_df = eco_df.set_index('Date')\n",
    "eco_df = eco_df.fillna(method='ffill')\n",
    "\n",
    "#Create One More Column with the Real Interest Rate\n",
    "eco_df['Real Interest Rate'] = eco_df['Fed Reference Rate'] - eco_df['CPI']\n",
    "\n",
    "#Rename Columns so that they are Printed in the Graph\n",
    "eco_df = eco_df.rename(columns={'Fed Reference Rate':'Fed_Reference_Rate', 'Real Interest Rate':'Real_Interest_Rate'})"
   ]
  },
  {
   "cell_type": "code",
   "execution_count": null,
   "id": "12337288",
   "metadata": {},
   "outputs": [],
   "source": [
    "#Analyze the file and define the Hike Cycles - Manual Job\n",
    "#Instantiate the Object with the New File\n",
    "eco_df_hike_df = pd.read_csv('CPI and Fed Reference Rate_with hike cycles.csv')\n",
    "\n",
    "#Limit the Dataframe for Periods with Rate Hikes\n",
    "eco_df_hike_df = eco_df_hike_df.dropna(subset=['Hike Cycle'])"
   ]
  },
  {
   "cell_type": "code",
   "execution_count": null,
   "id": "93f10caf",
   "metadata": {},
   "outputs": [],
   "source": [
    "#Get a List of all Hike Cycles\n",
    "hike_cycles = eco_df_hike_df['Hike Cycle'].unique()"
   ]
  },
  {
   "cell_type": "code",
   "execution_count": null,
   "id": "b812e2aa",
   "metadata": {},
   "outputs": [],
   "source": [
    "#Create a Dataframe with Only the Fed Reference Rate\n",
    "fed_ref_rate_hike_df = eco_df_hike_df.drop(columns = 'CPI')\n",
    "\n",
    "#Create the Final Dataframe with columns as the Hike Cycle\n",
    "fed_ref_rate_hike_df_final = fed_ref_rate_hike_df[fed_ref_rate_hike_df['Hike Cycle']==hike_cycles[0]]\n",
    "fed_ref_rate_hike_df_final['Fed Reference Rate'] = fed_ref_rate_hike_df_final['Fed Reference Rate'] - fed_ref_rate_hike_df_final['Fed Reference Rate'].iloc[0]\n",
    "fed_ref_rate_hike_df_final = fed_ref_rate_hike_df_final.rename(columns={'Fed Reference Rate': fed_ref_rate_hike_df_final['Hike Cycle'].iloc[0]})\n",
    "fed_ref_rate_hike_df_final = fed_ref_rate_hike_df_final.drop(columns=['Date','Hike Cycle'])\n",
    "fed_ref_rate_hike_df_final = fed_ref_rate_hike_df_final.reset_index(drop=True)\n",
    "fed_ref_rate_hike_df_final = fed_ref_rate_hike_df_final.reset_index().rename(columns= {'index':'Days'})\n",
    "\n",
    "#Loop through the Hike Cycles to create a Dataframe where each column corresponds to a Hike Cycle\n",
    "for i in range(1,len(hike_cycles)):\n",
    "    fed_ref_rate_hike_df_final_next = fed_ref_rate_hike_df[fed_ref_rate_hike_df['Hike Cycle']==hike_cycles[i]]\n",
    "    fed_ref_rate_hike_df_final_next['Fed Reference Rate'] = fed_ref_rate_hike_df_final_next['Fed Reference Rate'] - fed_ref_rate_hike_df_final_next['Fed Reference Rate'].iloc[0]\n",
    "    fed_ref_rate_hike_df_final_next = fed_ref_rate_hike_df_final_next.rename(columns={'Fed Reference Rate': fed_ref_rate_hike_df_final_next['Hike Cycle'].iloc[0]})\n",
    "    fed_ref_rate_hike_df_final_next = fed_ref_rate_hike_df_final_next.drop(columns=['Date','Hike Cycle'])\n",
    "    fed_ref_rate_hike_df_final_next = fed_ref_rate_hike_df_final_next.reset_index(drop=True)\n",
    "    fed_ref_rate_hike_df_final_next = fed_ref_rate_hike_df_final_next.reset_index().rename(columns= {'index':'Days'})\n",
    "    fed_ref_rate_hike_df_final = fed_ref_rate_hike_df_final.merge(fed_ref_rate_hike_df_final_next, on='Days', how='outer')\n",
    "\n",
    "#Set the Index to Days\n",
    "fed_ref_rate_hike_df_final = fed_ref_rate_hike_df_final.set_index('Days')"
   ]
  },
  {
   "cell_type": "code",
   "execution_count": null,
   "id": "a94f2ae0",
   "metadata": {
    "scrolled": true
   },
   "outputs": [],
   "source": [
    "#Create a Dataframe with Only the CPI\n",
    "cpi_hike_df = eco_df_hike_df.drop(columns = 'Fed Reference Rate')\n",
    "cpi_hike_df['CPI'] = pd.to_numeric(cpi_hike_df['CPI'],errors='coerce')\n",
    "\n",
    "#Create the Final Dataframe with columns as the Hike Cycle\n",
    "cpi_hike_df_final = cpi_hike_df[cpi_hike_df['Hike Cycle']==hike_cycles[0]]\n",
    "cpi_hike_df_final['CPI'] = cpi_hike_df_final['CPI'] - cpi_hike_df_final['CPI'].iloc[0]\n",
    "cpi_hike_df_final = cpi_hike_df_final.rename(columns={'CPI': cpi_hike_df_final['Hike Cycle'].iloc[0]})\n",
    "cpi_hike_df_final = cpi_hike_df_final.drop(columns=['Date','Hike Cycle'])\n",
    "cpi_hike_df_final = cpi_hike_df_final.reset_index(drop=True)\n",
    "cpi_hike_df_final = cpi_hike_df_final.reset_index().rename(columns= {'index':'Days'})\n",
    "\n",
    "#Loop through the Hike Cycles to create a Dataframe where each column corresponds to a Hike Cycle\n",
    "for i in range(1,len(hike_cycles)):\n",
    "    cpi_hike_df_final_next = cpi_hike_df[cpi_hike_df['Hike Cycle']==hike_cycles[i]]\n",
    "    cpi_hike_df_final_next['CPI'] = cpi_hike_df_final_next['CPI'] - cpi_hike_df_final_next['CPI'].iloc[0]\n",
    "    cpi_hike_df_final_next = cpi_hike_df_final_next.rename(columns={'CPI': cpi_hike_df_final_next['Hike Cycle'].iloc[0]})\n",
    "    cpi_hike_df_final_next = cpi_hike_df_final_next.drop(columns=['Date','Hike Cycle'])\n",
    "    cpi_hike_df_final_next = cpi_hike_df_final_next.reset_index(drop=True)\n",
    "    cpi_hike_df_final_next = cpi_hike_df_final_next.reset_index().rename(columns= {'index':'Days'})\n",
    "    cpi_hike_df_final = cpi_hike_df_final.merge(cpi_hike_df_final_next, on='Days', how='outer')\n",
    "\n",
    "#Set the Index to Days\n",
    "cpi_hike_df_final = cpi_hike_df_final.set_index('Days')"
   ]
  },
  {
   "cell_type": "code",
   "execution_count": null,
   "id": "104b4496",
   "metadata": {},
   "outputs": [],
   "source": [
    "#Instantiate the Dataframe for the \"Fed Reference Rate, US CPI, US Real Interest Rate\" Graph\n",
    "graph_df = eco_df\n",
    "\n",
    "#Generate all curves\n",
    "def getCurves(n):\n",
    "    for column in graph_df.columns:\n",
    "        hover = HoverTool(tooltips=[(\"Date\", \"@Date{%F}\"), (column, f\"@{column}\")], formatters={'@Date': 'datetime'})  \n",
    "        curve = hv.Curve(graph_df[column], label = column).opts(opts.Curve(tools=[hover]))\n",
    "        curve = curve.opts(xticks=10)\n",
    "        yield curve\n",
    "        \n",
    "source_curves, target_curves  = [], []\n",
    "for curve in getCurves(2):\n",
    "    \n",
    "    src = curve.relabel('').opts(width=800, height=100, yaxis=None) \n",
    "    tgt = curve.opts(width=800, ylabel = 'Rate (%)')\n",
    "    source_curves.append(src)\n",
    "    target_curves.append(tgt)\n",
    "    \n",
    "# Link RangeTool for the first curves in the list.\n",
    "RangeToolLink(source_curves[0],target_curves[0], axes=['x','y'])  \n",
    "\n",
    "#Overlay the source and target curves \n",
    "overlaid_plot_src = hv.Overlay(source_curves).relabel('')\n",
    "overlaid_plot_tgt = hv.Overlay(target_curves)\n",
    "\n",
    "#Add an Horizontal Line at 0\n",
    "hline = hv.HLine(0).opts(color='black', line_width=1, line_dash='5 5')\n",
    "overlaid_plot_tgt = overlaid_plot_tgt * hline\n",
    "overlaid_plot_tgt = overlaid_plot_tgt.relabel('Fed Reference Rate, US CPI, US Real Interest Rate').opts(\n",
    "    height=400, legend_position='top')\n",
    "\n",
    "# Layout the plot\n",
    "full_graph_initial = (overlaid_plot_tgt + overlaid_plot_src).cols(1)\n",
    "full_graph_initial = full_graph_initial.opts(merge_tools=False,shared_axes=False)"
   ]
  },
  {
   "cell_type": "code",
   "execution_count": null,
   "id": "77130e38",
   "metadata": {},
   "outputs": [],
   "source": [
    "#Instantiate the Dataframe for the \"Speed of Fed Reference Rate Hike\" Graph\n",
    "graph_df = fed_ref_rate_hike_df_final\n",
    "\n",
    "#Generate all curves\n",
    "def getCurves(n):\n",
    "    for column in graph_df.columns:\n",
    "        hover = HoverTool(tooltips=[(\"Days\", \"@Days\"), ('Change in Reference Rate (%)', f\"@{column}\")])  \n",
    "        curve = hv.Curve(graph_df[column], label = column).opts(opts.Curve(tools=[hover]))\n",
    "        yield curve\n",
    "        \n",
    "source_curves, target_curves  = [], []\n",
    "for curve in getCurves(2):\n",
    "    \n",
    "    src = curve.relabel('').opts(width=800, height=100, yaxis=None) \n",
    "    tgt = curve.opts(width=800, ylabel = 'Change in Reference Rate (%)', xlabel = 'Number of Days Since First Hike')\n",
    "    source_curves.append(src)\n",
    "    target_curves.append(tgt)\n",
    "    \n",
    "#Get the graph with the target curves\n",
    "overlaid_plot_tgt = hv.Overlay(target_curves).relabel('Speed of Fed Reference Rate Hike').opts(\n",
    "    height=400, legend_position='top')\n",
    "\n",
    "# Layout the plot\n",
    "full_graph_ref_rate = overlaid_plot_tgt"
   ]
  },
  {
   "cell_type": "code",
   "execution_count": null,
   "id": "29736e59",
   "metadata": {
    "scrolled": false
   },
   "outputs": [],
   "source": [
    "#Instantiate the Dataframe for the \"Change in CPI following Reference Rate Hike\" Graph\n",
    "graph_df = cpi_hike_df_final\n",
    "\n",
    "#Generate all curves\n",
    "def getCurves(n):\n",
    "    for column in graph_df.columns:\n",
    "        hover = HoverTool(tooltips=[(\"Days\", \"@Days\"), (column, f\"@{column}\")])  \n",
    "        curve = hv.Curve(graph_df[column], label = column).opts(opts.Curve(tools=[hover]))\n",
    "        yield curve\n",
    "        \n",
    "source_curves, target_curves  = [], []\n",
    "for curve in getCurves(2):\n",
    "    \n",
    "    src = curve.relabel('').opts(width=800, height=100, yaxis=None) \n",
    "    tgt = curve.opts(width=800, ylabel = 'Change in CPI (%)', xlabel = 'Number of Days Since First Hike')\n",
    "    source_curves.append(src)\n",
    "    target_curves.append(tgt)\n",
    "    \n",
    "#Get the graph with the target curves\n",
    "overlaid_plot_tgt = hv.Overlay(target_curves).relabel('Change in US CPI following Fed Reference Rate Hike').opts(\n",
    "    height=400, legend_position='top')\n",
    "\n",
    "# Layout the plot\n",
    "full_graph_cpi = overlaid_plot_tgt"
   ]
  },
  {
   "cell_type": "code",
   "execution_count": null,
   "id": "71748311",
   "metadata": {},
   "outputs": [],
   "source": [
    "#Save the Plots\n",
    "p = pn.panel(full_graph_initial)\n",
    "p.save('Initial_Graph.html', embed = True)\n",
    "\n",
    "p = pn.panel(full_graph_ref_rate)\n",
    "p.save('Reference_Rate_and_Hike_Cycles.html', embed = True)\n",
    "\n",
    "p = pn.panel(full_graph_cpi)\n",
    "p.save('CPI_and_Hike_Cycles.html', embed = True)"
   ]
  }
 ],
 "metadata": {
  "kernelspec": {
   "display_name": "Python 3 (ipykernel)",
   "language": "python",
   "name": "python3"
  },
  "language_info": {
   "codemirror_mode": {
    "name": "ipython",
    "version": 3
   },
   "file_extension": ".py",
   "mimetype": "text/x-python",
   "name": "python",
   "nbconvert_exporter": "python",
   "pygments_lexer": "ipython3",
   "version": "3.7.13"
  }
 },
 "nbformat": 4,
 "nbformat_minor": 5
}
