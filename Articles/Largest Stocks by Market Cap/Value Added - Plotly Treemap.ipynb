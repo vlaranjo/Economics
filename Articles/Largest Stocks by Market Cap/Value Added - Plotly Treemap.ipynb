{
 "cells": [
  {
   "cell_type": "markdown",
   "id": "d902d927",
   "metadata": {},
   "source": [
    "# Import Libraries"
   ]
  },
  {
   "cell_type": "code",
   "execution_count": 5,
   "id": "1fd58cd5",
   "metadata": {},
   "outputs": [],
   "source": [
    "import plotly.express as px\n",
    "import pandas as pd"
   ]
  },
  {
   "cell_type": "markdown",
   "id": "f8a38299",
   "metadata": {},
   "source": [
    "# Load the Created DataFrames"
   ]
  },
  {
   "cell_type": "code",
   "execution_count": null,
   "id": "af42df12",
   "metadata": {},
   "outputs": [],
   "source": [
    "df = pd.read_csv('Data_final.csv', index_col=None)"
   ]
  },
  {
   "cell_type": "markdown",
   "id": "ee8d58aa",
   "metadata": {},
   "source": [
    "# Generating the TreeMap Figure"
   ]
  },
  {
   "cell_type": "code",
   "execution_count": null,
   "id": "a597697a",
   "metadata": {},
   "outputs": [],
   "source": [
    "fig = px.treemap(df, path=[px.Constant(\"World\"), 'country', 'sector'], values='value')\n",
    "fig.update_traces(root_color=\"lightgrey\")\n",
    "fig.update_layout(margin = dict(t=50, l=25, r=25, b=25))\n",
    "#fig.show()\n",
    "fig.write_html(\"Value_Added_by_Activity_Plotly.html\")"
   ]
  }
 ],
 "metadata": {
  "kernelspec": {
   "display_name": "Python 3 (ipykernel)",
   "language": "python",
   "name": "python3"
  },
  "language_info": {
   "codemirror_mode": {
    "name": "ipython",
    "version": 3
   },
   "file_extension": ".py",
   "mimetype": "text/x-python",
   "name": "python",
   "nbconvert_exporter": "python",
   "pygments_lexer": "ipython3",
   "version": "3.7.13"
  }
 },
 "nbformat": 4,
 "nbformat_minor": 5
}
