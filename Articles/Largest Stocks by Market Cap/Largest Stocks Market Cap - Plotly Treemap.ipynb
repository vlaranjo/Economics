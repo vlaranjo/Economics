{
 "cells": [
  {
   "cell_type": "markdown",
   "id": "49c67147",
   "metadata": {},
   "source": [
    "# Import Libraries"
   ]
  },
  {
   "cell_type": "code",
   "execution_count": 2,
   "id": "1fd58cd5",
   "metadata": {},
   "outputs": [],
   "source": [
    "import plotly.express as px\n",
    "import pandas as pd"
   ]
  },
  {
   "cell_type": "markdown",
   "id": "49c8d866",
   "metadata": {},
   "source": [
    "# Load the Created DataFrames"
   ]
  },
  {
   "cell_type": "code",
   "execution_count": 5,
   "id": "af42df12",
   "metadata": {
    "scrolled": true
   },
   "outputs": [],
   "source": [
    "#Load S&P 500\n",
    "SP500_df = pd.read_csv('SP500_Final_Table.csv', index_col=None)\n",
    "\n",
    "#Load Eurostoxx\n",
    "Stoxx_df = pd.read_csv('EuroStoxx600_Final_Table.csv', index_col=None)"
   ]
  },
  {
   "cell_type": "markdown",
   "id": "c4b02329",
   "metadata": {},
   "source": [
    "# Generating the TreeMap Figure"
   ]
  },
  {
   "cell_type": "code",
   "execution_count": 19,
   "id": "a597697a",
   "metadata": {},
   "outputs": [],
   "source": [
    "#Generate S&P 500 Index TreeMap\n",
    "SP500_fig = px.treemap(SP500_df, path=[px.Constant(\"S&P 500 Index\"), 'Sector', 'Name'], values='Market Cap Bn USD')\n",
    "SP500_fig.update_traces(root_color=\"lightgrey\", textinfo='label+value+percent entry')\n",
    "SP500_fig.update_layout(margin = dict(t=50, l=25, r=25, b=25))\n",
    "#SP500_fig.show()\n",
    "SP500_fig.write_html(\"SP500_Treemap.html\")\n",
    "\n",
    "#Generate Eurostoxx Index TreeMap - by Country and Sector\n",
    "Stoxx_fig = px.treemap(Stoxx_df, path=[px.Constant(\"STOXX600 Index\"), 'Country', 'Sector', 'Name'], values='Market Cap Bn EUR')\n",
    "Stoxx_fig.update_traces(root_color=\"lightgrey\", textinfo='label+value+percent entry')\n",
    "Stoxx_fig.update_layout(margin = dict(t=50, l=25, r=25, b=25))\n",
    "#SP500_fig.show()\n",
    "Stoxx_fig.write_html(\"Stoxx_Treemap_Country_then_Sector.html\")\n",
    "\n",
    "#Generate Eurostoxx Index TreeMap - by Country and Sector\n",
    "Stoxx_fig = px.treemap(Stoxx_df, path=[px.Constant(\"STOXX600 Index\"), 'Sector', 'Country', 'Name'], values='Market Cap Bn EUR')\n",
    "Stoxx_fig.update_traces(root_color=\"lightgrey\", textinfo='label+value+percent entry')\n",
    "Stoxx_fig.update_layout(margin = dict(t=50, l=25, r=25, b=25))\n",
    "#SP500_fig.show()\n",
    "Stoxx_fig.write_html(\"Stoxx_Treemap_Sector_then_Country.html\")"
   ]
  }
 ],
 "metadata": {
  "kernelspec": {
   "display_name": "Python 3 (ipykernel)",
   "language": "python",
   "name": "python3"
  },
  "language_info": {
   "codemirror_mode": {
    "name": "ipython",
    "version": 3
   },
   "file_extension": ".py",
   "mimetype": "text/x-python",
   "name": "python",
   "nbconvert_exporter": "python",
   "pygments_lexer": "ipython3",
   "version": "3.7.13"
  }
 },
 "nbformat": 4,
 "nbformat_minor": 5
}
