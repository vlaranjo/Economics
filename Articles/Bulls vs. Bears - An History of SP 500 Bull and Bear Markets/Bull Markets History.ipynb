{
 "cells": [
  {
   "cell_type": "markdown",
   "id": "f5011d90",
   "metadata": {},
   "source": [
    "# Import Libraries"
   ]
  },
  {
   "cell_type": "code",
   "execution_count": null,
   "id": "8ac0cd8e",
   "metadata": {},
   "outputs": [],
   "source": [
    "#DataFrames manipulation\n",
    "import pandas as pd\n",
    "import numpy as np\n",
    "\n",
    "#Date manipulation\n",
    "import datetime\n",
    "\n",
    "#Data download from Yahoo Finance\n",
    "from yahooquery import Ticker\n",
    "\n",
    "#Libraries for the Plotting\n",
    "import holoviews as hv\n",
    "from holoviews import opts, dim\n",
    "from holoviews.plotting.links import RangeToolLink\n",
    "from bokeh.models import HoverTool\n",
    "from bokeh.palettes import Category10\n",
    "\n",
    "#Librarie to save the plots to html object\n",
    "import panel as pn\n",
    "import param\n",
    "\n",
    "hv.extension('bokeh')"
   ]
  },
  {
   "cell_type": "markdown",
   "id": "3d92fa25",
   "metadata": {},
   "source": [
    "# Download Data from Yahoo Finance"
   ]
  },
  {
   "cell_type": "code",
   "execution_count": null,
   "id": "822e7887",
   "metadata": {},
   "outputs": [],
   "source": [
    "#Download the Data from Yahoo Finance\n",
    "tickers = Ticker('^SPX')\n",
    "df = tickers.history(start = '1970-01-01')\n",
    "\n",
    "#Limit the Data to the Close and rearrange columns\n",
    "df = df.reset_index()\n",
    "df = df[['date', 'close']]\n",
    "df = df.rename(columns = {'date': 'Date', 'close': 'S&P500'})\n",
    "df = df.set_index('Date')\n",
    "\n",
    "#Calculate the Percentage Change\n",
    "df = df.pct_change()\n",
    "\n",
    "#Change the Data to Index format base = 100\n",
    "df.iloc[0] = 0\n",
    "df['S&P500'] = (1 + df['S&P500']).cumprod() * 100"
   ]
  },
  {
   "cell_type": "markdown",
   "id": "4b67536a",
   "metadata": {},
   "source": [
    "# Define Bull and Bear Markets"
   ]
  },
  {
   "cell_type": "code",
   "execution_count": null,
   "id": "f1c53f0b",
   "metadata": {},
   "outputs": [],
   "source": [
    "# Define the Threshold Percentages for Bull and Bear Markets\n",
    "bull_threshold = 0.2\n",
    "bear_threshold = -0.2\n",
    "\n",
    "#CreateNnew columns for Previous Top and Previous Vottom\n",
    "df['Previous Top'] = df['S&P500'].copy()\n",
    "df['Previous Bottom'] = df['S&P500'].copy()\n",
    "\n",
    "#Create a New column for Market Type - Initially filled with 'None'\n",
    "df['Market'] = None\n",
    "\n",
    "#Initialize variables to track PreviousTtop and Previous Bottom\n",
    "prev_top = df['S&P500'].iloc[0]\n",
    "prev_bottom = df['S&P500'].iloc[0]\n",
    "current_market = None\n",
    "\n",
    "#Loop through the DataFrame to identify Bull and Bear Markets\n",
    "for i, row in df.iterrows():\n",
    "    if current_market is None:\n",
    "        if row['S&P500'] >= prev_bottom * (1 + bull_threshold):\n",
    "            current_market = 'Bull'\n",
    "            df.at[i, 'Market'] = current_market\n",
    "        elif row['S&P500'] <= prev_top * (1 + bear_threshold):\n",
    "            current_market = 'Bear'\n",
    "            df.at[i, 'Market'] = current_market\n",
    "    elif current_market == 'Bull':\n",
    "        if row['S&P500'] <= prev_top * (1 + bear_threshold):\n",
    "            current_market = 'Bear'\n",
    "            df.at[i, 'Market'] = current_market\n",
    "            prev_bottom = row['S&P500']\n",
    "        else:\n",
    "            df.at[i, 'Market'] = current_market\n",
    "            prev_top = max(prev_top, row['S&P500'])\n",
    "    elif current_market == 'Bear':\n",
    "        if row['S&P500'] >= prev_bottom * (1 + bull_threshold):\n",
    "            current_market = 'Bull'\n",
    "            df.at[i, 'Market'] = current_market\n",
    "            prev_top = row['S&P500']\n",
    "        else:\n",
    "            df.at[i, 'Market'] = current_market\n",
    "            prev_bottom = min(prev_bottom, row['S&P500'])\n",
    "    \n",
    "    df.at[i, 'Previous Top'] = prev_top\n",
    "    df.at[i, 'Previous Bottom'] = prev_bottom"
   ]
  },
  {
   "cell_type": "markdown",
   "id": "301532ce",
   "metadata": {},
   "source": [
    "# Create the Chart of the S&P 500 Bull and Bear Markets"
   ]
  },
  {
   "cell_type": "code",
   "execution_count": null,
   "id": "3e7b607d",
   "metadata": {},
   "outputs": [],
   "source": [
    "#Drop rows with None values in 'Market' column\n",
    "df = df.dropna(subset=['Market'])\n",
    "\n",
    "#Rename the column S&P 500 not to have a symbol\n",
    "df = df.rename(columns = {'S&P500' : 'SP500'})\n",
    "\n",
    "#Create a HoloViews Curve for the S&P500 values\n",
    "hover = HoverTool(tooltips=[(\"Date\", \"@Date{%F}\"), ('SP500', f\"@{'SP500{0.00}'}\")], formatters={'@Date': 'datetime'})\n",
    "spx_curve = hv.Curve(df, 'Date', 'SP500').opts(line_color='white', show_legend=False, tools=[hover])\n",
    "\n",
    "#Create a HoloViews Scatter for the Market Type\n",
    "market_scatter = hv.Scatter(df, 'Date', [('SP500', 'SP500'), ('Market', 'Market')]).opts(legend_position='top_left')\n",
    "\n",
    "#Define the Options for the Chart\n",
    "opts.defaults(opts.Curve(width=800, height=400),\n",
    "              opts.Scatter(color='Market', cmap={'Bear': 'red', 'Bull': 'green'}))\n",
    "\n",
    "#Define the Distance (in Years) between ticks\n",
    "distance_ticks = 5\n",
    "number_ticks = int(round(((df.index[-1].year - df.index[0].year) / distance_ticks), 0))\n",
    "\n",
    "#Combine the Curves and the Scatter Plot\n",
    "full_graph = spx_curve * market_scatter\n",
    "\n",
    "# Set the y-axis label for the 'S&P500' values\n",
    "full_graph = full_graph.options(opts.Curve(ylabel='S&P 500® Index', xticks = number_ticks,\n",
    "                                           title = 'S&P 500® Index: History of Bull and Bear Markets'))"
   ]
  },
  {
   "cell_type": "code",
   "execution_count": null,
   "id": "6bf76a08",
   "metadata": {},
   "outputs": [],
   "source": [
    "#Save graph to Html\n",
    "p = pn.panel(full_graph)\n",
    "p.save('SP500_Bull_Bear_Market_History_Graph.html', embed = True)"
   ]
  },
  {
   "cell_type": "markdown",
   "id": "81d4001a",
   "metadata": {},
   "source": [
    "# Table with Each Bull and Bear Market"
   ]
  },
  {
   "cell_type": "code",
   "execution_count": null,
   "id": "b0c2b5f2",
   "metadata": {},
   "outputs": [],
   "source": [
    "#Rename the column S&P 500 back\n",
    "df = df.rename(columns = {'SP500' : 'S&P500'})\n",
    "\n",
    "# Create an empty list to store market cycles\n",
    "market_cycles = []\n",
    "\n",
    "# Initialize variables to track market cycle information\n",
    "current_market_type = None\n",
    "start_date = None\n",
    "end_date = None\n",
    "\n",
    "# Iterate through the 'Market' column\n",
    "for date, market_type in df['Market'].iteritems():\n",
    "    if market_type != current_market_type:\n",
    "        # A new market cycle has started\n",
    "        if current_market_type is not None:\n",
    "            # Add the previous market cycle to the list\n",
    "            cycle_length = (end_date - start_date).days + 1\n",
    "            start_value = df.loc[start_date, 'S&P500']\n",
    "            end_value = df.loc[end_date, 'S&P500']\n",
    "            sp500_top = df.loc[start_date:end_date, 'S&P500'].max()\n",
    "            sp500_bottom = df.loc[start_date:end_date, 'S&P500'].min()\n",
    "            market_cycles.append({\n",
    "                'Market Type': current_market_type,\n",
    "                'Start Date': start_date,\n",
    "                'End Date': end_date,\n",
    "                'Length (Days)': cycle_length,\n",
    "                'S&P 500 at Start Date': start_value,\n",
    "                'S&P 500 at End Date': end_value,\n",
    "                'S&P 500 Top': sp500_top,\n",
    "                'S&P 500 Bottom': sp500_bottom\n",
    "            })\n",
    "\n",
    "        # Update current market type and start date\n",
    "        current_market_type = market_type\n",
    "        start_date = date\n",
    "\n",
    "    # Update end date\n",
    "    end_date = date\n",
    "\n",
    "# Create the market_cycles_df dataframe\n",
    "market_cycles_df = pd.DataFrame(market_cycles)\n",
    "\n",
    "# Set the 'Start Date' and 'End Date' columns as datetime\n",
    "market_cycles_df['Start Date'] = pd.to_datetime(market_cycles_df['Start Date'])\n",
    "market_cycles_df['End Date'] = pd.to_datetime(market_cycles_df['End Date'])"
   ]
  },
  {
   "cell_type": "code",
   "execution_count": null,
   "id": "3e378b8e",
   "metadata": {
    "scrolled": true
   },
   "outputs": [],
   "source": [
    "#Adding the Market Return, Maximum Possible Profit and Maximum Possible Loss\n",
    "market_cycles_df['Market Return (%)'] = round((market_cycles_df['S&P 500 at End Date'] / market_cycles_df['S&P 500 at Start Date'] - 1) * 100, 2)\n",
    "market_cycles_df['Max. Poss. Profit (%)'] = round((market_cycles_df['S&P 500 Top'] / market_cycles_df['S&P 500 at Start Date'] - 1) * 100, 2)\n",
    "market_cycles_df['Max. Poss. Loss (%)'] = round((market_cycles_df['S&P 500 Bottom'] / market_cycles_df['S&P 500 at Start Date'] - 1) * 100, 2)"
   ]
  },
  {
   "cell_type": "code",
   "execution_count": null,
   "id": "f4cdb7d5",
   "metadata": {},
   "outputs": [],
   "source": [
    "#Let's create a New Dataframe with only the Statistics, which is what we want to show\n",
    "market_cycles_stats_df = market_cycles_df[['Market Type', 'Start Date', 'End Date', 'Length (Days)', 'Market Return (%)',\n",
    "                                          'Max. Poss. Profit (%)', 'Max. Poss. Loss (%)']]\n",
    "\n",
    "# Convert the 'Start Date' and 'End Date' columns to datetime\n",
    "market_cycles_stats_df['Start Date'] = pd.to_datetime(market_cycles_stats_df['Start Date'])\n",
    "market_cycles_stats_df['End Date'] = pd.to_datetime(market_cycles_stats_df['End Date'])\n",
    "\n",
    "# Format the 'Start Date' and 'End Date' columns to display only the date part\n",
    "market_cycles_stats_df['Start Date'] = market_cycles_stats_df['Start Date'].apply(lambda x: x.strftime('%Y-%m-%d'))\n",
    "market_cycles_stats_df['End Date'] = market_cycles_stats_df['End Date'].apply(lambda x: x.strftime('%Y-%m-%d'))"
   ]
  },
  {
   "cell_type": "code",
   "execution_count": null,
   "id": "00d00c7b",
   "metadata": {},
   "outputs": [],
   "source": [
    "#Create Holoviews table object for the Market Cycle Statistics Table\n",
    "market_cycles_stats_table = hv.Table(market_cycles_stats_df).opts(\n",
    "    opts.Table(width=950, height=350, selectable = True, index_position = None, \n",
    "               title = 'S&P 500® Index: Bull and Bear Market Statistics'))"
   ]
  },
  {
   "cell_type": "code",
   "execution_count": null,
   "id": "b36c1f37",
   "metadata": {},
   "outputs": [],
   "source": [
    "#Save the Table\n",
    "p = pn.panel(market_cycles_stats_table)\n",
    "p.save('Market_Cycle_Stats_Table.html', embed = True)"
   ]
  },
  {
   "cell_type": "markdown",
   "id": "f14a0058",
   "metadata": {},
   "source": [
    "# Table with Bull Markets and Forward Returns"
   ]
  },
  {
   "cell_type": "code",
   "execution_count": null,
   "id": "1834c389",
   "metadata": {},
   "outputs": [],
   "source": [
    "#Instatiate a New Object for the Bull Market Cycles\n",
    "bull_cycles_perf_df = market_cycles_df[['Market Type', 'Start Date', 'End Date', 'Length (Days)', 'S&P 500 at Start Date']]\n",
    "bull_cycles_perf_df = bull_cycles_perf_df[bull_cycles_perf_df['Market Type'] == 'Bull']"
   ]
  },
  {
   "cell_type": "code",
   "execution_count": null,
   "id": "fc0b4053",
   "metadata": {},
   "outputs": [],
   "source": [
    "#Define the Time Intervals for Performance Measures\n",
    "one_week = datetime.timedelta(weeks=1)\n",
    "one_month = datetime.timedelta(days=30)\n",
    "three_months = datetime.timedelta(days=90)\n",
    "six_months = datetime.timedelta(days=180)\n",
    "one_year = datetime.timedelta(days=365)\n",
    "\n",
    "#Create the Performance Columns with Initial NaN Values\n",
    "bull_cycles_perf_df['1 Week'] = np.nan\n",
    "bull_cycles_perf_df['1 Month'] = np.nan\n",
    "bull_cycles_perf_df['3 Months'] = np.nan\n",
    "bull_cycles_perf_df['6 Months'] = np.nan\n",
    "bull_cycles_perf_df['1 Year'] = np.nan\n",
    "\n",
    "#Iterate over the rows of bull_cycles_perf_df dataframe to Calculate Performance Measures\n",
    "for index, row in bull_cycles_perf_df.iterrows():\n",
    "    start_date = row['Start Date']\n",
    "    end_date_1w = start_date + one_week\n",
    "    end_date_1m = start_date + one_month\n",
    "    end_date_3m = start_date + three_months\n",
    "    end_date_6m = start_date + six_months\n",
    "    end_date_1y = start_date + one_year\n",
    "    \n",
    "    #Calculate Performance Measures based on Corresponding Values in df\n",
    "    value_1w = df.loc[start_date:end_date_1w, 'S&P500'].iloc[-1]\n",
    "    value_1m = df.loc[start_date:end_date_1m, 'S&P500'].iloc[-1]\n",
    "    value_3m = df.loc[start_date:end_date_3m, 'S&P500'].iloc[-1]\n",
    "    value_6m = df.loc[start_date:end_date_6m, 'S&P500'].iloc[-1]\n",
    "    value_1y = df.loc[start_date:end_date_1y, 'S&P500'].iloc[-1]\n",
    "    \n",
    "    #Assign the Calculated Performance Measures to the Corresponding Columns\n",
    "    bull_cycles_perf_df.at[index, '1 Week'] = value_1w\n",
    "    bull_cycles_perf_df.at[index, '1 Month'] = value_1m\n",
    "    bull_cycles_perf_df.at[index, '3 Months'] = value_3m\n",
    "    bull_cycles_perf_df.at[index, '6 Months'] = value_6m\n",
    "    bull_cycles_perf_df.at[index, '1 Year'] = value_1y"
   ]
  },
  {
   "cell_type": "code",
   "execution_count": null,
   "id": "26ac9330",
   "metadata": {},
   "outputs": [],
   "source": [
    "#Calculate the Performance for every colum\n",
    "bull_cycles_perf_df['1 Week'] = round((bull_cycles_perf_df['1 Week'] / bull_cycles_perf_df['S&P 500 at Start Date'] - 1) * 100, 2)\n",
    "bull_cycles_perf_df['1 Month'] = round((bull_cycles_perf_df['1 Month'] / bull_cycles_perf_df['S&P 500 at Start Date'] - 1) * 100, 2)\n",
    "bull_cycles_perf_df['3 Months'] = round((bull_cycles_perf_df['3 Months'] / bull_cycles_perf_df['S&P 500 at Start Date'] - 1) * 100, 2)\n",
    "bull_cycles_perf_df['6 Months'] = round((bull_cycles_perf_df['6 Months'] / bull_cycles_perf_df['S&P 500 at Start Date'] - 1) * 100, 2)\n",
    "bull_cycles_perf_df['1 Year'] = round((bull_cycles_perf_df['1 Year'] / bull_cycles_perf_df['S&P 500 at Start Date'] - 1) * 100, 2)"
   ]
  },
  {
   "cell_type": "code",
   "execution_count": null,
   "id": "53ae933f",
   "metadata": {},
   "outputs": [],
   "source": [
    "#Drop S&P 500 at Start Date column - No longer needed\n",
    "bull_cycles_perf_df = bull_cycles_perf_df.drop(columns = 'S&P 500 at Start Date')\n",
    "\n",
    "#Convert the 'Start Date' and 'End Date' columns to String for the table\n",
    "bull_cycles_perf_df['Start Date'] = pd.to_datetime(bull_cycles_perf_df['Start Date']).dt.strftime('%Y-%m-%d')\n",
    "bull_cycles_perf_df['End Date'] = pd.to_datetime(bull_cycles_perf_df['End Date']).dt.strftime('%Y-%m-%d')"
   ]
  },
  {
   "cell_type": "code",
   "execution_count": null,
   "id": "2c6b5c8e",
   "metadata": {},
   "outputs": [],
   "source": [
    "#Calculate the Average Values for the Performance Columns\n",
    "average_row = round(bull_cycles_perf_df.mean(numeric_only=True), 2)\n",
    "\n",
    "#Create a Dictionary for the Average Row\n",
    "average_dict = {\n",
    "    'Market Type': 'Bull',\n",
    "    'Start Date': 'Average',\n",
    "    'End Date': '-',\n",
    "    'Length (Days)': round(average_row['Length (Days)'],0),\n",
    "    '1 Week': average_row['1 Week'],\n",
    "    '1 Month': average_row['1 Month'],\n",
    "    '3 Months': average_row['3 Months'],\n",
    "    '6 Months': average_row['6 Months'],\n",
    "    '1 Year': average_row['1 Year']\n",
    "}\n",
    "\n",
    "#Append the Average Row to the DataFrame\n",
    "bull_cycles_perf_df = bull_cycles_perf_df.append(average_dict, ignore_index=True)"
   ]
  },
  {
   "cell_type": "code",
   "execution_count": null,
   "id": "02729ca9",
   "metadata": {},
   "outputs": [],
   "source": [
    "#Create Holoviews table object for the Bull Market Performance\n",
    "bull_market_perf_table = hv.Table(bull_cycles_perf_df).opts(\n",
    "    opts.Table(width=950, height=290, selectable = True, index_position = None, \n",
    "               title = 'S&P 500® Index: Future Performance after entering a Bull Market'))"
   ]
  },
  {
   "cell_type": "code",
   "execution_count": null,
   "id": "81bf297b",
   "metadata": {},
   "outputs": [],
   "source": [
    "#Save the Table\n",
    "p = pn.panel(bull_market_perf_table)\n",
    "p.save('Bull_Market_Perf_Table.html', embed = True)"
   ]
  }
 ],
 "metadata": {
  "kernelspec": {
   "display_name": "Python 3 (ipykernel)",
   "language": "python",
   "name": "python3"
  },
  "language_info": {
   "codemirror_mode": {
    "name": "ipython",
    "version": 3
   },
   "file_extension": ".py",
   "mimetype": "text/x-python",
   "name": "python",
   "nbconvert_exporter": "python",
   "pygments_lexer": "ipython3",
   "version": "3.7.13"
  }
 },
 "nbformat": 4,
 "nbformat_minor": 5
}
