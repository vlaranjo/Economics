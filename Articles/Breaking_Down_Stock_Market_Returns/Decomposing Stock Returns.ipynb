{
 "cells": [
  {
   "cell_type": "markdown",
   "id": "3f13641c",
   "metadata": {},
   "source": [
    "# Import Libraries"
   ]
  },
  {
   "cell_type": "code",
   "execution_count": null,
   "id": "8f2b4f2e",
   "metadata": {},
   "outputs": [],
   "source": [
    "#DataFrames manipulation\n",
    "import pandas as pd\n",
    "\n",
    "#Library to calculate the percentiles\n",
    "from scipy import stats\n",
    "\n",
    "#Data download from Yahoo Finance\n",
    "from yahooquery import Ticker\n",
    "\n",
    "#Libraries for the Plotting\n",
    "import holoviews as hv\n",
    "from holoviews import opts, dim\n",
    "from bokeh.models import HoverTool\n",
    "from holoviews.plotting.links import RangeToolLink\n",
    "\n",
    "#Librarie to save the plots to html object\n",
    "import panel as pn\n",
    "\n",
    "#Quandl to take data from Multipl\n",
    "import quandl\n",
    "\n",
    "hv.extension('bokeh')"
   ]
  },
  {
   "cell_type": "markdown",
   "id": "8af1912b",
   "metadata": {},
   "source": [
    "# Download S&P Dow Jones Indices Data"
   ]
  },
  {
   "cell_type": "code",
   "execution_count": null,
   "id": "2af14bf8",
   "metadata": {},
   "outputs": [],
   "source": [
    "#Download the data from S&P Dow Jones website. Only need the data from tab \"Quarterly Data\"\n",
    "data = pd.read_excel('https://www.spglobal.com/spdji/en/documents/additional-material/sp-500-eps-est.xlsx', sheet_name='QUARTERLY DATA')"
   ]
  },
  {
   "cell_type": "code",
   "execution_count": null,
   "id": "27dc8273",
   "metadata": {
    "scrolled": true
   },
   "outputs": [],
   "source": [
    "#Define the columns\n",
    "data.columns = ['Date', 'Op_EPS', 'EPS', 'DPS', 'SPS','BVPS','CAPPS','Price','Divisor']\n",
    "\n",
    "#Limit the DataFrame just for when there is data\n",
    "data = data[6:]\n",
    "\n",
    "#Change 'Date' column to datetime format\n",
    "data['Date'] = pd.to_datetime(data['Date'])\n",
    "\n",
    "#Limit the Dataframe just for the necessary columns\n",
    "data = data[['Date', 'EPS', 'DPS', 'Price']]\n",
    "\n",
    "#Sort the Dataframe\n",
    "data = data.sort_values(by=['Date'])\n",
    "\n",
    "#Get the trailing annual values for the EPS and DPS - Sum of last 4 quarters\n",
    "data['EPS'] = data['EPS'].rolling(window=4).sum()\n",
    "data['DPS'] = data['DPS'].rolling(window=4).sum()\n",
    "data = data.dropna()\n",
    "\n",
    "#Limit the Dataframe to have only December Values - Annual base\n",
    "data = data[data['Date'].dt.month == 12]"
   ]
  },
  {
   "cell_type": "code",
   "execution_count": null,
   "id": "79901827",
   "metadata": {},
   "outputs": [],
   "source": [
    "#Create a New Object\n",
    "final_data = data\n",
    "\n",
    "#Calculate the EPS Growth and \n",
    "final_data['EPS_Growth'] = round(final_data['EPS'].pct_change() * 100)\n",
    "\n",
    "#Calculate the Dividend Yield\n",
    "final_data['DPS'] = pd.to_numeric(final_data['DPS'], errors='coerce')\n",
    "final_data['Price'] = pd.to_numeric(final_data['Price'], errors='coerce')\n",
    "final_data['Div_Yield'] = round(final_data['DPS'] / final_data['Price'] * 100, 2)\n",
    "\n",
    "#Calculate the P/E ratio change\n",
    "final_data['PE_ratio'] = round(final_data['Price'] / final_data['EPS'], 2)\n",
    "final_data['PE_ratio_change'] = round(final_data['PE_ratio'].pct_change() * 100)\n",
    "\n",
    "#Get the Year from the Date\n",
    "final_data['Year'] = final_data['Date'].dt.year\n",
    "\n",
    "#Limit the Dataframe to have only the Necessary Columns and drop NA's\n",
    "final_data = final_data[['Year', 'Div_Yield', 'EPS_Growth', 'PE_ratio_change']]\n",
    "final_data = final_data.dropna()"
   ]
  },
  {
   "cell_type": "markdown",
   "id": "b65a661d",
   "metadata": {},
   "source": [
    "# Download S&P 500 Total Return Data from Yahoo Finance "
   ]
  },
  {
   "cell_type": "code",
   "execution_count": null,
   "id": "a6d26b4d",
   "metadata": {},
   "outputs": [],
   "source": [
    "#Download the Data from Yahoo Finance\n",
    "tickers = Ticker('^SP500TR')\n",
    "spx_total_returns = tickers.history(start = '1970-01-01')\n",
    "\n",
    "#Limit the Data to the Close and rearrange columns\n",
    "spx_total_returns = spx_total_returns.reset_index()\n",
    "spx_total_returns = spx_total_returns[['date', 'close']]\n",
    "spx_total_returns = spx_total_returns.rename(columns = {'date': 'Date', 'close': 'SP500_Total_Return'})\n",
    "\n",
    "# Convert the 'Date' column to datetime format \n",
    "spx_total_returns[\"Date\"] = pd.to_datetime(spx_total_returns[\"Date\"], utc = 'true')\n",
    "\n",
    "#Limit the Dataframe to get only the last day of each year\n",
    "spx_total_returns = spx_total_returns.groupby(spx_total_returns['Date'].dt.year).last()\n",
    "\n",
    "#Calculate the annual returns\n",
    "spx_total_returns['SP500_Total_Return'] = round(spx_total_returns['SP500_Total_Return'].pct_change() * 100, 2)\n",
    "\n",
    "#Get the Year from the Date\n",
    "spx_total_returns['Year'] = spx_total_returns['Date'].dt.year\n",
    "\n",
    "#Drop NA's and Keep only the Year and the Returns columns\n",
    "spx_total_returns = spx_total_returns[['Year', 'SP500_Total_Return']]"
   ]
  },
  {
   "cell_type": "markdown",
   "id": "5d96f2c3",
   "metadata": {},
   "source": [
    "# Merge the Dataframes and Create the Graph"
   ]
  },
  {
   "cell_type": "code",
   "execution_count": null,
   "id": "7f86cd37",
   "metadata": {},
   "outputs": [],
   "source": [
    "#Merge the Data dataframe with the spx_total_returns dataframe\n",
    "full_data = final_data.merge(spx_total_returns, on='Year', how='left')"
   ]
  },
  {
   "cell_type": "code",
   "execution_count": null,
   "id": "a8507d96",
   "metadata": {},
   "outputs": [],
   "source": [
    "#Stack the data to create the Stacked barchart\n",
    "stacked_data = full_data.melt(id_vars=['Year'], value_vars=['Div_Yield', 'EPS_Growth', 'PE_ratio_change'])\n",
    "\n",
    "#Create the stacked barchart\n",
    "stacked_barchart = hv.Bars(stacked_data, ['Year', 'variable'], 'value').opts(\n",
    "    stacked=True, width=1000, height=400, ylabel='Variables (%)', tools=['hover'])\n",
    "\n",
    "#Line chart\n",
    "linechart = hv.Curve(full_data[['Year', 'SP500_Total_Return']]).opts(\n",
    "    color='black', line_width=2, width=1000, height=400, tools=['hover'])\n",
    "\n",
    "#Overlay Both Charts\n",
    "full_chart = (stacked_barchart * linechart).opts(legend_position='top_left', title = 'S&P 500 Index: Annual Total Returns Decomposition')"
   ]
  },
  {
   "cell_type": "code",
   "execution_count": null,
   "id": "765811f3",
   "metadata": {},
   "outputs": [],
   "source": [
    "#Save the Plot\n",
    "p = pn.panel(full_chart)\n",
    "p.save('Market_Returns_Decomposition_chart.html', embed = True)"
   ]
  },
  {
   "cell_type": "markdown",
   "id": "4fbb43e7",
   "metadata": {},
   "source": [
    "# Manipulate the Data to get the chart for 5 Year Returns"
   ]
  },
  {
   "cell_type": "code",
   "execution_count": null,
   "id": "7b8d4866",
   "metadata": {},
   "outputs": [],
   "source": [
    "#Create a New Object\n",
    "final_data_5Y = data.set_index('Date').resample('5Y').last()\n",
    "\n",
    "#Reset Index\n",
    "final_data_5Y = final_data_5Y.reset_index()\n",
    "\n",
    "#Calculate the EPS Growth and \n",
    "final_data_5Y['EPS_Growth'] = round(final_data_5Y['EPS'].pct_change() * 100)\n",
    "\n",
    "#Calculate the Dividend Yield\n",
    "final_data_5Y['DPS'] = pd.to_numeric(final_data_5Y['DPS'], errors='coerce')\n",
    "final_data_5Y['Price'] = pd.to_numeric(final_data_5Y['Price'], errors='coerce')\n",
    "final_data_5Y['Div_Yield'] = round(final_data_5Y['DPS'] / final_data_5Y['Price'] * 100, 2)\n",
    "\n",
    "#Calculate the P/E ratio change\n",
    "final_data_5Y['PE_ratio'] = round(final_data_5Y['Price'] / final_data_5Y['EPS'], 2)\n",
    "final_data_5Y['PE_ratio_change'] = round(final_data_5Y['PE_ratio'].pct_change() * 100)\n",
    "\n",
    "#Get the Year from the Date\n",
    "final_data_5Y['Year'] = final_data_5Y['Date'].dt.year - 1\n",
    "\n",
    "#Limit the Dataframe to have only the Necessary Columns and drop NA's\n",
    "final_data_5Y = final_data_5Y[['Year', 'Div_Yield', 'EPS_Growth', 'PE_ratio_change']]\n",
    "final_data_5Y = final_data_5Y.dropna()\n",
    "\n",
    "#Get the 5-year average for the EPS_Growth and PE_ratio change\n",
    "final_data_5Y['EPS_Growth'] = final_data_5Y['EPS_Growth']/5\n",
    "final_data_5Y['PE_ratio_change'] = final_data_5Y['PE_ratio_change']/5\n",
    "\n",
    "#Dividend Yield based on the 5 years average\n",
    "final_data_5Y['Div_Yield'] = data[['Date','Div_Yield']].set_index('Date').resample('5Y').sum().reset_index()[1:]['Div_Yield']/5"
   ]
  },
  {
   "cell_type": "code",
   "execution_count": null,
   "id": "2919f9f0",
   "metadata": {},
   "outputs": [],
   "source": [
    "#Download the Data from Yahoo Finance\n",
    "tickers = Ticker('^SP500TR')\n",
    "spx_total_returns_5Y = tickers.history(start = '1988-01-01', end = '2022-12-31')\n",
    "\n",
    "#Limit the Data to the Close and rearrange columns\n",
    "spx_total_returns_5Y = spx_total_returns_5Y.reset_index()\n",
    "spx_total_returns_5Y = spx_total_returns_5Y[['date', 'close']]\n",
    "spx_total_returns_5Y = spx_total_returns_5Y.rename(columns = {'date': 'Date', 'close': 'SP500_Total_Return'})\n",
    "\n",
    "# Convert the 'Date' column to datetime format \n",
    "spx_total_returns_5Y[\"Date\"] = pd.to_datetime(spx_total_returns_5Y[\"Date\"], utc = 'true')\n",
    "\n",
    "#Resample the Dataframe to 5Years\n",
    "spx_total_returns_5Y = spx_total_returns_5Y.set_index('Date')\n",
    "spx_total_returns_5Y = spx_total_returns_5Y.resample('5Y').last()\n",
    "spx_total_returns_5Y = spx_total_returns_5Y.reset_index()\n",
    "\n",
    "#Limit the Dataframe to get only the last day of each year\n",
    "spx_total_returns_5Y = spx_total_returns_5Y.groupby(spx_total_returns_5Y['Date'].dt.year).last()\n",
    "\n",
    "#Calculate the annual returns\n",
    "spx_total_returns_5Y['SP500_Total_Return'] = round(spx_total_returns_5Y['SP500_Total_Return'].pct_change() * 100, 2)\n",
    "\n",
    "#Get the Year from the Date\n",
    "spx_total_returns_5Y['Year'] = spx_total_returns_5Y['Date'].dt.year\n",
    "\n",
    "#Drop NA's and Keep only the Year and the Returns columns\n",
    "spx_total_returns_5Y = spx_total_returns_5Y[['Year', 'SP500_Total_Return']]\n",
    "spx_total_returns_5Y = spx_total_returns_5Y.dropna()\n",
    "\n",
    "#Get the Average Yearly Return by dividing by 5\n",
    "spx_total_returns_5Y['SP500_Total_Return'] = spx_total_returns_5Y['SP500_Total_Return']/5\n",
    "\n",
    "#Correct the Year\n",
    "spx_total_returns_5Y['Year'] = spx_total_returns_5Y['Year']-1"
   ]
  },
  {
   "cell_type": "code",
   "execution_count": null,
   "id": "d0f7a5c2",
   "metadata": {},
   "outputs": [],
   "source": [
    "#Merge the Data dataframe with the spx_total_returns dataframe\n",
    "full_data_5Y = final_data_5Y.merge(spx_total_returns_5Y, on='Year', how='left')"
   ]
  },
  {
   "cell_type": "code",
   "execution_count": null,
   "id": "f9777da1",
   "metadata": {},
   "outputs": [],
   "source": [
    "#Stack the data to create the Stacked barchart\n",
    "stacked_data_5Y = full_data_5Y.melt(id_vars=['Year'], value_vars=['Div_Yield', 'EPS_Growth', 'PE_ratio_change'])\n",
    "\n",
    "#Create the stacked barchart\n",
    "stacked_barchart_5Y = hv.Bars(stacked_data_5Y, ['Year', 'variable'], 'value').opts(\n",
    "    stacked=True, width=1000, height=400, ylabel='Variables (%)', tools=['hover'])\n",
    "\n",
    "#Line chart\n",
    "linechart_5Y = hv.Curve(full_data_5Y[['Year', 'SP500_Total_Return']]).opts(\n",
    "    color='black', line_width=2, width=1000, height=400, tools=['hover'])\n",
    "\n",
    "#Overlay Both Charts\n",
    "full_chart_5Y = (stacked_barchart_5Y * linechart_5Y).opts(legend_position='top_left', title = 'S&P 500 Index: Average 5 Year Total Returns Decomposition')"
   ]
  },
  {
   "cell_type": "code",
   "execution_count": null,
   "id": "a3394c40",
   "metadata": {},
   "outputs": [],
   "source": [
    "#Save the Plot\n",
    "p = pn.panel(full_chart_5Y)\n",
    "p.save('Market_5Year_Avg_Returns_Decomposition_chart.html', embed = True)"
   ]
  },
  {
   "cell_type": "markdown",
   "id": "1e47c764",
   "metadata": {},
   "source": [
    "# Historical P/E Ratio and Dividend Yield Graph"
   ]
  },
  {
   "cell_type": "code",
   "execution_count": null,
   "id": "618ad358",
   "metadata": {},
   "outputs": [],
   "source": [
    "#Quandl API key - Created a Free Account\n",
    "quandl.ApiConfig.api_key = \"e6Ex3wh4yNSyuUEGh75V\""
   ]
  },
  {
   "cell_type": "code",
   "execution_count": null,
   "id": "9061ae04",
   "metadata": {},
   "outputs": [],
   "source": [
    "#S&P 500 PE Ratio Data\n",
    "sp_500_pe_ratio = quandl.get(\"MULTPL/SP500_PE_RATIO_MONTH\")\n",
    "sp_500_pe_ratio = sp_500_pe_ratio.rename(columns={'Value': 'SP500_PE_ratio'})\n",
    "sp_500_pe_ratio = sp_500_pe_ratio.resample('M').last()\n",
    "\n",
    "#S&P 500 Dividend Yield Data\n",
    "sp_500_div_yield = quandl.get(\"MULTPL/SP500_DIV_YIELD_MONTH\")\n",
    "sp_500_div_yield = sp_500_div_yield.rename(columns={'Value': 'SP500_Div_Yield'})"
   ]
  },
  {
   "cell_type": "code",
   "execution_count": null,
   "id": "e21d4d49",
   "metadata": {},
   "outputs": [],
   "source": [
    "#Calculate the Median and Percentile for the PE ratio Dataframe\n",
    "sp_500_pe_ratio['Median'] = round(sp_500_pe_ratio['SP500_PE_ratio'].median(), 2)\n",
    "sp_500_pe_ratio['90th_percentile'] = round(sp_500_pe_ratio['SP500_PE_ratio'].quantile(0.9), 2)\n",
    "\n",
    "#Calculate the Median and Percentile for the Dividend Yield Dataframe\n",
    "sp_500_div_yield['Median'] = round(sp_500_div_yield['SP500_Div_Yield'].median(), 2)\n",
    "sp_500_div_yield['10th_percentile'] = round(sp_500_div_yield['SP500_Div_Yield'].quantile(0.1), 2)"
   ]
  },
  {
   "cell_type": "code",
   "execution_count": null,
   "id": "1ff22be1",
   "metadata": {
    "scrolled": true
   },
   "outputs": [],
   "source": [
    "#Calculate the Percentiles\n",
    "sp_500_pe_ratio_percentile = stats.percentileofscore(sp_500_pe_ratio['SP500_PE_ratio'], sp_500_pe_ratio['SP500_PE_ratio'].iloc[-1])\n",
    "sp_500_div_yield_percentile = stats.percentileofscore(sp_500_div_yield['SP500_Div_Yield'], sp_500_div_yield['SP500_Div_Yield'].iloc[-1])\n",
    "\n",
    "print(round(sp_500_pe_ratio_percentile,0))\n",
    "print(round(sp_500_div_yield_percentile,0))"
   ]
  },
  {
   "cell_type": "code",
   "execution_count": null,
   "id": "8f5d669f",
   "metadata": {},
   "outputs": [],
   "source": [
    "#Instantiate the Dataframe for the Graph\n",
    "graph_df = sp_500_pe_ratio\n",
    "\n",
    "#Generate all curves\n",
    "def getCurves(n):\n",
    "    for column in graph_df.columns:\n",
    "        hover = HoverTool(tooltips=[(\"Date\", \"@Date{%F}\"), (column, f\"@{column+'{0,.00}'}\")], formatters={'@Date': 'datetime'})  \n",
    "        curve = hv.Curve(graph_df[column], label = column).opts(opts.Curve(tools=[hover]))\n",
    "        curve = curve.opts(xticks=10)\n",
    "        yield curve\n",
    "        \n",
    "source_curves, target_curves  = [], []\n",
    "for curve in getCurves(2):\n",
    "    \n",
    "    src = curve.relabel('').opts(width=800, height=100, yaxis=None) \n",
    "    tgt = curve.opts(width=800, ylabel = 'P/E Ratio')\n",
    "    source_curves.append(src)\n",
    "    target_curves.append(tgt)\n",
    "\n",
    "# Link RangeTool for the first curves in the list.\n",
    "RangeToolLink(source_curves[0],target_curves[0], axes=['x','y'])  \n",
    "\n",
    "#Overlay the source and target curves \n",
    "overlaid_plot_src = hv.Overlay(source_curves).relabel('')\n",
    "overlaid_plot_tgt = hv.Overlay(target_curves)\n",
    "\n",
    "overlaid_plot_tgt = overlaid_plot_tgt.relabel('S&P 500: P/E Ratio History').opts(\n",
    "    height=400, legend_position='top')\n",
    "\n",
    "# Layout the plot\n",
    "full_graph = (overlaid_plot_tgt + overlaid_plot_src).cols(1)\n",
    "full_graph = full_graph.opts(merge_tools=False, shared_axes=False)"
   ]
  },
  {
   "cell_type": "code",
   "execution_count": null,
   "id": "c91113f1",
   "metadata": {},
   "outputs": [],
   "source": [
    "#Save the Plots\n",
    "p = pn.panel(full_graph)\n",
    "p.save('PE_ratio_decomposing_stock_returns_chart.html', embed = True)"
   ]
  },
  {
   "cell_type": "code",
   "execution_count": null,
   "id": "4d9e6e27",
   "metadata": {},
   "outputs": [],
   "source": [
    "#Instantiate the Dataframe for the Graph\n",
    "graph_df = sp_500_div_yield\n",
    "\n",
    "#Generate all curves\n",
    "def getCurves(n):\n",
    "    for column in graph_df.columns:\n",
    "        hover = HoverTool(tooltips=[(\"Date\", \"@Date{%F}\"), (column, f\"@{column+'{0,.00}'}\")], formatters={'@Date': 'datetime'})  \n",
    "        curve = hv.Curve(graph_df[column], label = column).opts(opts.Curve(tools=[hover]))\n",
    "        curve = curve.opts(xticks=10)\n",
    "        yield curve\n",
    "        \n",
    "source_curves, target_curves  = [], []\n",
    "for curve in getCurves(2):\n",
    "    \n",
    "    src = curve.relabel('').opts(width=800, height=100, yaxis=None) \n",
    "    tgt = curve.opts(width=800, ylabel = 'Dividend Yield (%)')\n",
    "    source_curves.append(src)\n",
    "    target_curves.append(tgt)\n",
    "\n",
    "# Link RangeTool for the first curves in the list.\n",
    "RangeToolLink(source_curves[0],target_curves[0], axes=['x','y'])  \n",
    "\n",
    "#Overlay the source and target curves \n",
    "overlaid_plot_src = hv.Overlay(source_curves).relabel('')\n",
    "overlaid_plot_tgt = hv.Overlay(target_curves)\n",
    "\n",
    "overlaid_plot_tgt = overlaid_plot_tgt.relabel('S&P 500: Dividend Yield (%) History').opts(\n",
    "    height=400, legend_position='top')\n",
    "\n",
    "# Layout the plot\n",
    "full_graph = (overlaid_plot_tgt + overlaid_plot_src).cols(1)\n",
    "full_graph = full_graph.opts(merge_tools=False, shared_axes=False)"
   ]
  },
  {
   "cell_type": "code",
   "execution_count": null,
   "id": "182a6396",
   "metadata": {},
   "outputs": [],
   "source": [
    "#Save the Plots\n",
    "p = pn.panel(full_graph)\n",
    "p.save('Div_Yield_decomposing_stock_returns_chart.html', embed = True)"
   ]
  }
 ],
 "metadata": {
  "kernelspec": {
   "display_name": "Python_3.9",
   "language": "python",
   "name": "python_3.9"
  },
  "language_info": {
   "codemirror_mode": {
    "name": "ipython",
    "version": 3
   },
   "file_extension": ".py",
   "mimetype": "text/x-python",
   "name": "python",
   "nbconvert_exporter": "python",
   "pygments_lexer": "ipython3",
   "version": "3.9.13"
  }
 },
 "nbformat": 4,
 "nbformat_minor": 5
}
