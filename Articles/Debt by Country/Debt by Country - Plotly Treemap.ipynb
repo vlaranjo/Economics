{
 "cells": [
  {
   "cell_type": "markdown",
   "id": "3100ac36",
   "metadata": {},
   "source": [
    "# Import Libraries"
   ]
  },
  {
   "cell_type": "code",
   "execution_count": 1,
   "id": "d9c110be",
   "metadata": {},
   "outputs": [],
   "source": [
    "#Libraires import\n",
    "import quandl\n",
    "import pandas as pd"
   ]
  },
  {
   "cell_type": "markdown",
   "id": "cb1df5fc",
   "metadata": {},
   "source": [
    "# Early Definitions"
   ]
  },
  {
   "cell_type": "code",
   "execution_count": 2,
   "id": "b1ad72b3",
   "metadata": {},
   "outputs": [],
   "source": [
    "#Quandl API key - Created a Free Account\n",
    "quandl.ApiConfig.api_key = \"\""
   ]
  },
  {
   "cell_type": "code",
   "execution_count": 3,
   "id": "5c5f5e8e",
   "metadata": {},
   "outputs": [],
   "source": [
    "#Import the DataFrame with Country Names and Country ISO Codes (for Download)\n",
    "countries_df = pd.read_csv('Country_ISO_code.csv')"
   ]
  },
  {
   "cell_type": "markdown",
   "id": "dc816911",
   "metadata": {},
   "source": [
    "# Obtaining the Data"
   ]
  },
  {
   "cell_type": "code",
   "execution_count": 4,
   "id": "c7cb82f5",
   "metadata": {},
   "outputs": [],
   "source": [
    "#This is the code for the 1st Country to be Downloaded\n",
    "##Note: A DataFrame will be created with the data for the 1st country and then ...\n",
    "## ... the data for the next countries will be added to this DataFrame in a loop via merger (see next cell)\n",
    "\n",
    "#Define the Country Name and the Country ISO Code \n",
    "country_name = countries_df.iloc[0]['Country']\n",
    "country_code = countries_df.iloc[0]['ISO3']\n",
    "\n",
    "#Codes to Download the Debt level by GDP and Outstanding Debt Value using the Country ISO Code\n",
    "country_debt_to_gdp = quandl.get(\"ODA/\"+country_code+\"_GGXWDG_NGDP\")\n",
    "country_gdp = quandl.get(\"ODA/\"+country_code+\"_NGDPD\")\n",
    "\n",
    "#Reset Index for Merging based on \"Date\" column\n",
    "country_debt_to_gdp = country_debt_to_gdp.reset_index()\n",
    "country_gdp = country_gdp.reset_index()\n",
    "\n",
    "#Change the Name of the column with the Data from Value to the Country's Name\n",
    "country_debt_to_gdp = country_debt_to_gdp.rename(columns={'Value': country_name})\n",
    "country_gdp = country_gdp.rename(columns={'Value': country_name})"
   ]
  },
  {
   "cell_type": "code",
   "execution_count": 5,
   "id": "e933099f",
   "metadata": {},
   "outputs": [],
   "source": [
    "#Loop to Obtain the data for each Country In the Countries DataFrame\n",
    "##Same code as above with difference in the last 2 lines\n",
    "for index, row in countries_df[1:].iterrows():\n",
    "    try:\n",
    "        country_name = row['Country']\n",
    "        country_code = row['ISO3']\n",
    "\n",
    "        country_debt_to_gdp_next = quandl.get(\"ODA/\"+country_code+\"_GGXWDG_NGDP\")\n",
    "        country_gdp_next = quandl.get(\"ODA/\"+country_code+\"_NGDPD\")\n",
    "\n",
    "        country_debt_to_gdp_next = country_debt_to_gdp_next.reset_index()\n",
    "        country_gdp_next = country_gdp_next.reset_index()\n",
    "\n",
    "        country_debt_to_gdp_next = country_debt_to_gdp_next.rename(columns={'Value': country_name})\n",
    "        country_gdp_next = country_gdp_next.rename(columns={'Value': country_name})\n",
    "\n",
    "        #Merge this with the main DataFrame\n",
    "        country_debt_to_gdp = country_debt_to_gdp.merge(country_debt_to_gdp_next, on='Date', how='outer')\n",
    "        country_gdp = country_gdp.merge(country_gdp_next, on='Date', how='outer')\n",
    "    except:\n",
    "        continue"
   ]
  },
  {
   "cell_type": "code",
   "execution_count": 6,
   "id": "c1335c07",
   "metadata": {},
   "outputs": [],
   "source": [
    "#Sort DataFrames by Date\n",
    "country_debt_to_gdp = country_debt_to_gdp.sort_values(by=['Date'])\n",
    "country_gdp = country_gdp.sort_values(by=['Date'])"
   ]
  },
  {
   "cell_type": "code",
   "execution_count": 7,
   "id": "b2552475",
   "metadata": {},
   "outputs": [],
   "source": [
    "#Delete prospective rows\n",
    "country_debt_to_gdp = country_debt_to_gdp.iloc[:40]\n",
    "country_gdp = country_gdp.iloc[:40]"
   ]
  },
  {
   "cell_type": "code",
   "execution_count": 8,
   "id": "bcaa63bc",
   "metadata": {},
   "outputs": [],
   "source": [
    "#DataFrame for the Latest Value for GDP in USD Billions\n",
    "country_gdp_latest = pd.DataFrame(country_gdp.iloc[-1])\n",
    "country_gdp_latest = country_gdp_latest[1:]\n",
    "country_gdp_latest = country_gdp_latest.reset_index()\n",
    "country_gdp_latest.columns = ['Country','GDP']\n",
    "\n",
    "#DataFrame for the Latest Value for Debt to GDP\n",
    "country_debt_to_gdp_latest = pd.DataFrame(country_debt_to_gdp.iloc[-1])\n",
    "country_debt_to_gdp_latest = country_debt_to_gdp_latest[1:]\n",
    "country_debt_to_gdp_latest = country_debt_to_gdp_latest.reset_index()\n",
    "country_debt_to_gdp_latest.columns = ['Country','Debt to GDP']\n",
    "country_debt_to_gdp_latest['Rank'] = country_debt_to_gdp_latest['Debt to GDP'].rank(ascending=False).dropna().astype('int32')"
   ]
  },
  {
   "cell_type": "code",
   "execution_count": 9,
   "id": "1cce627a",
   "metadata": {},
   "outputs": [],
   "source": [
    "#DataFrame for the Latest Value for Debt in in USD Billions\n",
    "country_debt_latest = country_gdp_latest.merge(country_debt_to_gdp_latest,on='Country', how='left')\n",
    "country_debt_latest['Debt'] = country_debt_latest['GDP']*country_debt_latest['Debt to GDP']/100\n",
    "country_debt_latest = country_debt_latest.drop(columns=['GDP','Debt to GDP', 'Rank'])"
   ]
  },
  {
   "cell_type": "markdown",
   "id": "b49a543b",
   "metadata": {},
   "source": [
    "# Treemap of World Debt"
   ]
  },
  {
   "cell_type": "code",
   "execution_count": 10,
   "id": "1fd58cd5",
   "metadata": {},
   "outputs": [],
   "source": [
    "#Libraries for Treemap\n",
    "import plotly.express as px"
   ]
  },
  {
   "cell_type": "code",
   "execution_count": 11,
   "id": "a597697a",
   "metadata": {},
   "outputs": [],
   "source": [
    "fig = px.treemap(country_debt_latest, path=[px.Constant(\"World\"), 'Country'], values='Debt')\n",
    "fig.update_traces(root_color=\"lightgrey\", textinfo='label+value+percent entry')\n",
    "fig.update_layout(margin = dict(t=50, l=25, r=25, b=25))\n",
    "#fig.show()\n",
    "fig.write_html(\"Debt_by_Country_Treemap_Plotly.html\")"
   ]
  }
 ],
 "metadata": {
  "kernelspec": {
   "display_name": "Python 3 (ipykernel)",
   "language": "python",
   "name": "python3"
  },
  "language_info": {
   "codemirror_mode": {
    "name": "ipython",
    "version": 3
   },
   "file_extension": ".py",
   "mimetype": "text/x-python",
   "name": "python",
   "nbconvert_exporter": "python",
   "pygments_lexer": "ipython3",
   "version": "3.7.13"
  }
 },
 "nbformat": 4,
 "nbformat_minor": 5
}
