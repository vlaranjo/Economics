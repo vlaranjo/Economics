{
 "cells": [
  {
   "cell_type": "markdown",
   "id": "b0deebed",
   "metadata": {},
   "source": [
    "# Import Libraries"
   ]
  },
  {
   "cell_type": "code",
   "execution_count": null,
   "id": "700bf17f",
   "metadata": {},
   "outputs": [],
   "source": [
    "#System Libraries\n",
    "import time\n",
    "from datetime import datetime\n",
    "\n",
    "#DataFrames manipulation\n",
    "import pandas as pd\n",
    "\n",
    "#Connect and Download Data from websites\n",
    "from selenium import webdriver\n",
    "from bs4 import BeautifulSoup\n",
    "import xml.etree.ElementTree as ET\n",
    "\n",
    "#Data download from Yahoo Finance\n",
    "from yahooquery import Ticker\n",
    "\n",
    "#Libraries for the Plotting\n",
    "import holoviews as hv\n",
    "from holoviews import opts, dim\n",
    "from holoviews.plotting.links import RangeToolLink\n",
    "from bokeh.models import HoverTool\n",
    "\n",
    "#Librarie to save the plots to html object\n",
    "import panel as pn\n",
    "import param\n",
    "\n",
    "hv.extension('bokeh')"
   ]
  },
  {
   "cell_type": "markdown",
   "id": "0f67f869",
   "metadata": {},
   "source": [
    "# Download Annual IVV Holdings"
   ]
  },
  {
   "cell_type": "markdown",
   "id": "3bf0fdf1",
   "metadata": {},
   "source": [
    "## Download data from 2019 - 2022 (EDGAR NPORT-P)"
   ]
  },
  {
   "cell_type": "markdown",
   "id": "41117fb1",
   "metadata": {},
   "source": [
    "Extra Adjustments on the data:\n",
    "- Delete the holdings relate to Cash and pro-rate the weights\n",
    "- Sum the weight of the duplicated values (because there are stocks with different asset classes - e.g. Alphabet/Google)"
   ]
  },
  {
   "cell_type": "code",
   "execution_count": null,
   "id": "85b3d65f",
   "metadata": {},
   "outputs": [],
   "source": [
    "#Import the file with the links to IVV NPORT-P from EDGAR\n",
    "edgar_portp_links = pd.read_csv('EDGAR PORT-P links.csv')\n",
    "\n",
    "#Get the years available\n",
    "years = edgar_portp_links['Date'].to_list()"
   ]
  },
  {
   "cell_type": "code",
   "execution_count": null,
   "id": "8d13cfd8",
   "metadata": {},
   "outputs": [],
   "source": [
    "#Create a writer object to save the dataframe to an excel file\n",
    "writer = pd.ExcelWriter('IVV_EDGAR_holdings.xlsx', engine='xlsxwriter')\n",
    "\n",
    "#Loop through each year\n",
    "for year in years:\n",
    "    #Get the Link for each year\n",
    "    link = edgar_portp_links[edgar_portp_links['Date'] == year]['HTML'].iloc[0]\n",
    "    \n",
    "    driver = webdriver.Chrome(executable_path=r'C:\\Program Files (x86)\\Google\\Chrome\\Application\\chromedriver.exe')  # Optional argument, if not specified will search path.\n",
    "    driver.get(link)\n",
    "\n",
    "    time.sleep(2)\n",
    "    \n",
    "    #Get the page source and parse it with BeautifulSoup\n",
    "    page_source = driver.page_source\n",
    "    soup = BeautifulSoup(page_source, 'html.parser')\n",
    "\n",
    "    #Find all the invstOrSec elements\n",
    "    invstOrSecs = soup.find_all('invstorsec')\n",
    "\n",
    "    #Create an empty list to store the extracted data\n",
    "    data = []\n",
    "\n",
    "    #Loop through each invstOrSec element\n",
    "    for invstOrSec in invstOrSecs:\n",
    "        try:\n",
    "            name = invstOrSec.find('name').text\n",
    "            title = invstOrSec.find('title').text\n",
    "            isin = invstOrSec.find('isin').get('value')\n",
    "            pctVal = invstOrSec.find('pctval').text\n",
    "\n",
    "            # Add the data to the list\n",
    "            data.append([name, title, isin, pctVal])\n",
    "        except:\n",
    "            continue\n",
    "            \n",
    "    #Create a pandas DataFrame from the data list\n",
    "    df = pd.DataFrame(data, columns=['Name', 'Title', 'ISIN', 'Percentage Value'])\n",
    "    \n",
    "\n",
    "\n",
    "    #Save the dataframe to a different tab in the excel file\n",
    "    df.to_excel(writer, sheet_name = str(year))\n",
    "   \n",
    "    driver.close()\n",
    "    driver.quit()\n",
    "    \n",
    "#Save and close the writer object\n",
    "writer.save()"
   ]
  },
  {
   "cell_type": "markdown",
   "id": "bc800576",
   "metadata": {},
   "source": [
    "## Download data from 2005 - 2018 (EDGAR N-Q)"
   ]
  },
  {
   "cell_type": "markdown",
   "id": "3b76e89d",
   "metadata": {},
   "source": [
    "Need to download the data mannually as there are more ETFs included in the N-Q files\n",
    "https://www.sec.gov/cgi-bin/browse-edgar?action=getcompany&CIK=C000012040\n",
    "\n",
    "Extra Adjustments on the data:\n",
    "- Donwload only the stocks and calculate the weights accordingly \n",
    "- Sum the weight of the duplicated values (because there are stocks with different asset classes - e.g. Alphabet/Google)"
   ]
  },
  {
   "cell_type": "markdown",
   "id": "7cc8d0c2",
   "metadata": {},
   "source": [
    "# XLG vs. IVV"
   ]
  },
  {
   "cell_type": "code",
   "execution_count": null,
   "id": "bda25451",
   "metadata": {},
   "outputs": [],
   "source": [
    "#Download the Data from Yahoo Finance\n",
    "tickers = Ticker('IVV XLG')\n",
    "df = tickers.history(start = '2022-12-30')\n",
    "\n",
    "#Reorganize the Dataframe\n",
    "df = df.reset_index()\n",
    "df = df.pivot(index='date', columns='symbol', values='close').reset_index()\n",
    "df.columns = ['date', 'IVV', 'XLG']\n",
    "df = df.rename(columns = {'date':'Date'})\n",
    "df = df.set_index('Date')\n",
    "\n",
    "#Calculate the cummultive Returns and then the indexed performance with base 100\n",
    "df = df.pct_change() * 100\n",
    "df = round(100 * (1 + df / 100).cumprod(), 2)\n",
    "df = df.fillna(100)"
   ]
  },
  {
   "cell_type": "code",
   "execution_count": null,
   "id": "06b83c36",
   "metadata": {},
   "outputs": [],
   "source": [
    "#Instantiate the Dataframe for the Graph\n",
    "graph_df = df\n",
    "\n",
    "#Generate all curves\n",
    "def getCurves(n):\n",
    "    for column in graph_df.columns:\n",
    "        hover = HoverTool(tooltips=[(\"Date\", \"@Date{%F}\"), (column, f\"@{column+'{0,.00}'}\")], formatters={'@Date': 'datetime'})  \n",
    "        curve = hv.Curve(graph_df[column], label = column).opts(opts.Curve(tools=[hover]))\n",
    "        curve = curve.opts(xticks=10)\n",
    "        yield curve\n",
    "        \n",
    "source_curves, target_curves  = [], []\n",
    "for curve in getCurves(2):\n",
    "    \n",
    "    src = curve.relabel('').opts(width=800, height=100, yaxis=None) \n",
    "    tgt = curve.opts(width=800, ylabel = 'Index (Base=100)')\n",
    "    source_curves.append(src)\n",
    "    target_curves.append(tgt)\n",
    "\n",
    "# Link RangeTool for the first curves in the list.\n",
    "RangeToolLink(source_curves[0],target_curves[0], axes=['x','y'])  \n",
    "\n",
    "#Overlay the source and target curves \n",
    "overlaid_plot_src = hv.Overlay(source_curves).relabel('')\n",
    "overlaid_plot_tgt = hv.Overlay(target_curves)\n",
    "\n",
    "overlaid_plot_tgt = overlaid_plot_tgt.relabel('Invesco S&P 500 Top 50 ETF (XLG) vs. iShares Core S&P 500 ETF (IVV)').opts(\n",
    "    height=400, legend_position='top')\n",
    "\n",
    "# Layout the plot\n",
    "full_graph = (overlaid_plot_tgt + overlaid_plot_src).cols(1)\n",
    "full_graph = full_graph.opts(merge_tools=False, shared_axes=False)"
   ]
  },
  {
   "cell_type": "code",
   "execution_count": null,
   "id": "e10307a4",
   "metadata": {},
   "outputs": [],
   "source": [
    "#Save graph to Html\n",
    "p = pn.panel(full_graph)\n",
    "p.save('XLG_vs_IVV_Graph.html', embed = True)"
   ]
  },
  {
   "cell_type": "markdown",
   "id": "17c0eab2",
   "metadata": {},
   "source": [
    "# Current Top 10 Holdings of IVV and Performance"
   ]
  },
  {
   "cell_type": "code",
   "execution_count": null,
   "id": "dd3c566b",
   "metadata": {},
   "outputs": [],
   "source": [
    "#Download the data from iShares\n",
    "url = 'https://www.ishares.com/us/products/239726/ishares-core-sp-500-etf/1467271812596.ajax?fileType=csv&fileName=IVV_holdings&dataType=fund'\n",
    "curr_top10_df = pd.read_csv(url, skiprows=9, delimiter=',', error_bad_lines=False)\n",
    "\n",
    "#Filter for the Stocks in the ETF and pro-rate the weight so that it sums up to 100% (exclude Cash, etc.)\n",
    "curr_top10_df = curr_top10_df[curr_top10_df['Asset Class'] == 'Equity']\n",
    "curr_top10_df['Weight (%)'] = curr_top10_df['Weight (%)'] *(100 / curr_top10_df['Weight (%)'].sum())\n",
    "curr_top10_df['Weight (%)'] = round(curr_top10_df['Weight (%)'], 2)\n",
    "\n",
    "#Limit the data for the Top 10 [will sum GOOGL with GOOG]\n",
    "curr_top10_df = curr_top10_df[:11]\n",
    "\n",
    "#Keep only relevant columns\n",
    "curr_top10_df = curr_top10_df[['Ticker', 'Name', 'Weight (%)']]\n",
    "\n",
    "#Sum GOOGL and GOOG, drop GOOG, and change the name for 'Class' not to appear \n",
    "curr_top10_df.loc[4, 'Weight (%)'] = curr_top10_df.loc[4:5, 'Weight (%)'].sum()\n",
    "curr_top10_df = curr_top10_df.drop(5)\n",
    "curr_top10_df.loc[4, 'Name'] = 'ALPHABET INC CLASS'\n",
    "\n",
    "#Change the Ticker of Berkshire\n",
    "curr_top10_df.loc[7, 'Ticker'] = 'BRK-B'"
   ]
  },
  {
   "cell_type": "code",
   "execution_count": null,
   "id": "78c36fc1",
   "metadata": {},
   "outputs": [],
   "source": [
    "#Create a List with the Top 10 Holdings in S&P 500\n",
    "top10_tickers = curr_top10_df['Ticker'].to_list()\n",
    "\n",
    "tickers = Ticker(top10_tickers, asynchronous=True)\n",
    "top10_perf_df = tickers.history(start = '2022-12-30')\n",
    "\n",
    "#Reorganize the Dataframe\n",
    "top10_perf_df = top10_perf_df.reset_index()\n",
    "top10_perf_df = top10_perf_df.pivot(index='date', columns='symbol', values='close').reset_index()\n",
    "top10_perf_df = top10_perf_df.set_index('date')\n",
    "\n",
    "#Calculate the YTD Performance\n",
    "top10_perf_df = pd.DataFrame(round((top10_perf_df.iloc[-1] / top10_perf_df.iloc[0] - 1) * 100, 2))\n",
    "top10_perf_df = top10_perf_df.reset_index()\n",
    "top10_perf_df = top10_perf_df.rename(columns = {top10_perf_df.columns[0]: 'Ticker', top10_perf_df.columns[1]: 'Return (%)'})"
   ]
  },
  {
   "cell_type": "code",
   "execution_count": null,
   "id": "339e28be",
   "metadata": {},
   "outputs": [],
   "source": [
    "#Merge the Top 10 Holdings performance with the Current Top 10 dataframe\n",
    "curr_top10_df = curr_top10_df.merge(top10_perf_df, on = 'Ticker', how='left')"
   ]
  },
  {
   "cell_type": "code",
   "execution_count": null,
   "id": "396225f1",
   "metadata": {
    "scrolled": true
   },
   "outputs": [],
   "source": [
    "#Calculate the Top 10 Total Weight\n",
    "top10_weight_sum = curr_top10_df['Weight (%)'].sum()\n",
    "\n",
    "#Calculate the Top 10 Average Return\n",
    "top10_wgt_avg_return = round((curr_top10_df['Weight (%)'] * curr_top10_df['Return (%)'] / 100).sum(), 2)\n",
    "\n",
    "#Add the Data to the Curr_top10 dataframe\n",
    "top10_weight_data = final_df = pd.DataFrame([{'Ticker':'-', 'Name':'Total / Weighted Average', 'Weight (%)':top10_weight_sum, \n",
    "                                              'Return (%)': top10_wgt_avg_return}])\n",
    "curr_top10_df = pd.concat([curr_top10_df, top10_weight_data], axis=0)"
   ]
  },
  {
   "cell_type": "code",
   "execution_count": null,
   "id": "b4a6e2cf",
   "metadata": {},
   "outputs": [],
   "source": [
    "#Create Holoviews table object for Top 10 Companies\n",
    "curr_top10_df_table = hv.Table(curr_top10_df).opts(\n",
    "    opts.Table(width=950, height=350, selectable = True, index_position = None, \n",
    "               title = 'Current Top 10 Companies in the S&P 500 Index'))"
   ]
  },
  {
   "cell_type": "code",
   "execution_count": null,
   "id": "4ddc1f5c",
   "metadata": {},
   "outputs": [],
   "source": [
    "#Save the Plots\n",
    "p = pn.panel(curr_top10_df_table)\n",
    "p.save('Current_SP500_Top10_Companies.html', embed = True)"
   ]
  },
  {
   "cell_type": "markdown",
   "id": "2f0232cf",
   "metadata": {},
   "source": [
    "# Historical Percentage on Top 10 Companies"
   ]
  },
  {
   "cell_type": "code",
   "execution_count": null,
   "id": "0c0e7f52",
   "metadata": {},
   "outputs": [],
   "source": [
    "#Instantiate an object with all the tabs in IVV_EDGAR_holdings_full file\n",
    "ivv_edgar_holdings = pd.read_excel('IVV_EDGAR_holdings_full.xlsx', sheet_name=None)"
   ]
  },
  {
   "cell_type": "code",
   "execution_count": null,
   "id": "ea08514b",
   "metadata": {},
   "outputs": [],
   "source": [
    "#Create an empty DataFrame where we will Concatenate the information\n",
    "hist_top10_weight_df = pd.DataFrame(columns=['Year', 'Weight (%)'])\n",
    "\n",
    "#Run a Loop to get the Top 10 Total Weight for each year\n",
    "for year in ivv_edgar_holdings.keys():\n",
    "    \n",
    "    #Get the Top 10 Total Weight and Create a DataFrame with the data\n",
    "    top10_year_weight = ivv_edgar_holdings[year].iloc[:10]['Weight (%)'].sum() * 100\n",
    "    year_top10_df = pd.DataFrame([{'Year':year, 'Weight (%)':top10_year_weight}])\n",
    "\n",
    "    #Concatenate the New data in the hist_top10_weight_df dataframe\n",
    "    hist_top10_weight_df = pd.concat([hist_top10_weight_df, year_top10_df])"
   ]
  },
  {
   "cell_type": "code",
   "execution_count": null,
   "id": "effcb697",
   "metadata": {},
   "outputs": [],
   "source": [
    "#Convert the Year column to date showing the last day of the year\n",
    "hist_top10_weight_df['Year'] = pd.to_datetime(hist_top10_weight_df['Year'], format='%Y') + pd.offsets.YearEnd()\n",
    "\n",
    "#Get Current Date and Join current holdings to the Historical Top 10 Dataframe\n",
    "current_date = pd.to_datetime((pd.Timestamp.today() - pd.offsets.BDay(1)).date())\n",
    "current_top10_weight_df = pd.DataFrame([{'Year':current_date, 'Weight (%)':top10_weight_sum}])\n",
    "\n",
    "#Join the Current Date data to the Historical data\n",
    "hist_top10_weight_df = pd.concat([hist_top10_weight_df, current_top10_weight_df])\n",
    "\n",
    "#Rename Columns and set Index\n",
    "hist_top10_weight_df = hist_top10_weight_df.rename(columns = {'Year':'Date', 'Weight (%)':'Weight'})\n",
    "hist_top10_weight_df = hist_top10_weight_df.set_index('Date')\n",
    "\n",
    "#Sort Values\n",
    "hist_top10_weight_df = hist_top10_weight_df.sort_values(by='Date')"
   ]
  },
  {
   "cell_type": "code",
   "execution_count": null,
   "id": "0bb9517b",
   "metadata": {},
   "outputs": [],
   "source": [
    "#Instantiate the Dataframe for the Graph\n",
    "graph_df = hist_top10_weight_df\n",
    "\n",
    "#Create the Graph\n",
    "hover = HoverTool(tooltips=[(\"Date\", \"@Date{%F}\"), ('Weight', f\"@Weight\")], formatters={'@Date': 'datetime'})  \n",
    "hist_top10_weight_graph = hv.Curve(graph_df).opts(opts.Curve(tools=[hover])).opts(width=800, height=400, ylabel = 'Weight (%)',color = 'red', xticks=10\n",
    "                                                               ).relabel('Historial Top10 Weight (%) of iShares Core S&P 500 ETF (IVV)')"
   ]
  },
  {
   "cell_type": "code",
   "execution_count": null,
   "id": "a52c1d68",
   "metadata": {},
   "outputs": [],
   "source": [
    "#Save the Plots\n",
    "p = pn.panel(hist_top10_weight_graph)\n",
    "p.save('Historical_Top10_Weights.html', embed = True)"
   ]
  },
  {
   "cell_type": "markdown",
   "id": "f21bc650",
   "metadata": {},
   "source": [
    "# Historical Top 10 Companies"
   ]
  },
  {
   "cell_type": "code",
   "execution_count": null,
   "id": "90802405",
   "metadata": {},
   "outputs": [],
   "source": [
    "#Create a New Dictionary with only the Top10 Companies [Note that the ivv_edgar_holdings has all the 500 holdings]\n",
    "ivv_edgar_holdings_top10 = {}\n",
    "\n",
    "#Iterate over the ivv_edgar_holdings dictionary\n",
    "for key, df in ivv_edgar_holdings.items():\n",
    "    #Take the first 10 rows of each dataframe\n",
    "    limited_df = df.head(10)\n",
    "    \n",
    "    #Multiply the Weights by 100\n",
    "    limited_df['Weight (%)'] = limited_df['Weight (%)'] * 100\n",
    "    \n",
    "    #Add the limited dataframe to the new dictionary\n",
    "    ivv_edgar_holdings_top10[key] = limited_df"
   ]
  },
  {
   "cell_type": "code",
   "execution_count": null,
   "id": "e79f0e8f",
   "metadata": {},
   "outputs": [],
   "source": [
    "#Get the list of years available\n",
    "years = list(ivv_edgar_holdings_top10.keys())"
   ]
  },
  {
   "cell_type": "code",
   "execution_count": null,
   "id": "ba79b26a",
   "metadata": {},
   "outputs": [],
   "source": [
    "def load_year(Year):\n",
    "    table = hv.Table(ivv_edgar_holdings_top10[Year])\n",
    "    return table\n",
    "    \n",
    "dmap = hv.DynamicMap(load_year, kdims='Year').redim.values(Year=years)\n",
    "\n",
    "dmap = dmap.opts(framewise=True)"
   ]
  },
  {
   "cell_type": "code",
   "execution_count": null,
   "id": "e67a037e",
   "metadata": {},
   "outputs": [],
   "source": [
    "#Let's use the Panel library to be able to save the Table generated\n",
    "p = pn.panel(dmap,  widget_location='top_left')\n",
    "p.save('Historical_SP500_Top10_Companies.html', embed = True, max_states=18)"
   ]
  }
 ],
 "metadata": {
  "kernelspec": {
   "display_name": "Python 3 (ipykernel)",
   "language": "python",
   "name": "python3"
  },
  "language_info": {
   "codemirror_mode": {
    "name": "ipython",
    "version": 3
   },
   "file_extension": ".py",
   "mimetype": "text/x-python",
   "name": "python",
   "nbconvert_exporter": "python",
   "pygments_lexer": "ipython3",
   "version": "3.7.13"
  }
 },
 "nbformat": 4,
 "nbformat_minor": 5
}
