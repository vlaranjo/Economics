{
 "cells": [
  {
   "cell_type": "markdown",
   "id": "99970fff",
   "metadata": {},
   "source": [
    "# Import Libraries"
   ]
  },
  {
   "cell_type": "code",
   "execution_count": null,
   "id": "dd7ad0bf",
   "metadata": {},
   "outputs": [],
   "source": [
    "#System Libraries\n",
    "from datetime import datetime\n",
    "from pandas.tseries.offsets import BDay\n",
    "\n",
    "#DataFrames manipulation\n",
    "import pandas as pd\n",
    "\n",
    "#Data download from Yahoo Finance\n",
    "from yahooquery import Ticker\n",
    "from fake_useragent import UserAgent\n",
    "\n",
    "#Download Tables from websites\n",
    "import requests\n",
    "\n",
    "#Track the progress of the loop\n",
    "from tqdm import tqdm \n",
    "\n",
    "#Libraries for the Plotting\n",
    "import holoviews as hv\n",
    "from holoviews import opts, dim\n",
    "from holoviews.plotting.links import RangeToolLink\n",
    "from bokeh.models import HoverTool\n",
    "\n",
    "#Librarie to save the plots to html object\n",
    "import panel as pn\n",
    "import param\n",
    "\n",
    "hv.extension('bokeh')"
   ]
  },
  {
   "cell_type": "markdown",
   "id": "2a3d05cc",
   "metadata": {},
   "source": [
    "# New York Fed - Download the data and Create the Chart"
   ]
  },
  {
   "cell_type": "code",
   "execution_count": null,
   "id": "57dd7189",
   "metadata": {},
   "outputs": [],
   "source": [
    "#Download the File with the data from New York Fed website\n",
    "ny_fed_data = pd.read_excel('https://www.newyorkfed.org/medialibrary/media/research/capital_markets/allmonth.xls')"
   ]
  },
  {
   "cell_type": "code",
   "execution_count": null,
   "id": "bdf4173c",
   "metadata": {},
   "outputs": [],
   "source": [
    "#Cleaning the Dataframe to get only the data we need and to get it in the format to convert to the graph\n",
    "recession_probability_df = ny_fed_data[['Date','Rec_prob']]\n",
    "recession_probability_df = recession_probability_df.dropna()\n",
    "recession_probability_df = recession_probability_df.rename(columns = {'Rec_prob': 'Probability'})\n",
    "recession_probability_df['Probability'] = recession_probability_df['Probability'] * 100\n",
    "recession_probability_df['Date'] = recession_probability_df['Date'].dt.date\n",
    "recession_probability_df = recession_probability_df.set_index('Date')"
   ]
  },
  {
   "cell_type": "code",
   "execution_count": null,
   "id": "0127299c",
   "metadata": {},
   "outputs": [],
   "source": [
    "#Instantiate the Dataframe for the \"Probability of US Recession Predicted by Treasury Spread - Twelve Months Ahead\" \n",
    "graph_df = recession_probability_df\n",
    "\n",
    "#Generate all curves\n",
    "def getCurves(n):\n",
    "    for column in graph_df.columns:\n",
    "        hover = HoverTool(tooltips=[(\"Date\", \"@Date{%F}\"), (column, f\"@{column}\")], formatters={'@Date': 'datetime'})  \n",
    "        curve = hv.Curve(graph_df[column], label = column).opts(opts.Curve(tools=[hover]))\n",
    "        curve = curve.opts(xticks=10)\n",
    "        yield curve\n",
    "        \n",
    "source_curves, target_curves  = [], []\n",
    "for curve in getCurves(2):\n",
    "    \n",
    "    src = curve.relabel('').opts(width=800, height=100, yaxis=None) \n",
    "    tgt = curve.opts(width=800, ylabel = 'Probability of US Recession (%)')\n",
    "    source_curves.append(src)\n",
    "    target_curves.append(tgt)\n",
    "    \n",
    "# Link RangeTool for the first curves in the list.\n",
    "RangeToolLink(source_curves[0],target_curves[0], axes=['x','y'])  \n",
    "\n",
    "#Overlay the source and target curves \n",
    "overlaid_plot_src = hv.Overlay(source_curves).relabel('')\n",
    "overlaid_plot_tgt = hv.Overlay(target_curves)\n",
    "\n",
    "#Add an Horizontal Line at the last value\n",
    "last_value = recession_probability_df['Probability'].iloc[-1]\n",
    "hline = hv.HLine(last_value).opts(color='red', line_width=1, line_dash='5 5')\n",
    "overlaid_plot_tgt = overlaid_plot_tgt * hline\n",
    "overlaid_plot_tgt = overlaid_plot_tgt.relabel('Probability of US Recession Predicted by Treasury Spread - Twelve Months Ahead').opts(\n",
    "    height=400, legend_position='top')\n",
    "\n",
    "# Layout the plot\n",
    "full_graph_initial = (overlaid_plot_tgt + overlaid_plot_src).cols(1)"
   ]
  },
  {
   "cell_type": "code",
   "execution_count": null,
   "id": "a37cd074",
   "metadata": {},
   "outputs": [],
   "source": [
    "#Save the Plots\n",
    "p = pn.panel(full_graph_initial)\n",
    "p.save('Bankrupcy_Article_Recession_Probability.html', embed = True)"
   ]
  },
  {
   "cell_type": "markdown",
   "id": "0226f08d",
   "metadata": {},
   "source": [
    "# Russell 3000 Index - Download the Financial Data and Calculate the Z-Score"
   ]
  },
  {
   "cell_type": "code",
   "execution_count": null,
   "id": "efc1ca9f",
   "metadata": {},
   "outputs": [],
   "source": [
    "#Import the Russell 3000 Index (RAY) based on IWV ETF\n",
    "ray_df = pd.read_csv('IWV_holdings_12302022_clean.csv')\n",
    "\n",
    "#Filter for the Stocks - Delete Cash, Futures and so on\n",
    "ray_df = ray_df[ray_df['Asset Class'] == 'Equity']\n",
    "\n",
    "#Get the Ticker list\n",
    "ticker_list = ray_df['Ticker'].to_list()"
   ]
  },
  {
   "cell_type": "code",
   "execution_count": null,
   "id": "cdbe2da7",
   "metadata": {},
   "outputs": [],
   "source": [
    "#Create an empty DataFrame where we will Concatenate the information\n",
    "final_df_full = pd.DataFrame(columns=['Ticker', 'Name', 'Altman Z-Score','Probability of Default'])"
   ]
  },
  {
   "cell_type": "code",
   "execution_count": null,
   "id": "4c99febf",
   "metadata": {},
   "outputs": [],
   "source": [
    "for ticker in tqdm(ticker_list):\n",
    "    try:\n",
    "        #Instantiate the Yahoo Finance and UserAgent module\n",
    "        ua = UserAgent()\n",
    "        stock = Ticker(ticker, user_agent=ua.random)\n",
    "\n",
    "        #Download the Balance Sheet and Income Statement from Yahoo Finance\n",
    "        balance_sheet_df = stock.balance_sheet(frequency='q')\n",
    "        income_statement_df = stock.income_statement(frequency='q')\n",
    "\n",
    "        #Delete data for 2023-03-31 in case the company already presented earnings\n",
    "        balance_sheet_df = balance_sheet_df.iloc[:-1] if balance_sheet_df.iloc[-1][0].strftime('%Y-%m-%d') == '2023-03-31' else balance_sheet_df\n",
    "        income_statement_df.iloc[:-2] if income_statement_df.iloc[-1][0].strftime('%Y-%m-%d') == '2023-03-31' else income_statement_df\n",
    "\n",
    "        #Limit the Data for the Last Period of the Balance Sheet and Income Statement  \n",
    "        balance_sheet_df = pd.DataFrame(balance_sheet_df.iloc[-1]).T\n",
    "        income_statement_df = pd.DataFrame(income_statement_df.iloc[-1]).T\n",
    "\n",
    "        #Obtain the Datapoints needed for the Ratios calculations\n",
    "        total_assets = balance_sheet_df['TotalAssets'][0]\n",
    "        working_capital = 0 if balance_sheet_df.get('WorkingCapital') is None else balance_sheet_df['WorkingCapital'][0]\n",
    "        retained_earnings = balance_sheet_df['RetainedEarnings'][0]\n",
    "        total_liabilities = balance_sheet_df['TotalLiabilitiesNetMinorityInterest'][0]\n",
    "        ebit = income_statement_df['PretaxIncome'][0] if income_statement_df.get('EBIT') is None else income_statement_df['EBIT'][0]\n",
    "        sales = income_statement_df['TotalRevenue'][0]\n",
    "\n",
    "        #Get the price for the end of the quarter under analysis\n",
    "        date = balance_sheet_df['asOfDate'][0].date()\n",
    "        price_df = stock.history(start = (date - BDay(1)).strftime('%Y-%m-%d'), end= date.strftime('%Y-%m-%d'))\n",
    "        price_df = price_df.reset_index()\n",
    "        price = price_df['close'][0]\n",
    "\n",
    "        #Get the Maket Value of Equity\n",
    "        shares_outstanding = balance_sheet_df['OrdinarySharesNumber'][0] \n",
    "        mv_equity = price * shares_outstanding\n",
    "\n",
    "        #Calculate the ratios\n",
    "        working_capital_to_assets = working_capital/total_assets\n",
    "        ret_earnings_to_assets = retained_earnings/total_assets\n",
    "        ebit_to_assets = ebit/total_assets\n",
    "        mv_equity_to_bv_liabilities = mv_equity/total_liabilities\n",
    "        sales_to_assets = sales/total_assets\n",
    "\n",
    "        #Calculate the Altman Z score\n",
    "        altman_zscore = round((1.2 * working_capital_to_assets + 1.4 * ret_earnings_to_assets + 3.3 * ebit_to_assets +\n",
    "                        0.6 * mv_equity_to_bv_liabilities + 1.0 * sales_to_assets), 2)\n",
    "\n",
    "        #Get the Key to See if theProbability of Default is Low, High or Uncertain\n",
    "        if altman_zscore > 3.0:\n",
    "            bankruptcy_key = 'Low'\n",
    "        elif altman_zscore <= 3.0 and altman_zscore >= 1.81:\n",
    "            bankruptcy_key = 'Uncertain'\n",
    "        else:\n",
    "            bankruptcy_key ='High'\n",
    "\n",
    "        #Create a DataFrame with the Final Data for each Stock\n",
    "        name = ray_df[ray_df['Ticker'] == ticker]['Name'].iloc[0]\n",
    "        final_df = pd.DataFrame([{'Ticker':ticker, 'Name':name, 'Altman Z-Score':altman_zscore, 'Probability of Default':bankruptcy_key}])\n",
    "\n",
    "        #Concatenate current Ticker's Data to the Full DataFrame\n",
    "        final_df_full = pd.concat([final_df_full, final_df], axis=0)\n",
    "        \n",
    "    except:\n",
    "        next\n",
    "        \n",
    "#Add a Column with Sector\n",
    "final_df_full = final_df_full.merge(ray_df[['Ticker','Sector']], on='Ticker', how='left')\n",
    "\n",
    "#Reorder column order\n",
    "final_df_full = final_df_full[['Ticker', 'Name', 'Sector', 'Altman Z-Score', 'Probability of Default']]\n",
    "\n",
    "#Remove the NaNs\n",
    "final_df_full = final_df_full.dropna()"
   ]
  },
  {
   "cell_type": "code",
   "execution_count": null,
   "id": "1c8b2d9b",
   "metadata": {},
   "outputs": [],
   "source": [
    "#Create Holoviews table object for All Companies\n",
    "full_df_table = hv.Table(final_df_full).opts(\n",
    "    opts.Table(width=950, height=280, selectable = True, index_position = None, \n",
    "               title = 'Altman Z-Score for All Companies'))\n",
    "\n",
    "#Save the Plots\n",
    "p = pn.panel(full_df_table)\n",
    "p.save('Altman_ZScore_All_Companies.html', embed = True)"
   ]
  },
  {
   "cell_type": "markdown",
   "id": "a8e73314",
   "metadata": {},
   "source": [
    "# Create the Table with the Top 10 Largest Companies"
   ]
  },
  {
   "cell_type": "code",
   "execution_count": null,
   "id": "44fc2ef8",
   "metadata": {},
   "outputs": [],
   "source": [
    "#Create a Dataframe with Only the Top 10\n",
    "top_10_df = final_df_full[0:10]"
   ]
  },
  {
   "cell_type": "code",
   "execution_count": null,
   "id": "8ef9d963",
   "metadata": {},
   "outputs": [],
   "source": [
    "#Create Holoviews table object for the Top 10 Table\n",
    "top_10_table = hv.Table(top_10_df).opts(\n",
    "    opts.Table(width=950, height=280, selectable = True, index_position = None, \n",
    "               title = 'Altman Z-Score for Top 10 Largest Companies by Market Cap'))\n",
    "\n",
    "#Save the Plots\n",
    "p = pn.panel(top_10_table)\n",
    "p.save('Altman_ZScore_Top10_Companies.html', embed = True)"
   ]
  },
  {
   "cell_type": "markdown",
   "id": "d8f07bbc",
   "metadata": {},
   "source": [
    "# Data for the List of Companies which filled for Bankruptcy so far in 2023"
   ]
  },
  {
   "cell_type": "code",
   "execution_count": null,
   "id": "f5ebe7e3",
   "metadata": {},
   "outputs": [],
   "source": [
    "#Get the table with the data for the Bankruptcies that already occured in 2023 from StockAnalysis website\n",
    "ua = UserAgent()\n",
    "header = {\"User-Agent\": ua.random}\n",
    "\n",
    "r = requests.get('https://stockanalysis.com/actions/bankruptcies/2023/', headers = header)\n",
    "\n",
    "bankrupcies_table = pd.read_html(r.content)[0]\n",
    "\n",
    "bankrupcies_ticker_list = bankrupcies_table['Symbol'].to_list()"
   ]
  },
  {
   "cell_type": "code",
   "execution_count": null,
   "id": "ebe488d1",
   "metadata": {},
   "outputs": [],
   "source": [
    "#Create an empty DataFrame where we will Concatenate the information\n",
    "bankruptcies_df_full = pd.DataFrame(columns=['Ticker', 'Name', 'Altman Z-Score','Probability of Default'])\n",
    "\n",
    "#Run the Loop\n",
    "for ticker in tqdm(bankrupcies_ticker_list):\n",
    "    try:\n",
    "        \n",
    "        #Instantiate the Yahoo Finance and UserAgent module\n",
    "        ua = UserAgent()\n",
    "        stock = Ticker(ticker, user_agent=ua.random)\n",
    "\n",
    "        #Download the Balance Sheet and Income Statement from Yahoo Finance\n",
    "        balance_sheet_df = stock.balance_sheet(frequency='q')\n",
    "        income_statement_df = stock.income_statement(frequency='q')\n",
    "\n",
    "        #Delete data for 2023-03-31 in case the company already presented earnings\n",
    "        balance_sheet_df = balance_sheet_df.iloc[:-1] if balance_sheet_df.iloc[-1][0].strftime('%Y-%m-%d') == '2023-03-31' else balance_sheet_df\n",
    "        income_statement_df.iloc[:-2] if income_statement_df.iloc[-1][0].strftime('%Y-%m-%d') == '2023-03-31' else income_statement_df\n",
    "\n",
    "        #Limit the Data for the Last Period of the Balance Sheet Statement  \n",
    "        balance_sheet_df = pd.DataFrame(balance_sheet_df.iloc[-1]).T\n",
    "        income_statement_df = pd.DataFrame(income_statement_df.iloc[-1]).T\n",
    "\n",
    "        #Obtain the Datapoints needed for the Ratios calculations\n",
    "        total_assets = balance_sheet_df['TotalAssets'][0]\n",
    "        working_capital = 0 if balance_sheet_df.get('WorkingCapital') is None else balance_sheet_df['WorkingCapital'][0]\n",
    "        retained_earnings = balance_sheet_df['RetainedEarnings'][0]\n",
    "        total_liabilities = balance_sheet_df['TotalLiabilitiesNetMinorityInterest'][0]\n",
    "        ebit = income_statement_df['PretaxIncome'][0] if income_statement_df.get('EBIT') is None else income_statement_df['EBIT'][0]\n",
    "        sales = income_statement_df['TotalRevenue'][0]\n",
    "\n",
    "        #Get the price for the end of the quarter under analysis\n",
    "        date = balance_sheet_df['asOfDate'][0].date()\n",
    "        price_df = stock.history(start = (date - BDay(1)).strftime('%Y-%m-%d'), end= date.strftime('%Y-%m-%d'))\n",
    "        price_df = price_df.reset_index()\n",
    "        price = price_df['close'][0]\n",
    "\n",
    "        #Get the Maket Value of Equity\n",
    "        shares_outstanding = balance_sheet_df['OrdinarySharesNumber'][0] \n",
    "        mv_equity = price * shares_outstanding\n",
    "\n",
    "        #Calculate the ratios\n",
    "        working_capital_to_assets = working_capital/total_assets\n",
    "        ret_earnings_to_assets = retained_earnings/total_assets\n",
    "        ebit_to_assets = ebit/total_assets\n",
    "        mv_equity_to_bv_liabilities = mv_equity/total_liabilities\n",
    "        sales_to_assets = sales/total_assets\n",
    "\n",
    "        #Calculate the Altman Z score\n",
    "        altman_zscore = round((1.2 * working_capital_to_assets + 1.4 * ret_earnings_to_assets + 3.3 * ebit_to_assets +\n",
    "                        0.6 * mv_equity_to_bv_liabilities + 1.0 * sales_to_assets), 2)\n",
    "\n",
    "        #Get the Key to See if theProbability of Default is Low, High or Uncertain\n",
    "        if altman_zscore > 3.0:\n",
    "            bankruptcy_key = 'Low'\n",
    "        elif altman_zscore <= 3.0 and altman_zscore >= 1.81:\n",
    "            bankruptcy_key = 'Uncertain'\n",
    "        else:\n",
    "            bankruptcy_key ='High'\n",
    "\n",
    "        #Create a DataFrame with the Final Data for each Stock\n",
    "        name = bankrupcies_table[bankrupcies_table['Symbol'] == ticker]['Company Name'].iloc[0]\n",
    "        final_df = pd.DataFrame([{'Ticker':ticker, 'Name':name, 'Altman Z-Score':altman_zscore, 'Probability of Default':bankruptcy_key}])\n",
    "\n",
    "        #Concatenate current Ticker's Data to the Full DataFrame\n",
    "        bankruptcies_df_full = pd.concat([bankruptcies_df_full, final_df], axis=0)\n",
    "        \n",
    "    except:\n",
    "        next\n",
    "                \n",
    "#Remove the NaNs\n",
    "bankruptcies_df_full = bankruptcies_df_full.dropna()"
   ]
  },
  {
   "cell_type": "code",
   "execution_count": null,
   "id": "68e301ac",
   "metadata": {},
   "outputs": [],
   "source": [
    "#Create Holoviews table object for the Bankruptices Table\n",
    "bankruptcies_table = hv.Table(bankruptcies_df_full).opts(\n",
    "    opts.Table(width=950, height=280, selectable = True, index_position = None, \n",
    "               title = 'Altman Z-Score for Companies which Filled for Bankruptcy in 2023'))\n",
    "\n",
    "#Save the Plots\n",
    "p = pn.panel(bankruptcies_table)\n",
    "p.save('Altman_ZScore_Bankrupt_Companies.html', embed = True)"
   ]
  },
  {
   "cell_type": "markdown",
   "id": "8f470281",
   "metadata": {},
   "source": [
    "# Create the Table with the Companies with High Probability of Default"
   ]
  },
  {
   "cell_type": "code",
   "execution_count": null,
   "id": "a87338ef",
   "metadata": {},
   "outputs": [],
   "source": [
    "#Create a Dataframe with Only the Companies with High Probability of Default\n",
    "high_prob_default_df = final_df_full[final_df_full['Probability of Default'] == 'High']"
   ]
  },
  {
   "cell_type": "code",
   "execution_count": null,
   "id": "92859a1c",
   "metadata": {},
   "outputs": [],
   "source": [
    "#Create Holoviews table object for the Top 10 Table\n",
    "high_prob_default_table = hv.Table(high_prob_default_df).opts(\n",
    "    opts.Table(width=950, height=280, selectable = True, index_position = None, \n",
    "               title = 'Altman Z-Score for the Companies with High Probability of Default'))\n",
    "\n",
    "#Save the Plots\n",
    "p = pn.panel(high_prob_default_table)\n",
    "p.save('Altman_ZScore_High_Prob_Default_Companies.html', embed = True)"
   ]
  }
 ],
 "metadata": {
  "kernelspec": {
   "display_name": "Python 3 (ipykernel)",
   "language": "python",
   "name": "python3"
  },
  "language_info": {
   "codemirror_mode": {
    "name": "ipython",
    "version": 3
   },
   "file_extension": ".py",
   "mimetype": "text/x-python",
   "name": "python",
   "nbconvert_exporter": "python",
   "pygments_lexer": "ipython3",
   "version": "3.7.13"
  }
 },
 "nbformat": 4,
 "nbformat_minor": 5
}
