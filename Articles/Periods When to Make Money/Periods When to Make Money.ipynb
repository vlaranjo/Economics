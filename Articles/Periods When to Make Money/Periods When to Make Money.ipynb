{
 "cells": [
  {
   "cell_type": "markdown",
   "id": "8bf6770c",
   "metadata": {},
   "source": [
    "# Import Libraries"
   ]
  },
  {
   "cell_type": "code",
   "execution_count": null,
   "id": "09b8a5e1",
   "metadata": {},
   "outputs": [],
   "source": [
    "#DataFrames manipulation\n",
    "import pandas as pd\n",
    "\n",
    "#Library for text replacement\n",
    "import re\n",
    "\n",
    "#Libraries for the Plotting\n",
    "import holoviews as hv\n",
    "from holoviews import opts, dim\n",
    "from holoviews.plotting.links import RangeToolLink\n",
    "from bokeh.models import HoverTool\n",
    "\n",
    "#Librarie to save the plots to html object\n",
    "import panel as pn\n",
    "import param\n",
    "\n",
    "hv.extension('bokeh')"
   ]
  },
  {
   "cell_type": "markdown",
   "id": "6e2116f8",
   "metadata": {},
   "source": [
    "# Download the data from Shiller website"
   ]
  },
  {
   "cell_type": "code",
   "execution_count": null,
   "id": "2d491671",
   "metadata": {},
   "outputs": [],
   "source": [
    "#Download the Data from the Website\n",
    "df = pd.read_excel('http://www.econ.yale.edu/~shiller/data/ie_data.xls', sheet_name = 'Data')\n",
    "\n",
    "#Do some arrangements to the Dataframe\n",
    "#Assign new column names to the dataframe\n",
    "new_column_names = df.iloc[6]\n",
    "df.columns = new_column_names\n",
    "\n",
    "#Remove the first 8 rows from the dataframe\n",
    "df = df.iloc[7:]\n",
    "\n",
    "#Keep only needed data\n",
    "df = df[['Date', 'P']]\n",
    "\n",
    "#Convert the Date to good format\n",
    "df['Date'] = df['Date'].astype(str)\n",
    "df['Date'] = df['Date'].apply(lambda x: re.sub(r'(\\d{4})\\.1$', r'\\g<1>.10', x))\n",
    "df['Date'] = pd.to_datetime(df['Date'].astype(str), format='%Y.%m')\n",
    "\n",
    "#Change Columns names\n",
    "df = df.rename(columns = {'P':'S&P 500 Index'})\n",
    "\n",
    "#Delete last column\n",
    "df = df.iloc[:-1]"
   ]
  },
  {
   "cell_type": "markdown",
   "id": "62c31997",
   "metadata": {},
   "source": [
    "# Create Tables with Performance in different cycles"
   ]
  },
  {
   "cell_type": "code",
   "execution_count": null,
   "id": "5bf845da",
   "metadata": {},
   "outputs": [],
   "source": [
    "#Import table with Cycles\n",
    "cycle_df = pd.read_csv('Cycles Table.csv')\n",
    "\n",
    "#Add columns for Start and End of the cycle based on column Timeframe\n",
    "cycle_df[['Start Year', 'End Year']] = cycle_df['Timeframe'].str.split('-', expand=True)\n",
    "\n",
    "#Convert Start and End Year columns to date\n",
    "cycle_df['Start Year'] = pd.to_datetime(cycle_df['Start Year'], format='%Y')\n",
    "cycle_df['Start Year'] = cycle_df['Start Year'].apply(lambda dt: dt.replace(year=dt.year, month=1, day=1))\n",
    "\n",
    "cycle_df['End Year'] = pd.to_datetime(cycle_df['End Year'], format='%Y')\n",
    "cycle_df['End Year'] = cycle_df['End Year'].apply(lambda dt: dt.replace(year=dt.year, month=1, day=1))"
   ]
  },
  {
   "cell_type": "code",
   "execution_count": null,
   "id": "17966066",
   "metadata": {},
   "outputs": [],
   "source": [
    "#Merge the cycle df with the df - to Add the Price from Start Year and from End Year\n",
    "cycle_df = pd.merge(cycle_df, df, left_on='Start Year', right_on='Date', how='inner').drop(columns = 'Date').rename(columns = {'S&P 500 Index': 'Start Price'})\n",
    "cycle_df = pd.merge(cycle_df, df, left_on='End Year', right_on='Date', how='inner').drop(columns = 'Date').rename(columns = {'S&P 500 Index': 'End Price'})\n",
    "\n",
    "#Convert to Values to Float\n",
    "cycle_df['End Price'] = cycle_df['End Price'].astype(float)\n",
    "cycle_df['Start Price'] = cycle_df['Start Price'].astype(float)\n",
    "\n",
    "#Calculate the Performance\n",
    "cycle_df['Performance (%)'] = round((cycle_df['End Price'] / cycle_df['Start Price'] - 1), 4) * 100\n",
    "\n",
    "#Keep only the needed columns\n",
    "cycle_df = cycle_df[['Cycle Type', 'Timeframe', 'Performance (%)']]"
   ]
  },
  {
   "cell_type": "code",
   "execution_count": null,
   "id": "e3b4ecc7",
   "metadata": {},
   "outputs": [],
   "source": [
    "#Filter for the C-B cycle\n",
    "cb_cycle_df = cycle_df[cycle_df['Cycle Type'] == 'C-B']\n",
    "\n",
    "#Add the Average Performance and Hit Rate to C-B cycle \n",
    "cb_cycle_avg_perf = round(cb_cycle_df['Performance (%)'].mean(), 2)\n",
    "cb_cycle_hit_rate = round(cb_cycle_df[cb_cycle_df['Performance (%)'] > 0]['Performance (%)'].count() / cb_cycle_df['Performance (%)'].count(), 4) * 100\n",
    "\n",
    "cb_avg_perf_row = pd.DataFrame({'Cycle Type': ['C-B'], 'Timeframe': ['Average'], 'Performance (%)': [cb_cycle_avg_perf]})\n",
    "cb_hit_rate_row = pd.DataFrame({'Cycle Type': ['C-B'], 'Timeframe': ['Hit Rate'], 'Performance (%)': [cb_cycle_hit_rate]})\n",
    "\n",
    "cb_cycle_df = cb_cycle_df.append([cb_avg_perf_row, cb_hit_rate_row])"
   ]
  },
  {
   "cell_type": "code",
   "execution_count": null,
   "id": "d0280dd3",
   "metadata": {
    "scrolled": true
   },
   "outputs": [],
   "source": [
    "#Filter for the C-A cycle\n",
    "ca_cycle_df = cycle_df[cycle_df['Cycle Type'] == 'C-A']\n",
    "\n",
    "#Add the Average Performance and Hit Rate to C-A cycle \n",
    "ca_cycle_avg_perf = round(ca_cycle_df['Performance (%)'].mean(), 2)\n",
    "ca_cycle_hit_rate = round(ca_cycle_df[ca_cycle_df['Performance (%)'] > 0]['Performance (%)'].count() / ca_cycle_df['Performance (%)'].count(), 4) * 100\n",
    "\n",
    "ca_avg_perf_row = pd.DataFrame({'Cycle Type': ['C-A'], 'Timeframe': ['Average'], 'Performance (%)': [ca_cycle_avg_perf]})\n",
    "ca_hit_rate_row = pd.DataFrame({'Cycle Type': ['C-A'], 'Timeframe': ['Hit Rate'], 'Performance (%)': [ca_cycle_hit_rate]})\n",
    "\n",
    "ca_cycle_df = ca_cycle_df.append([ca_avg_perf_row, ca_hit_rate_row])"
   ]
  },
  {
   "cell_type": "code",
   "execution_count": null,
   "id": "9be6bd8e",
   "metadata": {},
   "outputs": [],
   "source": [
    "#Filter for the A-C cycle\n",
    "ac_cycle_df = cycle_df[cycle_df['Cycle Type'] == 'A-C']\n",
    "\n",
    "#Add the Average Performance and Hit Rate to A-C cycle \n",
    "ac_cycle_avg_perf = round(ac_cycle_df['Performance (%)'].mean(), 2)\n",
    "ac_cycle_hit_rate = round(ac_cycle_df[ac_cycle_df['Performance (%)'] < 0]['Performance (%)'].count() / ac_cycle_df['Performance (%)'].count(), 4) * 100\n",
    "\n",
    "ac_avg_perf_row = pd.DataFrame({'Cycle Type': ['A-C'], 'Timeframe': ['Average'], 'Performance (%)': [ac_cycle_avg_perf]})\n",
    "ac_hit_rate_row = pd.DataFrame({'Cycle Type': ['A-C'], 'Timeframe': ['Hit Rate'], 'Performance (%)': [ac_cycle_hit_rate]})\n",
    "\n",
    "ac_cycle_df = ac_cycle_df.append([ac_avg_perf_row, ac_hit_rate_row])"
   ]
  },
  {
   "cell_type": "code",
   "execution_count": null,
   "id": "a90f31d0",
   "metadata": {},
   "outputs": [],
   "source": [
    "#********************** Create Holoviews table object for C-B cycle **********************\n",
    "cb_cycle_table = hv.Table(cb_cycle_df).opts(\n",
    "    opts.Table(width=400, height=250, selectable = True, index_position = None, \n",
    "               title = 'Performance from Years of Hard Times to Years of Good Times'))\n",
    "\n",
    "#Save the Plots\n",
    "p = pn.panel(cb_cycle_table)\n",
    "p.save('Performance_Hard_to_Good_Times.html', embed = True)\n",
    "\n",
    "#********************** Create Holoviews table object for C-A cycle **********************\n",
    "ca_cycle_table = hv.Table(ca_cycle_df).opts(\n",
    "    opts.Table(width=400, height=250, selectable = True, index_position = None, \n",
    "               title = 'Performance from Years of Hard Times to Years of Panic'))\n",
    "\n",
    "#Save the Plots\n",
    "p = pn.panel(ca_cycle_table)\n",
    "p.save('Performance_Hard_to_Panic_Times.html', embed = True)\n",
    "\n",
    "#********************** Create Holoviews table object for C-A cycle **********************\n",
    "ac_cycle_table = hv.Table(ac_cycle_df).opts(\n",
    "    opts.Table(width=400, height=250, selectable = True, index_position = None, \n",
    "               title = 'Performance from Years of Panic to Years of Hard Times'))\n",
    "\n",
    "#Save the Plots\n",
    "p = pn.panel(ac_cycle_table)\n",
    "p.save('Performance_Panic_to_Hard_Times.html', embed = True)"
   ]
  },
  {
   "cell_type": "markdown",
   "id": "1766d3b7",
   "metadata": {},
   "source": [
    "# Create Graphs with the Different Strategies"
   ]
  },
  {
   "cell_type": "code",
   "execution_count": null,
   "id": "aa95ab93",
   "metadata": {},
   "outputs": [],
   "source": [
    "#Import the data with the strategies 1,2, and 3\n",
    "strategies_df = pd.read_csv('Cycle Strategies.csv')\n",
    "strategies_df['Date'] = pd.to_datetime(strategies_df['Date'], format = '%m/%d/%Y')"
   ]
  },
  {
   "cell_type": "code",
   "execution_count": null,
   "id": "0efe4f9d",
   "metadata": {
    "scrolled": true
   },
   "outputs": [],
   "source": [
    "#Calculate the Returns for the S&P 500 Index\n",
    "df['Return'] = df['S&P 500 Index'].pct_change().fillna(0)"
   ]
  },
  {
   "cell_type": "code",
   "execution_count": null,
   "id": "3265918b",
   "metadata": {},
   "outputs": [],
   "source": [
    "#Add the Returns to the Strategies dataframe\n",
    "strategies_df = strategies_df.merge(df, on='Date', how='left')\n",
    "\n",
    "#Calculate the Returns for Each strategy in Index format starting at 100\n",
    "strategies_df['Strategy_1'] = (1 + strategies_df['Strategy_1']*strategies_df['Return']).cumprod()*100\n",
    "strategies_df['Strategy_2'] = (1 + strategies_df['Strategy_2']*strategies_df['Return']).cumprod()*100\n",
    "strategies_df['Strategy_3'] = (1 + strategies_df['Strategy_3']*strategies_df['Return']).cumprod()*100\n",
    "strategies_df['Buy_and_Hold'] = (1 + strategies_df['Buy_and_Hold']*strategies_df['Return']).cumprod()*100\n",
    "\n",
    "#Drop Unnecessary columns\n",
    "strategies_df = strategies_df.drop(columns = ['S&P 500 Index', 'Return'])\n",
    "\n",
    "#Round Decimal Places to 2\n",
    "strategies_df = round(strategies_df, 2)\n",
    "\n",
    "#Set Date as Index\n",
    "strategies_df = strategies_df.set_index('Date')"
   ]
  },
  {
   "cell_type": "code",
   "execution_count": null,
   "id": "94eceef1",
   "metadata": {},
   "outputs": [],
   "source": [
    "#Instantiate the Dataframe for the Graph\n",
    "graph_df = strategies_df\n",
    "\n",
    "#Generate all curves\n",
    "def getCurves(n):\n",
    "    for column in graph_df.columns:\n",
    "        hover = HoverTool(tooltips=[(\"Date\", \"@Date{%F}\"), (column, f\"@{column+'{0,}'}\")], formatters={'@Date': 'datetime'})  \n",
    "        curve = hv.Curve(graph_df[column], label = column).opts(opts.Curve(tools=[hover]))\n",
    "        curve = curve.opts(xticks=10)\n",
    "        yield curve\n",
    "        \n",
    "source_curves, target_curves  = [], []\n",
    "for curve in getCurves(2):\n",
    "    \n",
    "    src = curve.relabel('').opts(width=800, height=100, yaxis=None) \n",
    "    tgt = curve.opts(width=800, ylabel = 'Index (Base=100)', logy=True)\n",
    "    source_curves.append(src)\n",
    "    target_curves.append(tgt)\n",
    "    \n",
    "# Link RangeTool for the first curves in the list.\n",
    "RangeToolLink(source_curves[0],target_curves[0], axes=['x','y'])  \n",
    "\n",
    "#Overlay the source and target curves \n",
    "overlaid_plot_src = hv.Overlay(source_curves).relabel('')\n",
    "overlaid_plot_tgt = hv.Overlay(target_curves)\n",
    "\n",
    "overlaid_plot_tgt = overlaid_plot_tgt.relabel('Performance of the Different Strategies').opts(\n",
    "    height=400, legend_position='top')\n",
    "\n",
    "# Layout the plot\n",
    "full_graph = (overlaid_plot_tgt + overlaid_plot_src).cols(1)\n",
    "full_graph = full_graph.opts(merge_tools=False, shared_axes=False)"
   ]
  },
  {
   "cell_type": "code",
   "execution_count": null,
   "id": "e9464007",
   "metadata": {},
   "outputs": [],
   "source": [
    "p = pn.panel(full_graph)\n",
    "p.save('Tritch_Strategy_Backtest_Graph.html', embed = True)"
   ]
  }
 ],
 "metadata": {
  "kernelspec": {
   "display_name": "Python 3 (ipykernel)",
   "language": "python",
   "name": "python3"
  },
  "language_info": {
   "codemirror_mode": {
    "name": "ipython",
    "version": 3
   },
   "file_extension": ".py",
   "mimetype": "text/x-python",
   "name": "python",
   "nbconvert_exporter": "python",
   "pygments_lexer": "ipython3",
   "version": "3.7.13"
  }
 },
 "nbformat": 4,
 "nbformat_minor": 5
}
