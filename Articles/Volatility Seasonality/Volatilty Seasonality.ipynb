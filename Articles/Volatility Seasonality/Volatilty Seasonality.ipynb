{
 "cells": [
  {
   "cell_type": "markdown",
   "id": "e0ef865b",
   "metadata": {},
   "source": [
    "# Import Libraries"
   ]
  },
  {
   "cell_type": "code",
   "execution_count": null,
   "id": "faf56e72",
   "metadata": {},
   "outputs": [],
   "source": [
    "#DataFrames manipulation\n",
    "import pandas as pd\n",
    "\n",
    "#Date manipulation\n",
    "import datetime\n",
    "\n",
    "#Data download from Yahoo Finance\n",
    "from yahooquery import Ticker\n",
    "\n",
    "#Libraries for the Plotting\n",
    "import holoviews as hv\n",
    "from holoviews import opts, dim\n",
    "from bokeh.models import HoverTool\n",
    "\n",
    "#Librarie to save the plots to html object\n",
    "import panel as pn\n",
    "\n",
    "hv.extension('bokeh')"
   ]
  },
  {
   "cell_type": "markdown",
   "id": "fb6d90e4",
   "metadata": {},
   "source": [
    "# Download Data from Yahoo Finance"
   ]
  },
  {
   "cell_type": "code",
   "execution_count": null,
   "id": "0d92c181",
   "metadata": {},
   "outputs": [],
   "source": [
    "#Download the Data from Yahoo Finance\n",
    "tickers = Ticker('^VIX')\n",
    "df = tickers.history(start = '1970-01-01')\n",
    "\n",
    "#Limit the Data to the Close and rearrange columns\n",
    "df = df.reset_index()\n",
    "df = df[['date', 'close']]\n",
    "df = df.rename(columns = {'date': 'Date', 'close': 'VIX'})\n",
    "\n",
    "# Convert the 'Date' column to datetime format\n",
    "df[\"Date\"] = pd.to_datetime(df[\"Date\"], utc = 'true')"
   ]
  },
  {
   "cell_type": "markdown",
   "id": "8e041a83",
   "metadata": {},
   "source": [
    "# Manipulate the Data for the Calendar Year VIX Evolution Graph"
   ]
  },
  {
   "cell_type": "code",
   "execution_count": null,
   "id": "97c91315",
   "metadata": {},
   "outputs": [],
   "source": [
    "#Create a New Object\n",
    "pivot_df = df\n",
    "\n",
    "# Extract year and day components\n",
    "pivot_df[\"Year\"] = pivot_df[\"Date\"].dt.year\n",
    "pivot_df[\"Day\"] = pivot_df[\"Date\"].dt.strftime(\"%m-%d\")  # You can choose a different date format if needed"
   ]
  },
  {
   "cell_type": "code",
   "execution_count": null,
   "id": "ec291dd9",
   "metadata": {},
   "outputs": [],
   "source": [
    "# Pivot the DataFrame\n",
    "pivot_df = pivot_df.pivot(index=\"Day\", columns=\"Year\", values=\"VIX\")\n",
    "\n",
    "# Convert the year columns to strings to use them as dimension names\n",
    "pivot_df.columns = pivot_df.columns.astype(str)\n",
    "\n",
    "#Fill NA's (First with forward fill and then with backward fill)\n",
    "# Apply fillna to all columns except \"2023\"\n",
    "pivot_df[pivot_df.columns.difference(['2023'])] = pivot_df[pivot_df.columns.difference(['2023'])].fillna(method='ffill')\n",
    "pivot_df = pivot_df.fillna(method='bfill')\n",
    "\n",
    "#Reset Index\n",
    "pivot_df = pivot_df.reset_index()"
   ]
  },
  {
   "cell_type": "code",
   "execution_count": null,
   "id": "1cf36c6f",
   "metadata": {},
   "outputs": [],
   "source": [
    "#Add the Average to the Dataframe\n",
    "pivot_df['Average'] = pivot_df.mean(numeric_only=True, axis=1)"
   ]
  },
  {
   "cell_type": "markdown",
   "id": "dcfb1651",
   "metadata": {},
   "source": [
    "# Create the Graph with VIX Average over the Year vs. Current Year"
   ]
  },
  {
   "cell_type": "code",
   "execution_count": null,
   "id": "799cf590",
   "metadata": {},
   "outputs": [],
   "source": [
    "#Limit the DataFrame to just 2023 and the Average\n",
    "graph_df = pivot_df.drop(columns = {'Day'})\n",
    "\n",
    "#Get a New columns for the day of the year\n",
    "graph_df = graph_df.reset_index().rename(columns = {'index': 'Day'})\n",
    "graph_df = graph_df.set_index('Day')"
   ]
  },
  {
   "cell_type": "code",
   "execution_count": null,
   "id": "2264e283",
   "metadata": {},
   "outputs": [],
   "source": [
    "# Generate all curves\n",
    "def getCurves(n):\n",
    "    for column in graph_df.columns: \n",
    "        color = 'black' if column == 'Average' else ('red' if column == '2023' else 'lightgrey')\n",
    "        curve = hv.Curve(graph_df, 'Day', column).opts(\n",
    "            opts.Curve(tools=['hover'], color=color, \n",
    "                       ylabel='VIX', width=700, show_legend=False))\n",
    "        curve = curve.opts(xticks=10)\n",
    "        yield column, curve  # Yield both the column name and the curve\n",
    "\n",
    "source_curves, target_curves  = [], []\n",
    "for col, curve in getCurves(2):\n",
    "    tgt = curve.opts(width=700, ylabel='VIX')\n",
    "    if col in ['2023', 'Average']:\n",
    "        tgt = tgt.relabel(col)  # Set legend label using .relabel()\n",
    "        tgt = tgt.opts(show_legend=True)  # Show legend only for desired columns\n",
    "    target_curves.append(tgt)\n",
    "    \n",
    "overlaid_plot_tgt = hv.Overlay(target_curves)\n",
    "\n",
    "overlaid_plot_tgt = overlaid_plot_tgt.relabel('VIX Index: Current Year vs. Average (1990-2023)').opts(\n",
    "    height=400, legend_position='top')\n",
    "\n",
    "# Layout the plot\n",
    "full_graph = overlaid_plot_tgt"
   ]
  },
  {
   "cell_type": "code",
   "execution_count": null,
   "id": "94531a54",
   "metadata": {},
   "outputs": [],
   "source": [
    "#Save the Plot\n",
    "p = pn.panel(full_graph)\n",
    "p.save('Volatility_Seasonality_Curve_graph.html', embed = True)"
   ]
  },
  {
   "cell_type": "markdown",
   "id": "83abdde8",
   "metadata": {},
   "source": [
    "# Manipulate the Data for the VIX Heatmap"
   ]
  },
  {
   "cell_type": "code",
   "execution_count": null,
   "id": "961bf3bd",
   "metadata": {},
   "outputs": [],
   "source": [
    "#Set column 'Date' as Index \n",
    "heatmap_df = df.set_index('Date')\n",
    "\n",
    "#Resample the dataframe to Months and use the mean value for each month\n",
    "heatmap_df = heatmap_df.resample('M').mean()"
   ]
  },
  {
   "cell_type": "code",
   "execution_count": null,
   "id": "222cf171",
   "metadata": {},
   "outputs": [],
   "source": [
    "#Reset Index to get the following formulas\n",
    "heatmap_df = heatmap_df.reset_index()\n",
    "\n",
    "#Create New columns with month and year for each row\n",
    "heatmap_df['Year'] = pd.DatetimeIndex(heatmap_df['Date']).year\n",
    "heatmap_df['Month'] = pd.DatetimeIndex(heatmap_df['Date']).month\n",
    "\n",
    "#Convert Month from Integer to 3-letter name\n",
    "heatmap_df['Month'] = pd.to_datetime(heatmap_df['Month'], format='%m').dt.month_name().str.slice(stop=3)"
   ]
  },
  {
   "cell_type": "code",
   "execution_count": null,
   "id": "30af63b0",
   "metadata": {},
   "outputs": [],
   "source": [
    "#Convert table to Matrix Format\n",
    "heatmap_df = heatmap_df.groupby(['Year','Month']).mean().unstack()\n",
    "heatmap_df.columns = heatmap_df.columns.get_level_values(1)\n",
    "heatmap_df = heatmap_df[['Jan','Feb','Mar','Apr','May','Jun','Jul','Aug','Sep','Oct','Nov','Dec']]\n",
    "\n",
    "#Sort table by years ascending\n",
    "heatmap_df = heatmap_df.sort_index(ascending=False)\n",
    "\n",
    "#Round values to 2 decimal places\n",
    "heatmap_df = heatmap_df.round(2)"
   ]
  },
  {
   "cell_type": "code",
   "execution_count": null,
   "id": "8a913e13",
   "metadata": {},
   "outputs": [],
   "source": [
    "# Create a New Table with Statistics: Average Max, Mean, %Times Positive, %Times Negative\n",
    "heatmap_stats_df = heatmap_df[0:0]\n",
    "heatmap_stats_df.loc['Min.'] = heatmap_df.min()\n",
    "heatmap_stats_df.loc['Avg.'] = heatmap_df.mean()\n",
    "heatmap_stats_df.loc['Max.'] = heatmap_df.max()\n",
    "\n",
    "heatmap_stats_df = heatmap_stats_df.round(2)"
   ]
  },
  {
   "cell_type": "code",
   "execution_count": null,
   "id": "58d8946b",
   "metadata": {},
   "outputs": [],
   "source": [
    "#Convert the table to a style where Heatmap works\n",
    "\n",
    "#For the Regular Data Series\n",
    "heatmap_df_hv = heatmap_df.reset_index()\n",
    "heatmap_df_hv = pd.melt(heatmap_df_hv, id_vars='Year', var_name='Month', value_name='VIX')\n",
    "heatmap_df_hv = heatmap_df_hv[['Month','Year','VIX']]\n",
    "\n",
    "#For the Statistics\n",
    "heatmap_stats_df_hv = heatmap_stats_df.reset_index()\n",
    "heatmap_stats_df_hv = pd.melt(heatmap_stats_df_hv, id_vars='Year', var_name='Month', value_name='VIX')\n",
    "heatmap_stats_df_hv = heatmap_stats_df_hv[['Month','Year','VIX']]"
   ]
  },
  {
   "cell_type": "markdown",
   "id": "4bfad1b9",
   "metadata": {},
   "source": [
    "# Creating the Heatmaps"
   ]
  },
  {
   "cell_type": "markdown",
   "id": "86058305",
   "metadata": {},
   "source": [
    "## Create the Heatmap with the Regular Data"
   ]
  },
  {
   "cell_type": "code",
   "execution_count": null,
   "id": "b0c04138",
   "metadata": {},
   "outputs": [],
   "source": [
    "#Define the Grids within the Heatmap\n",
    "grid_style = {'grid_line_color': 'black', 'grid_line_width': 100}\n",
    "\n",
    "#Define the Frame around the Heatmap\n",
    "def hook(plot, element):\n",
    "    plot.state.outline_line_width = 2\n",
    "    plot.state.outline_line_color=\"black\"\n",
    "    \n",
    "#Instantiate the heatmap\n",
    "heatmap_vix = hv.HeatMap(heatmap_df_hv, label=\"VIX Index: Average Values by Month and Year\")\n",
    "\n",
    "heatmap_vix = heatmap_vix.opts(\n",
    "    opts.HeatMap(width=700, height=800, xrotation=45, xaxis='top', labelled=[],\n",
    "                 tools=['hover'], cmap='RdYlGn_r', \n",
    "                 yticks = heatmap_df_hv['Year'].to_list(), \n",
    "                 fontsize={'title': 15, 'xticks': 10, 'yticks': 10},\n",
    "                 ))\n",
    "\n",
    "heatmap_vix = heatmap_vix.opts(gridstyle=grid_style, show_grid=True, hooks=[hook])\n",
    "heatmap_vix = heatmap_vix * hv.Labels(heatmap_vix).opts(padding=0)"
   ]
  },
  {
   "cell_type": "code",
   "execution_count": null,
   "id": "cd5fe21c",
   "metadata": {},
   "outputs": [],
   "source": [
    "#Save the Plot\n",
    "p = pn.panel(heatmap_vix)\n",
    "p.save('Volatility_Seasonality_Regular_heatmap.html', embed = True)"
   ]
  },
  {
   "cell_type": "markdown",
   "id": "b8fb0255",
   "metadata": {},
   "source": [
    "## Create the Heatmap with the Statistics"
   ]
  },
  {
   "cell_type": "code",
   "execution_count": null,
   "id": "1eec49ab",
   "metadata": {},
   "outputs": [],
   "source": [
    "#Define the Grids within the Heatmap\n",
    "grid_style = {'grid_line_color': 'black', 'grid_line_width': 100}\n",
    "\n",
    "#Define the Frame around the Heatmap\n",
    "def hook(plot, element):\n",
    "    plot.state.outline_line_width = 2\n",
    "    plot.state.outline_line_color=\"black\"\n",
    "\n",
    "heatmap_rows_list = ['Min.', 'Max.', 'Avg.']\n",
    "\n",
    "heatmaps = []\n",
    "\n",
    "for heatmap_row in heatmap_rows_list:\n",
    "    data = heatmap_stats_df_hv[heatmap_stats_df_hv['Year'] == heatmap_row]\n",
    "    heatmap = hv.HeatMap(data, label=f\"Year {heatmap_row}\")\n",
    "    heatmap = heatmap.opts(\n",
    "        opts.HeatMap(width=700, height=115, xrotation=45, xaxis='top', labelled=[],\n",
    "                     tools=['hover'], cmap='RdYlGn_r',\n",
    "                     fontsize={'title': 15, 'xticks': 10, 'yticks': 10},\n",
    "                     ))\n",
    "    heatmap = heatmap.opts(gridstyle=grid_style, show_grid=True, hooks=[hook])\n",
    "    heatmap = heatmap * hv.Labels(heatmap).opts(padding=0)\n",
    "    \n",
    "    heatmaps.append(heatmap)\n",
    "    \n",
    "overlayed_heatmap = hv.Overlay(heatmaps, label=\"VIX 500 Index: Monthly Seasonality Statistics (1990-2023)\").opts(opts.Overlay(show_legend=False, height=300, ))"
   ]
  },
  {
   "cell_type": "code",
   "execution_count": null,
   "id": "19f4e9a2",
   "metadata": {},
   "outputs": [],
   "source": [
    "#Save the Plot\n",
    "p = pn.panel(overlayed_heatmap)\n",
    "p.save('Volatility_Seasonality_Statistics_heatmap.html', embed = True)"
   ]
  }
 ],
 "metadata": {
  "kernelspec": {
   "display_name": "Python_3.9",
   "language": "python",
   "name": "python_3.9"
  },
  "language_info": {
   "codemirror_mode": {
    "name": "ipython",
    "version": 3
   },
   "file_extension": ".py",
   "mimetype": "text/x-python",
   "name": "python",
   "nbconvert_exporter": "python",
   "pygments_lexer": "ipython3",
   "version": "3.9.13"
  }
 },
 "nbformat": 4,
 "nbformat_minor": 5
}
