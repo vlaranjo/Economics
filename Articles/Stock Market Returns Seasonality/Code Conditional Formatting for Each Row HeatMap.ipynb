{
 "cells": [
  {
   "cell_type": "markdown",
   "metadata": {},
   "source": [
    "# Import Libraries"
   ]
  },
  {
   "cell_type": "code",
   "execution_count": null,
   "metadata": {},
   "outputs": [],
   "source": [
    "#DataFrames manipulation\n",
    "import pandas as pd\n",
    "\n",
    "#System Libraries\n",
    "from datetime import datetime, timedelta\n",
    "from dateutil.relativedelta import relativedelta, FR\n",
    "import os\n",
    "import shutil\n",
    "\n",
    "#Libraries for the Plotting\n",
    "import holoviews as hv\n",
    "from holoviews import opts, dim\n",
    "\n",
    "#Libraries to save the plots to html object\n",
    "import panel as pn\n",
    "\n",
    "hv.extension('bokeh')"
   ]
  },
  {
   "cell_type": "markdown",
   "metadata": {},
   "source": [
    "# Yahoo Finance Download"
   ]
  },
  {
   "cell_type": "code",
   "execution_count": null,
   "metadata": {},
   "outputs": [],
   "source": [
    "from fake_useragent import UserAgent\n",
    "from yahooquery import Ticker\n",
    "from tqdm import tqdm"
   ]
  },
  {
   "cell_type": "code",
   "execution_count": null,
   "metadata": {},
   "outputs": [],
   "source": [
    "#Create a Data Folder\n",
    "Data_folder = os.path.abspath(os.getcwd() +'/Data/')\n",
    "if not os.path.exists(Data_folder):\n",
    "    os.makedirs(Data_folder)\n",
    "\n",
    "#Clean older files and folders in the Data Folder\n",
    "filelist = [ f for f in os.listdir(Data_folder)]\n",
    "for f in filelist:\n",
    "    shutil.rmtree(os.path.join(Data_folder, f), ignore_errors=True)\n",
    "\n",
    "filelist = [ f for f in os.listdir(Data_folder)]\n",
    "for f in filelist:\n",
    "    os.remove(os.path.join(Data_folder, f))\n",
    "\n",
    "#Create New Folder for Stock Indices\n",
    "stock_indices_folder = os.path.join(Data_folder, 'Stock Indices')\n",
    "if not os.path.exists(stock_indices_folder):\n",
    "    os.makedirs(stock_indices_folder)"
   ]
  },
  {
   "cell_type": "code",
   "execution_count": null,
   "metadata": {},
   "outputs": [],
   "source": [
    "#Instantiate the Indices data\n",
    "indices_data = pd.read_csv('Sector_Indices.csv') \n",
    "\n",
    "#Create Indices variables and Manage the Column Data to create new variables\n",
    "indices_tickers = indices_data['Yahoo Symbol']\n",
    "\n",
    "last_date = datetime.now() + relativedelta(weekday=FR(-1)) #last friday\n",
    "init_date = (last_date - timedelta(days=366*50)).strftime(\"%Y-%m-%d\")\n",
    "frequency = '1d' #Author prefers weekly; '1d' for daily"
   ]
  },
  {
   "cell_type": "code",
   "execution_count": null,
   "metadata": {},
   "outputs": [],
   "source": [
    "#Run code for the tickers in Index Tickers list\n",
    "for ticker in tqdm(indices_tickers):\n",
    "    try:\n",
    "\n",
    "        #Download Ticker Price Data\n",
    "        ua = UserAgent()\n",
    "        stock = Ticker(ticker, user_agent=ua.random)\n",
    "        price_table = stock.history(start = init_date, interval=frequency)\n",
    "        price_table = price_table.reset_index()\n",
    "        price_table = price_table.rename(columns = {'open':ticker})\n",
    "        price_table = price_table.set_index('date')\n",
    "        price_table = pd.DataFrame(price_table[ticker])\n",
    "\n",
    "        #Check Ticker currency - In case is not USD convert to USD\n",
    "        currency = stock.price[ticker]['currency']\n",
    "        if currency == 'USD':\n",
    "            price_table = price_table\n",
    "            price_table.to_csv(os.path.join(stock_indices_folder,ticker)+'_Table.csv')\n",
    "        elif currency != 'currency':\n",
    "            currency = stock.price[ticker]['currency']\n",
    "            currency_symbol = currency + 'USD=X'\n",
    "\n",
    "            ua = UserAgent()\n",
    "            exchange_rate = Ticker(currency_symbol, user_agent=ua.random)\n",
    "            exchange_rate_table = exchange_rate.history(start = init_date , interval='1d')\n",
    "            exchange_rate_table = exchange_rate_table.reset_index()\n",
    "            exchange_rate_table = exchange_rate_table.rename(columns = {'open':currency})\n",
    "            exchange_rate_table = exchange_rate_table.set_index('date')\n",
    "            exchange_rate_table = pd.DataFrame(exchange_rate_table[currency])\n",
    "\n",
    "            #Merge the Ticker Price Table with the Exchange rate Table\n",
    "            price_table = price_table.merge(exchange_rate_table, on ='date')\n",
    "            price_table = price_table.multiply(price_table[currency], axis=0) #Convert to USD\n",
    "            price_table = price_table.round(2).drop(columns=currency)\n",
    "            price_table.to_csv(os.path.join(stock_indices_folder,ticker)+'_Table.csv')\n",
    "    except:\n",
    "        continue"
   ]
  },
  {
   "cell_type": "code",
   "execution_count": null,
   "metadata": {},
   "outputs": [],
   "source": [
    "#Join All the Ticker Data Files into a Table\n",
    "files= os.listdir(stock_indices_folder)\n",
    "\n",
    "indices_data_table = pd.read_csv(os.path.join(stock_indices_folder,files[0]))\n",
    "\n",
    "for file in files[1:]:\n",
    "    df = pd.read_csv(os.path.join(stock_indices_folder,file)) \n",
    "    indices_data_table = indices_data_table.merge(df, on='date', how='left')\n",
    "\n",
    "#Rearrange the DataFrame format: fill na's, rounding, etc.\n",
    "indices_data_table = indices_data_table.fillna(method='bfill')\n",
    "indices_data_table = indices_data_table.round(2)\n",
    "indices_data_table = indices_data_table.set_index('date')\n",
    "indices_data_table = indices_data_table.head(-1)\n",
    "\n",
    "indices_data_table.to_csv(os.path.join(Data_folder,'Stock_Indices_Data_Table.csv'))"
   ]
  },
  {
   "cell_type": "code",
   "execution_count": null,
   "metadata": {},
   "outputs": [],
   "source": [
    "#Convert to Monthly Data\n",
    "indices_data_table.index = pd.to_datetime(indices_data_table.index)\n",
    "indices_data_table = indices_data_table.resample('M').last()\n",
    "\n",
    "#Drop Last row\n",
    "indices_data_table = indices_data_table[:-1]\n",
    "\n",
    "#Get Percentage Change\n",
    "indices_data_table = indices_data_table.pct_change()*100\n",
    "indices_data_table = indices_data_table[1:]\n",
    "\n",
    "#Rename Headers from Indices' Tickers to Names\n",
    "indices_data_table = indices_data_table.rename(columns=dict(zip(indices_data['Yahoo Symbol'], indices_data['Name'])))"
   ]
  },
  {
   "cell_type": "markdown",
   "metadata": {},
   "source": [
    "# Manipulate the Data for the Heatmap"
   ]
  },
  {
   "cell_type": "code",
   "execution_count": null,
   "metadata": {},
   "outputs": [],
   "source": [
    "#Limit the Table to S&P 500 Index\n",
    "spx_df = pd.DataFrame(indices_data_table['S&P 500 Index'])\n",
    "\n",
    "#Drop the NA's and Reset Index\n",
    "spx_df = spx_df.replace([np.inf, -np.inf], np.nan).dropna()\n",
    "spx_df = spx_df.reset_index()\n",
    "\n",
    "#Limit the Dataframe to start at the beginning of 1988\n",
    "define_first_value = spx_df[spx_df['date'] == '1988-01-31'].index[0]\n",
    "spx_df = spx_df[define_first_value:]\n",
    "\n",
    "#Create New columns with month and year for each row\n",
    "spx_df['year'] = pd.DatetimeIndex(spx_df['date']).year\n",
    "spx_df['month'] = pd.DatetimeIndex(spx_df['date']).month\n",
    "\n",
    "#Convert Month from Integer to 3-letter name\n",
    "spx_df['month'] = pd.to_datetime(spx_df['month'], format='%m').dt.month_name().str.slice(stop=3)"
   ]
  },
  {
   "cell_type": "code",
   "execution_count": null,
   "metadata": {
    "scrolled": true
   },
   "outputs": [],
   "source": [
    "#Convert table to Matrix Format\n",
    "spx_df = spx_df.groupby(['year','month']).mean().unstack()\n",
    "spx_df.columns = spx_df.columns.get_level_values(1)\n",
    "spx_df = spx_df[['Jan','Feb','Mar','Apr','May','Jun','Jul','Aug','Sep','Oct','Nov','Dec']]\n",
    "\n",
    "#Sort table by years ascending\n",
    "spx_df = spx_df.sort_index(ascending=False)\n",
    "\n",
    "#Round values t 2 decimal cases\n",
    "spx_df = spx_df.round(2)"
   ]
  },
  {
   "cell_type": "code",
   "execution_count": null,
   "metadata": {},
   "outputs": [],
   "source": [
    "# Create a New Table with Statistics: Average Max, Mean, %Times Positive, %Times Negative\n",
    "spx_stats_df = spx_df[0:0]\n",
    "spx_stats_df.loc['% Neg.'] = (spx_df<0).sum() / (spx_df.count())*100\n",
    "spx_stats_df.loc['% Pos.'] = (spx_df>=0).sum() / (spx_df.count())*100\n",
    "spx_stats_df.loc['Min.'] = spx_df.min()\n",
    "spx_stats_df.loc['Avg.'] = spx_df.mean()\n",
    "spx_stats_df.loc['Max.'] = spx_df.max()\n",
    "\n",
    "spx_stats_df = spx_stats_df.round(2)"
   ]
  },
  {
   "cell_type": "code",
   "execution_count": null,
   "metadata": {
    "scrolled": true
   },
   "outputs": [],
   "source": [
    "#Convert the table to a style where Heatmap works\n",
    "spx_stats_df_hv = spx_stats_df.reset_index()\n",
    "spx_stats_df_hv = pd.melt(spx_stats_df_hv, id_vars='year', var_name='Month', value_name='Returns')\n",
    "spx_stats_df_hv = spx_stats_df_hv[['Month','year','Returns']]"
   ]
  },
  {
   "cell_type": "markdown",
   "metadata": {},
   "source": [
    "# Creating the HeatMap"
   ]
  },
  {
   "cell_type": "code",
   "execution_count": null,
   "metadata": {},
   "outputs": [],
   "source": [
    "#Define the Grids within the Heatmap\n",
    "grid_style = {'grid_line_color': 'black', 'grid_line_width': 100}\n",
    "\n",
    "#Define the Frame around the Heatmap\n",
    "def hook(plot, element):\n",
    "    plot.state.outline_line_width = 2\n",
    "    plot.state.outline_line_color=\"black\"\n",
    "\n",
    "heatmap_rows_list = ['% Pos.', 'Min.', 'Max.', 'Avg.']\n",
    "\n",
    "heatmaps = []\n",
    "\n",
    "for heatmap_row in heatmap_rows_list:\n",
    "    data = spx_stats_df_hv[spx_stats_df_hv['year'] == heatmap_row]\n",
    "    heatmap = hv.HeatMap(data, label=f\"Year {heatmap_row}\")\n",
    "    heatmap = heatmap.opts(\n",
    "        opts.HeatMap(width=700, height=115, xrotation=45, xaxis='top', labelled=[],\n",
    "                     tools=['hover'], cmap='RdYlGn',\n",
    "                     fontsize={'title': 15, 'xticks': 10, 'yticks': 10},\n",
    "                     ))\n",
    "    heatmap = heatmap.opts(gridstyle=grid_style, show_grid=True, hooks=[hook])\n",
    "    heatmap = heatmap * hv.Labels(heatmap).opts(padding=0)\n",
    "    \n",
    "    heatmaps.append(heatmap)\n",
    "    \n",
    "overlayed_heatmap = hv.Overlay(heatmaps, label=\"S&P 500 Index - Monthly Seasonality Statistics (1988-2023)\").opts(opts.Overlay(show_legend=False, height=300, ))\n"
   ]
  },
  {
   "cell_type": "code",
   "execution_count": null,
   "metadata": {},
   "outputs": [],
   "source": [
    "heatmap_spx_stats_panel = pn.panel(overlayed_heatmap)\n",
    "heatmap_spx_stats_panel.save('Heatmap_SPX_Stats.html')"
   ]
  }
 ],
 "metadata": {
  "kernelspec": {
   "display_name": "Python 3 (ipykernel)",
   "language": "python",
   "name": "python3"
  },
  "language_info": {
   "codemirror_mode": {
    "name": "ipython",
    "version": 3
   },
   "file_extension": ".py",
   "mimetype": "text/x-python",
   "name": "python",
   "nbconvert_exporter": "python",
   "pygments_lexer": "ipython3",
   "version": "3.7.13"
  }
 },
 "nbformat": 4,
 "nbformat_minor": 4
}
